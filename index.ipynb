{
 "cells": [
  {
   "cell_type": "markdown",
   "metadata": {},
   "source": [
    "# Scraping Concerts - Lab\n",
    "\n",
    "## Introduction\n",
    "\n",
    "Now that you've seen how to scrape a simple website, it's time to again practice those skills on a full-fledged site!\n",
    "\n",
    "In this lab, you'll practice your scraping skills on an online music magazine and events website called Resident Advisor.\n",
    "\n",
    "## Objectives\n",
    "\n",
    "You will be able to:\n",
    "* Create a full scraping pipeline that involves traversing over many pages of a website, dealing with errors and storing data"
   ]
  },
  {
   "cell_type": "markdown",
   "metadata": {},
   "source": [
    "## View the Website\n",
    "\n",
    "For this lab, you'll be scraping the https://ra.co website. For reproducibility we will use the [Internet Archive](https://archive.org/) Wayback Machine to retrieve a version of this page from March 2019.\n",
    "\n",
    "Start by navigating to the events page [here](https://web.archive.org/web/20210325230938/https://ra.co/events/us/newyork?week=2019-03-30) in your browser. It should look something like this:\n",
    "\n",
    "<img src=\"images/ra_top.png\">"
   ]
  },
  {
   "cell_type": "markdown",
   "metadata": {},
   "source": [
    "## Open the Inspect Element Feature\n",
    "\n",
    "Next, open the inspect element feature from your web browser in order to preview the underlying HTML associated with the page."
   ]
  },
  {
   "cell_type": "markdown",
   "metadata": {},
   "source": [
    "## Write a Function to Scrape all of the Events on the Given Page\n",
    "\n",
    "The function should return a Pandas DataFrame with columns for the `Event_Name`, `Venue`, and `Number_of_Attendees`.\n",
    "\n",
    "Start by importing the relevant libraries, making a request to the relevant URL, and exploring the contents of the response with `BeautifulSoup`. Then fill in the `scrape_events` function with the relevant code."
   ]
  },
  {
   "cell_type": "code",
   "execution_count": 1,
   "metadata": {},
   "outputs": [],
   "source": [
    "# Relevant imports\n",
    "import requests\n",
    "from bs4 import BeautifulSoup\n",
    "import numpy as np\n",
    "import pandas as pd\n",
    "import time"
   ]
  },
  {
   "cell_type": "code",
   "execution_count": 2,
   "metadata": {},
   "outputs": [],
   "source": [
    "EVENTS_PAGE_URL = \"https://web.archive.org/web/20210326225933/https://ra.co/events/us/newyork?week=2019-03-30\"\n",
    "\n",
    "# Exploration: making the request and parsing the response\n",
    "response = requests.get(EVENTS_PAGE_URL)\n",
    "soup = BeautifulSoup(response.content, \"html.parser\")"
   ]
  },
  {
   "cell_type": "code",
   "execution_count": 3,
   "metadata": {},
   "outputs": [],
   "source": [
    "# Find the container with event listings in it\n",
    "event_container = soup.find('li', class_='Column-sc-18hsrnn-0 gnwWng')"
   ]
  },
  {
   "cell_type": "code",
   "execution_count": 4,
   "metadata": {},
   "outputs": [
    {
     "data": {
      "text/plain": [
       "7"
      ]
     },
     "execution_count": 4,
     "metadata": {},
     "output_type": "execute_result"
    }
   ],
   "source": [
    "# Find a list of events by date within that container\n",
    "# There are 7 days with events lists in each day.\n",
    "# each day has similar class starting 'Box-omzyfs-0' and ending with 6 characters 'xxxxxx'\n",
    "# can use regular expression here to list these 7 days\n",
    "import re\n",
    "regex = re.compile('Box-omzyfs-0 (?=.{6}$)')\n",
    "events_all = event_container.find_all('div', {'class': regex}, recursive=False)\n",
    "len(events_all)"
   ]
  },
  {
   "cell_type": "code",
   "execution_count": 5,
   "metadata": {},
   "outputs": [
    {
     "data": {
      "text/plain": [
       "'Sat, 30 Mar'"
      ]
     },
     "execution_count": 5,
     "metadata": {},
     "output_type": "execute_result"
    }
   ],
   "source": [
    "# Extract the date (e.g. Sat, 30 Mar) from one of those containers\n",
    "# take the first item from the list events_all and find the head h3 has the date and starting with '/'\n",
    "\n",
    "# Grabbing just one to practice on\n",
    "date = events_all[0].find('h3', class_='Box-omzyfs-0 Heading__StyledBox-sc-120pa9w-0 fwuoVk').text[1:]\n",
    "date"
   ]
  },
  {
   "cell_type": "code",
   "execution_count": 6,
   "metadata": {},
   "outputs": [
    {
     "data": {
      "text/plain": [
       "'UnterMania II'"
      ]
     },
     "execution_count": 6,
     "metadata": {},
     "output_type": "execute_result"
    }
   ],
   "source": [
    "# Extract the name from one of the events within that container\n",
    "name = events_all[0].find('a', attrs = {'data-test-id': 'event-listing-heading'}).text\n",
    "name"
   ]
  },
  {
   "cell_type": "code",
   "execution_count": 7,
   "metadata": {},
   "outputs": [
    {
     "data": {
      "text/plain": [
       "[<li class=\"Column-sc-18hsrnn-0 jHShKh\"><div class=\"Box-omzyfs-0 sc-AxjAm dqkjhR\" data-test-id=\"ticketed-event\"><h3 class=\"Box-omzyfs-0 Heading__StyledBox-sc-120pa9w-0 fhMVGI\"><a class=\"Link__AnchorWrapper-k7o46r-1 bmWkiB\" data-test-id=\"event-listing-heading\" data-tracking-id=\"/events/1234892\" href=\"/web/20210326225933/https://ra.co/events/1234892\"><span class=\"Text-sc-1t0gn2o-0 Link__StyledLink-k7o46r-0 fAmOyf\" color=\"primary\" data-test-id=\"event-listing-heading\" data-tracking-id=\"/events/1234892\" font-weight=\"normal\" href=\"/events/1234892\">UnterMania II</span></a></h3><div class=\"Box-omzyfs-0 sc-AxjAm jVLhoy\"><span class=\"Text-sc-1t0gn2o-0 dWOMtb\" color=\"primary\" font-weight=\"normal\">Mary Yuzovskaya, Manni Dee, Umfang, Juana, The Lady Machine</span></div><div class=\"Box-omzyfs-0 sc-AxjAm fCFvgO\"><div class=\"Box-omzyfs-0 sc-AxjAm ebaaK\"><div class=\"Box-omzyfs-0 sc-AxjAm fOOuYI\" height=\"30\"><div class=\"Box-omzyfs-0 sc-AxjAm hoMiiH\" color=\"accent\" height=\"24\" width=\"24\"><svg aria-label=\"Location\" height=\"100%\" viewbox=\"0 0 24 24\" width=\"100%\"><g fill=\"none\" fill-rule=\"evenodd\"><path d=\"M0 0h24v24H0z\" fill=\"none\"></path><path d=\"M13.613 15.075c.26-.501.505-.988.732-1.456C15.393 11.456 16 9.785 16 9a4 4 0 10-8 0c0 .785.607 2.456 1.655 4.619.227.468.472.955.732 1.456A83.615 83.615 0 0012 18.022c.55-.962 1.1-1.96 1.613-2.947zM18 9c0 1.2-.67 3.045-1.855 5.491-.236.486-.49.99-.758 1.506a86.17 86.17 0 01-2.532 4.522 1 1 0 01-1.71 0 85.564 85.564 0 01-.793-1.35 86.17 86.17 0 01-1.74-3.172 60.318 60.318 0 01-.757-1.506C6.67 12.045 6 10.201 6 9a6 6 0 016-6 6 6 0 016 6z\" fill=\"currentColor\"></path><path d=\"M13 9a1 1 0 11-2 0 1 1 0 112 0\" fill=\"currentColor\"></path></g></svg></div><span class=\"Text-sc-1t0gn2o-0 hhfigA\" color=\"primary\" font-weight=\"normal\">TBA - New York</span></div><div class=\"Box-omzyfs-0 sc-AxjAm jYikCb\" height=\"30\"><div class=\"Box-omzyfs-0 sc-AxjAm faxXyr\" color=\"secondary\" height=\"24\" width=\"24\"><svg aria-label=\"Ticket\" height=\"100%\" viewbox=\"0 0 24 24\" width=\"100%\"><g fill=\"none\" fill-rule=\"evenodd\"><path d=\"M0 0h24v24H0z\" fill=\"none\"></path><path d=\"M8.243 6.827a1 1 0 010-1.414l2.12-2.12a1 1 0 011.415 0l8.485 8.484a1 1 0 010 1.414l-2.12 2.121a1 1 0 01-1.415 0 1 1 0 00-1.415 1.414 1 1 0 010 1.414l-2.12 2.123a1 1 0 01-1.415 0l-8.485-8.486a1 1 0 010-1.414l2.122-2.121a1 1 0 011.414 0 1.001 1.001 0 001.414-1.415zm2-.586a3.002 3.002 0 01-4 4.002l-.829.828 7.07 7.07.829-.828a3.002 3.002 0 014.001-4.001l.828-.828-7.071-7.07-.828.827z\" fill=\"currentColor\"></path></g></svg></div><a class=\"Link__AnchorWrapper-k7o46r-1 cIDdag\" color=\"secondary\" href=\"/web/20210326225933/https://ra.co/events/1234892#tickets\"><span class=\"Text-sc-1t0gn2o-0 Link__StyledLink-k7o46r-0 iHZuSI\" color=\"secondary\" font-weight=\"normal\" href=\"/events/1234892#tickets\"><span class=\"Box-omzyfs-0 kMopVb\" display=\"[object Object]\">RA</span><span class=\"Box-omzyfs-0 fQMHMH\" display=\"[object Object]\">RA Tickets</span></span></a></div></div><div class=\"Box-omzyfs-0 sc-AxjAm jYikCb\" height=\"30\"><div class=\"Box-omzyfs-0 sc-AxjAm hoMiiH\" color=\"accent\" height=\"24\" width=\"24\"><svg aria-label=\"Person\" height=\"100%\" viewbox=\"0 0 24 24\" width=\"100%\"><g fill=\"none\" fill-rule=\"evenodd\"><path d=\"M0 0h24v24H0z\" fill=\"none\"></path><path d=\"M14 8a2 2 0 10-4 0 2 2 0 004 0zm2 0a4 4 0 11-8 0 4 4 0 018 0zM7 19a1 1 0 01-2 0 7 7 0 0114 0 1 1 0 01-2 0 5 5 0 00-10 0z\" fill=\"currentColor\"></path></g></svg></div><span class=\"Text-sc-1t0gn2o-0 hhfigA\" color=\"primary\" font-weight=\"normal\">457</span></div></div></div></li>,\n",
       " <li class=\"Column-sc-18hsrnn-0 jHShKh\"><div class=\"Box-omzyfs-0 sc-AxjAm dqkjhR\" data-test-id=\"ticketed-event\"><h3 class=\"Box-omzyfs-0 Heading__StyledBox-sc-120pa9w-0 fhMVGI\"><a class=\"Link__AnchorWrapper-k7o46r-1 bmWkiB\" data-test-id=\"event-listing-heading\" data-tracking-id=\"/events/1202024\" href=\"/web/20210326225933/https://ra.co/events/1202024\"><span class=\"Text-sc-1t0gn2o-0 Link__StyledLink-k7o46r-0 fAmOyf\" color=\"primary\" data-test-id=\"event-listing-heading\" data-tracking-id=\"/events/1202024\" font-weight=\"normal\" href=\"/events/1202024\">Cocoon New York: Sven Väth, Ilario Alicante, Butch &amp; Taimur</span></a></h3><div class=\"Box-omzyfs-0 sc-AxjAm jVLhoy\"><span class=\"Text-sc-1t0gn2o-0 dWOMtb\" color=\"primary\" font-weight=\"normal\">Sven Vath, Butch, Taimur, Ilario Alicante</span></div><div class=\"Box-omzyfs-0 sc-AxjAm fCFvgO\"><div class=\"Box-omzyfs-0 sc-AxjAm ebaaK\"><div class=\"Box-omzyfs-0 sc-AxjAm fOOuYI\" height=\"30\"><div class=\"Box-omzyfs-0 sc-AxjAm hoMiiH\" color=\"accent\" height=\"24\" width=\"24\"><svg aria-label=\"Location\" height=\"100%\" viewbox=\"0 0 24 24\" width=\"100%\"><g fill=\"none\" fill-rule=\"evenodd\"><path d=\"M0 0h24v24H0z\" fill=\"none\"></path><path d=\"M13.613 15.075c.26-.501.505-.988.732-1.456C15.393 11.456 16 9.785 16 9a4 4 0 10-8 0c0 .785.607 2.456 1.655 4.619.227.468.472.955.732 1.456A83.615 83.615 0 0012 18.022c.55-.962 1.1-1.96 1.613-2.947zM18 9c0 1.2-.67 3.045-1.855 5.491-.236.486-.49.99-.758 1.506a86.17 86.17 0 01-2.532 4.522 1 1 0 01-1.71 0 85.564 85.564 0 01-.793-1.35 86.17 86.17 0 01-1.74-3.172 60.318 60.318 0 01-.757-1.506C6.67 12.045 6 10.201 6 9a6 6 0 016-6 6 6 0 016 6z\" fill=\"currentColor\"></path><path d=\"M13 9a1 1 0 11-2 0 1 1 0 112 0\" fill=\"currentColor\"></path></g></svg></div><a class=\"Link__AnchorWrapper-k7o46r-1 cRvOHm\" color=\"primary\" href=\"/web/20210326225933/https://ra.co/clubs/103503\"><span class=\"Text-sc-1t0gn2o-0 Link__StyledLink-k7o46r-0 knBJCg\" color=\"primary\" font-weight=\"normal\" href=\"/clubs/103503\">99 Scott Ave</span></a></div><div class=\"Box-omzyfs-0 sc-AxjAm jYikCb\" height=\"30\"><div class=\"Box-omzyfs-0 sc-AxjAm faxXyr\" color=\"secondary\" height=\"24\" width=\"24\"><svg aria-label=\"Ticket\" height=\"100%\" viewbox=\"0 0 24 24\" width=\"100%\"><g fill=\"none\" fill-rule=\"evenodd\"><path d=\"M0 0h24v24H0z\" fill=\"none\"></path><path d=\"M8.243 6.827a1 1 0 010-1.414l2.12-2.12a1 1 0 011.415 0l8.485 8.484a1 1 0 010 1.414l-2.12 2.121a1 1 0 01-1.415 0 1 1 0 00-1.415 1.414 1 1 0 010 1.414l-2.12 2.123a1 1 0 01-1.415 0l-8.485-8.486a1 1 0 010-1.414l2.122-2.121a1 1 0 011.414 0 1.001 1.001 0 001.414-1.415zm2-.586a3.002 3.002 0 01-4 4.002l-.829.828 7.07 7.07.829-.828a3.002 3.002 0 014.001-4.001l.828-.828-7.071-7.07-.828.827z\" fill=\"currentColor\"></path></g></svg></div><a class=\"Link__AnchorWrapper-k7o46r-1 cIDdag\" color=\"secondary\" href=\"/web/20210326225933/https://ra.co/events/1202024#tickets\"><span class=\"Text-sc-1t0gn2o-0 Link__StyledLink-k7o46r-0 iHZuSI\" color=\"secondary\" font-weight=\"normal\" href=\"/events/1202024#tickets\"><span class=\"Box-omzyfs-0 kMopVb\" display=\"[object Object]\">RA</span><span class=\"Box-omzyfs-0 fQMHMH\" display=\"[object Object]\">RA Tickets</span></span></a></div></div><div class=\"Box-omzyfs-0 sc-AxjAm jYikCb\" height=\"30\"><div class=\"Box-omzyfs-0 sc-AxjAm hoMiiH\" color=\"accent\" height=\"24\" width=\"24\"><svg aria-label=\"Person\" height=\"100%\" viewbox=\"0 0 24 24\" width=\"100%\"><g fill=\"none\" fill-rule=\"evenodd\"><path d=\"M0 0h24v24H0z\" fill=\"none\"></path><path d=\"M14 8a2 2 0 10-4 0 2 2 0 004 0zm2 0a4 4 0 11-8 0 4 4 0 018 0zM7 19a1 1 0 01-2 0 7 7 0 0114 0 1 1 0 01-2 0 5 5 0 00-10 0z\" fill=\"currentColor\"></path></g></svg></div><span class=\"Text-sc-1t0gn2o-0 hhfigA\" color=\"primary\" font-weight=\"normal\">407</span></div></div></div></li>,\n",
       " <li class=\"Column-sc-18hsrnn-0 jHShKh\"><div class=\"Box-omzyfs-0 sc-AxjAm dqkjhR\" data-test-id=\"ticketed-event\"><h3 class=\"Box-omzyfs-0 Heading__StyledBox-sc-120pa9w-0 fhMVGI\"><a class=\"Link__AnchorWrapper-k7o46r-1 bmWkiB\" data-test-id=\"event-listing-heading\" data-tracking-id=\"/events/1233696\" href=\"/web/20210326225933/https://ra.co/events/1233696\"><span class=\"Text-sc-1t0gn2o-0 Link__StyledLink-k7o46r-0 fAmOyf\" color=\"primary\" data-test-id=\"event-listing-heading\" data-tracking-id=\"/events/1233696\" font-weight=\"normal\" href=\"/events/1233696\">Horse Meat Disco - New York Residency</span></a></h3><div class=\"Box-omzyfs-0 sc-AxjAm jVLhoy\"><span class=\"Text-sc-1t0gn2o-0 dWOMtb\" color=\"primary\" font-weight=\"normal\">Horse Meat Disco, The Carry Nation, Amber Valentine</span></div><div class=\"Box-omzyfs-0 sc-AxjAm fCFvgO\"><div class=\"Box-omzyfs-0 sc-AxjAm ebaaK\"><div class=\"Box-omzyfs-0 sc-AxjAm fOOuYI\" height=\"30\"><div class=\"Box-omzyfs-0 sc-AxjAm hoMiiH\" color=\"accent\" height=\"24\" width=\"24\"><svg aria-label=\"Location\" height=\"100%\" viewbox=\"0 0 24 24\" width=\"100%\"><g fill=\"none\" fill-rule=\"evenodd\"><path d=\"M0 0h24v24H0z\" fill=\"none\"></path><path d=\"M13.613 15.075c.26-.501.505-.988.732-1.456C15.393 11.456 16 9.785 16 9a4 4 0 10-8 0c0 .785.607 2.456 1.655 4.619.227.468.472.955.732 1.456A83.615 83.615 0 0012 18.022c.55-.962 1.1-1.96 1.613-2.947zM18 9c0 1.2-.67 3.045-1.855 5.491-.236.486-.49.99-.758 1.506a86.17 86.17 0 01-2.532 4.522 1 1 0 01-1.71 0 85.564 85.564 0 01-.793-1.35 86.17 86.17 0 01-1.74-3.172 60.318 60.318 0 01-.757-1.506C6.67 12.045 6 10.201 6 9a6 6 0 016-6 6 6 0 016 6z\" fill=\"currentColor\"></path><path d=\"M13 9a1 1 0 11-2 0 1 1 0 112 0\" fill=\"currentColor\"></path></g></svg></div><a class=\"Link__AnchorWrapper-k7o46r-1 cRvOHm\" color=\"primary\" href=\"/web/20210326225933/https://ra.co/clubs/139960\"><span class=\"Text-sc-1t0gn2o-0 Link__StyledLink-k7o46r-0 knBJCg\" color=\"primary\" font-weight=\"normal\" href=\"/clubs/139960\">Elsewhere</span></a></div><div class=\"Box-omzyfs-0 sc-AxjAm jYikCb\" height=\"30\"><div class=\"Box-omzyfs-0 sc-AxjAm faxXyr\" color=\"secondary\" height=\"24\" width=\"24\"><svg aria-label=\"Ticket\" height=\"100%\" viewbox=\"0 0 24 24\" width=\"100%\"><g fill=\"none\" fill-rule=\"evenodd\"><path d=\"M0 0h24v24H0z\" fill=\"none\"></path><path d=\"M8.243 6.827a1 1 0 010-1.414l2.12-2.12a1 1 0 011.415 0l8.485 8.484a1 1 0 010 1.414l-2.12 2.121a1 1 0 01-1.415 0 1 1 0 00-1.415 1.414 1 1 0 010 1.414l-2.12 2.123a1 1 0 01-1.415 0l-8.485-8.486a1 1 0 010-1.414l2.122-2.121a1 1 0 011.414 0 1.001 1.001 0 001.414-1.415zm2-.586a3.002 3.002 0 01-4 4.002l-.829.828 7.07 7.07.829-.828a3.002 3.002 0 014.001-4.001l.828-.828-7.071-7.07-.828.827z\" fill=\"currentColor\"></path></g></svg></div><a class=\"Link__AnchorWrapper-k7o46r-1 cIDdag\" color=\"secondary\" href=\"/web/20210326225933/https://ra.co/events/1233696#tickets\"><span class=\"Text-sc-1t0gn2o-0 Link__StyledLink-k7o46r-0 iHZuSI\" color=\"secondary\" font-weight=\"normal\" href=\"/events/1233696#tickets\"><span class=\"Box-omzyfs-0 kMopVb\" display=\"[object Object]\">RA</span><span class=\"Box-omzyfs-0 fQMHMH\" display=\"[object Object]\">RA Tickets</span></span></a></div></div><div class=\"Box-omzyfs-0 sc-AxjAm jYikCb\" height=\"30\"><div class=\"Box-omzyfs-0 sc-AxjAm hoMiiH\" color=\"accent\" height=\"24\" width=\"24\"><svg aria-label=\"Person\" height=\"100%\" viewbox=\"0 0 24 24\" width=\"100%\"><g fill=\"none\" fill-rule=\"evenodd\"><path d=\"M0 0h24v24H0z\" fill=\"none\"></path><path d=\"M14 8a2 2 0 10-4 0 2 2 0 004 0zm2 0a4 4 0 11-8 0 4 4 0 018 0zM7 19a1 1 0 01-2 0 7 7 0 0114 0 1 1 0 01-2 0 5 5 0 00-10 0z\" fill=\"currentColor\"></path></g></svg></div><span class=\"Text-sc-1t0gn2o-0 hhfigA\" color=\"primary\" font-weight=\"normal\">375</span></div></div></div></li>,\n",
       " <li class=\"Column-sc-18hsrnn-0 jHShKh\"><div class=\"Box-omzyfs-0 sc-AxjAm dqkjhR\" data-test-id=\"ticketed-event\"><h3 class=\"Box-omzyfs-0 Heading__StyledBox-sc-120pa9w-0 fhMVGI\"><a class=\"Link__AnchorWrapper-k7o46r-1 bmWkiB\" data-test-id=\"event-listing-heading\" data-tracking-id=\"/events/1223198\" href=\"/web/20210326225933/https://ra.co/events/1223198\"><span class=\"Text-sc-1t0gn2o-0 Link__StyledLink-k7o46r-0 fAmOyf\" color=\"primary\" data-test-id=\"event-listing-heading\" data-tracking-id=\"/events/1223198\" font-weight=\"normal\" href=\"/events/1223198\">Rave: Underground Resistance All Night</span></a></h3><div class=\"Box-omzyfs-0 sc-AxjAm jVLhoy\"><span class=\"Text-sc-1t0gn2o-0 dWOMtb\" color=\"primary\" font-weight=\"normal\">Nomadico, Mark Flash</span></div><div class=\"Box-omzyfs-0 sc-AxjAm fCFvgO\"><div class=\"Box-omzyfs-0 sc-AxjAm ebaaK\"><div class=\"Box-omzyfs-0 sc-AxjAm fOOuYI\" height=\"30\"><div class=\"Box-omzyfs-0 sc-AxjAm hoMiiH\" color=\"accent\" height=\"24\" width=\"24\"><svg aria-label=\"Location\" height=\"100%\" viewbox=\"0 0 24 24\" width=\"100%\"><g fill=\"none\" fill-rule=\"evenodd\"><path d=\"M0 0h24v24H0z\" fill=\"none\"></path><path d=\"M13.613 15.075c.26-.501.505-.988.732-1.456C15.393 11.456 16 9.785 16 9a4 4 0 10-8 0c0 .785.607 2.456 1.655 4.619.227.468.472.955.732 1.456A83.615 83.615 0 0012 18.022c.55-.962 1.1-1.96 1.613-2.947zM18 9c0 1.2-.67 3.045-1.855 5.491-.236.486-.49.99-.758 1.506a86.17 86.17 0 01-2.532 4.522 1 1 0 01-1.71 0 85.564 85.564 0 01-.793-1.35 86.17 86.17 0 01-1.74-3.172 60.318 60.318 0 01-.757-1.506C6.67 12.045 6 10.201 6 9a6 6 0 016-6 6 6 0 016 6z\" fill=\"currentColor\"></path><path d=\"M13 9a1 1 0 11-2 0 1 1 0 112 0\" fill=\"currentColor\"></path></g></svg></div><a class=\"Link__AnchorWrapper-k7o46r-1 cRvOHm\" color=\"primary\" href=\"/web/20210326225933/https://ra.co/clubs/105873\"><span class=\"Text-sc-1t0gn2o-0 Link__StyledLink-k7o46r-0 knBJCg\" color=\"primary\" font-weight=\"normal\" href=\"/clubs/105873\">Nowadays</span></a></div><div class=\"Box-omzyfs-0 sc-AxjAm jYikCb\" height=\"30\"><div class=\"Box-omzyfs-0 sc-AxjAm faxXyr\" color=\"secondary\" height=\"24\" width=\"24\"><svg aria-label=\"Ticket\" height=\"100%\" viewbox=\"0 0 24 24\" width=\"100%\"><g fill=\"none\" fill-rule=\"evenodd\"><path d=\"M0 0h24v24H0z\" fill=\"none\"></path><path d=\"M8.243 6.827a1 1 0 010-1.414l2.12-2.12a1 1 0 011.415 0l8.485 8.484a1 1 0 010 1.414l-2.12 2.121a1 1 0 01-1.415 0 1 1 0 00-1.415 1.414 1 1 0 010 1.414l-2.12 2.123a1 1 0 01-1.415 0l-8.485-8.486a1 1 0 010-1.414l2.122-2.121a1 1 0 011.414 0 1.001 1.001 0 001.414-1.415zm2-.586a3.002 3.002 0 01-4 4.002l-.829.828 7.07 7.07.829-.828a3.002 3.002 0 014.001-4.001l.828-.828-7.071-7.07-.828.827z\" fill=\"currentColor\"></path></g></svg></div><a class=\"Link__AnchorWrapper-k7o46r-1 cIDdag\" color=\"secondary\" href=\"/web/20210326225933/https://ra.co/events/1223198#tickets\"><span class=\"Text-sc-1t0gn2o-0 Link__StyledLink-k7o46r-0 iHZuSI\" color=\"secondary\" font-weight=\"normal\" href=\"/events/1223198#tickets\"><span class=\"Box-omzyfs-0 kMopVb\" display=\"[object Object]\">RA</span><span class=\"Box-omzyfs-0 fQMHMH\" display=\"[object Object]\">RA Tickets</span></span></a></div></div><div class=\"Box-omzyfs-0 sc-AxjAm jYikCb\" height=\"30\"><div class=\"Box-omzyfs-0 sc-AxjAm hoMiiH\" color=\"accent\" height=\"24\" width=\"24\"><svg aria-label=\"Person\" height=\"100%\" viewbox=\"0 0 24 24\" width=\"100%\"><g fill=\"none\" fill-rule=\"evenodd\"><path d=\"M0 0h24v24H0z\" fill=\"none\"></path><path d=\"M14 8a2 2 0 10-4 0 2 2 0 004 0zm2 0a4 4 0 11-8 0 4 4 0 018 0zM7 19a1 1 0 01-2 0 7 7 0 0114 0 1 1 0 01-2 0 5 5 0 00-10 0z\" fill=\"currentColor\"></path></g></svg></div><span class=\"Text-sc-1t0gn2o-0 hhfigA\" color=\"primary\" font-weight=\"normal\">232</span></div></div><span class=\"Text-sc-1t0gn2o-0 CmsContent__StyledText-g7gf78-0 jZWtkh\" color=\"secondary\" font-weight=\"normal\">Detroit techno's most iconic crew dispatches two of its DJs for a rare New York gig at one of the city's homiest clubs. </span></div></li>,\n",
       " <li class=\"Column-sc-18hsrnn-0 jHShKh\"><div class=\"Box-omzyfs-0 sc-AxjAm dqkjhR\" data-test-id=\"ticketed-event\"><h3 class=\"Box-omzyfs-0 Heading__StyledBox-sc-120pa9w-0 fhMVGI\"><a class=\"Link__AnchorWrapper-k7o46r-1 bmWkiB\" data-test-id=\"event-listing-heading\" data-tracking-id=\"/events/1237533\" href=\"/web/20210326225933/https://ra.co/events/1237533\"><span class=\"Text-sc-1t0gn2o-0 Link__StyledLink-k7o46r-0 fAmOyf\" color=\"primary\" data-test-id=\"event-listing-heading\" data-tracking-id=\"/events/1237533\" font-weight=\"normal\" href=\"/events/1237533\">Believe You Me // Beta Librae, Stephan Kimbel, Born 2 Boogie</span></a></h3><div class=\"Box-omzyfs-0 sc-AxjAm jVLhoy\"><span class=\"Text-sc-1t0gn2o-0 dWOMtb\" color=\"primary\" font-weight=\"normal\">Beta Librae, Stephan Kimbel</span></div><div class=\"Box-omzyfs-0 sc-AxjAm fCFvgO\"><div class=\"Box-omzyfs-0 sc-AxjAm ebaaK\"><div class=\"Box-omzyfs-0 sc-AxjAm fOOuYI\" height=\"30\"><div class=\"Box-omzyfs-0 sc-AxjAm hoMiiH\" color=\"accent\" height=\"24\" width=\"24\"><svg aria-label=\"Location\" height=\"100%\" viewbox=\"0 0 24 24\" width=\"100%\"><g fill=\"none\" fill-rule=\"evenodd\"><path d=\"M0 0h24v24H0z\" fill=\"none\"></path><path d=\"M13.613 15.075c.26-.501.505-.988.732-1.456C15.393 11.456 16 9.785 16 9a4 4 0 10-8 0c0 .785.607 2.456 1.655 4.619.227.468.472.955.732 1.456A83.615 83.615 0 0012 18.022c.55-.962 1.1-1.96 1.613-2.947zM18 9c0 1.2-.67 3.045-1.855 5.491-.236.486-.49.99-.758 1.506a86.17 86.17 0 01-2.532 4.522 1 1 0 01-1.71 0 85.564 85.564 0 01-.793-1.35 86.17 86.17 0 01-1.74-3.172 60.318 60.318 0 01-.757-1.506C6.67 12.045 6 10.201 6 9a6 6 0 016-6 6 6 0 016 6z\" fill=\"currentColor\"></path><path d=\"M13 9a1 1 0 11-2 0 1 1 0 112 0\" fill=\"currentColor\"></path></g></svg></div><span class=\"Text-sc-1t0gn2o-0 hhfigA\" color=\"primary\" font-weight=\"normal\">TBA - New York</span></div><div class=\"Box-omzyfs-0 sc-AxjAm jYikCb\" height=\"30\"><div class=\"Box-omzyfs-0 sc-AxjAm faxXyr\" color=\"secondary\" height=\"24\" width=\"24\"><svg aria-label=\"Ticket\" height=\"100%\" viewbox=\"0 0 24 24\" width=\"100%\"><g fill=\"none\" fill-rule=\"evenodd\"><path d=\"M0 0h24v24H0z\" fill=\"none\"></path><path d=\"M8.243 6.827a1 1 0 010-1.414l2.12-2.12a1 1 0 011.415 0l8.485 8.484a1 1 0 010 1.414l-2.12 2.121a1 1 0 01-1.415 0 1 1 0 00-1.415 1.414 1 1 0 010 1.414l-2.12 2.123a1 1 0 01-1.415 0l-8.485-8.486a1 1 0 010-1.414l2.122-2.121a1 1 0 011.414 0 1.001 1.001 0 001.414-1.415zm2-.586a3.002 3.002 0 01-4 4.002l-.829.828 7.07 7.07.829-.828a3.002 3.002 0 014.001-4.001l.828-.828-7.071-7.07-.828.827z\" fill=\"currentColor\"></path></g></svg></div><a class=\"Link__AnchorWrapper-k7o46r-1 cIDdag\" color=\"secondary\" href=\"/web/20210326225933/https://ra.co/events/1237533#tickets\"><span class=\"Text-sc-1t0gn2o-0 Link__StyledLink-k7o46r-0 iHZuSI\" color=\"secondary\" font-weight=\"normal\" href=\"/events/1237533#tickets\"><span class=\"Box-omzyfs-0 kMopVb\" display=\"[object Object]\">RA</span><span class=\"Box-omzyfs-0 fQMHMH\" display=\"[object Object]\">RA Tickets</span></span></a></div></div><div class=\"Box-omzyfs-0 sc-AxjAm jYikCb\" height=\"30\"><div class=\"Box-omzyfs-0 sc-AxjAm hoMiiH\" color=\"accent\" height=\"24\" width=\"24\"><svg aria-label=\"Person\" height=\"100%\" viewbox=\"0 0 24 24\" width=\"100%\"><g fill=\"none\" fill-rule=\"evenodd\"><path d=\"M0 0h24v24H0z\" fill=\"none\"></path><path d=\"M14 8a2 2 0 10-4 0 2 2 0 004 0zm2 0a4 4 0 11-8 0 4 4 0 018 0zM7 19a1 1 0 01-2 0 7 7 0 0114 0 1 1 0 01-2 0 5 5 0 00-10 0z\" fill=\"currentColor\"></path></g></svg></div><span class=\"Text-sc-1t0gn2o-0 hhfigA\" color=\"primary\" font-weight=\"normal\">89</span></div></div></div></li>,\n",
       " <li class=\"Column-sc-18hsrnn-0 jHShKh\"><div class=\"Box-omzyfs-0 sc-AxjAm dqkjhR\" data-test-id=\"ticketed-event\"><h3 class=\"Box-omzyfs-0 Heading__StyledBox-sc-120pa9w-0 fhMVGI\"><a class=\"Link__AnchorWrapper-k7o46r-1 bmWkiB\" data-test-id=\"event-listing-heading\" data-tracking-id=\"/events/1230211\" href=\"/web/20210326225933/https://ra.co/events/1230211\"><span class=\"Text-sc-1t0gn2o-0 Link__StyledLink-k7o46r-0 fAmOyf\" color=\"primary\" data-test-id=\"event-listing-heading\" data-tracking-id=\"/events/1230211\" font-weight=\"normal\" href=\"/events/1230211\">M.A.N.D.Y. with DJ Lisa Frank Plus Mnmlktchn with DJ Qu</span></a></h3><div class=\"Box-omzyfs-0 sc-AxjAm jVLhoy\"><span class=\"Text-sc-1t0gn2o-0 dWOMtb\" color=\"primary\" font-weight=\"normal\">M.A.N.D.Y., DJ Qu, Michel Harruch, DJ Lisa Frank</span></div><div class=\"Box-omzyfs-0 sc-AxjAm fCFvgO\"><div class=\"Box-omzyfs-0 sc-AxjAm ebaaK\"><div class=\"Box-omzyfs-0 sc-AxjAm fOOuYI\" height=\"30\"><div class=\"Box-omzyfs-0 sc-AxjAm hoMiiH\" color=\"accent\" height=\"24\" width=\"24\"><svg aria-label=\"Location\" height=\"100%\" viewbox=\"0 0 24 24\" width=\"100%\"><g fill=\"none\" fill-rule=\"evenodd\"><path d=\"M0 0h24v24H0z\" fill=\"none\"></path><path d=\"M13.613 15.075c.26-.501.505-.988.732-1.456C15.393 11.456 16 9.785 16 9a4 4 0 10-8 0c0 .785.607 2.456 1.655 4.619.227.468.472.955.732 1.456A83.615 83.615 0 0012 18.022c.55-.962 1.1-1.96 1.613-2.947zM18 9c0 1.2-.67 3.045-1.855 5.491-.236.486-.49.99-.758 1.506a86.17 86.17 0 01-2.532 4.522 1 1 0 01-1.71 0 85.564 85.564 0 01-.793-1.35 86.17 86.17 0 01-1.74-3.172 60.318 60.318 0 01-.757-1.506C6.67 12.045 6 10.201 6 9a6 6 0 016-6 6 6 0 016 6z\" fill=\"currentColor\"></path><path d=\"M13 9a1 1 0 11-2 0 1 1 0 112 0\" fill=\"currentColor\"></path></g></svg></div><a class=\"Link__AnchorWrapper-k7o46r-1 cRvOHm\" color=\"primary\" href=\"/web/20210326225933/https://ra.co/clubs/97606\"><span class=\"Text-sc-1t0gn2o-0 Link__StyledLink-k7o46r-0 knBJCg\" color=\"primary\" font-weight=\"normal\" href=\"/clubs/97606\">Good Room</span></a></div><div class=\"Box-omzyfs-0 sc-AxjAm jYikCb\" height=\"30\"><div class=\"Box-omzyfs-0 sc-AxjAm faxXyr\" color=\"secondary\" height=\"24\" width=\"24\"><svg aria-label=\"Ticket\" height=\"100%\" viewbox=\"0 0 24 24\" width=\"100%\"><g fill=\"none\" fill-rule=\"evenodd\"><path d=\"M0 0h24v24H0z\" fill=\"none\"></path><path d=\"M8.243 6.827a1 1 0 010-1.414l2.12-2.12a1 1 0 011.415 0l8.485 8.484a1 1 0 010 1.414l-2.12 2.121a1 1 0 01-1.415 0 1 1 0 00-1.415 1.414 1 1 0 010 1.414l-2.12 2.123a1 1 0 01-1.415 0l-8.485-8.486a1 1 0 010-1.414l2.122-2.121a1 1 0 011.414 0 1.001 1.001 0 001.414-1.415zm2-.586a3.002 3.002 0 01-4 4.002l-.829.828 7.07 7.07.829-.828a3.002 3.002 0 014.001-4.001l.828-.828-7.071-7.07-.828.827z\" fill=\"currentColor\"></path></g></svg></div><a class=\"Link__AnchorWrapper-k7o46r-1 cIDdag\" color=\"secondary\" href=\"/web/20210326225933/https://ra.co/events/1230211#tickets\"><span class=\"Text-sc-1t0gn2o-0 Link__StyledLink-k7o46r-0 iHZuSI\" color=\"secondary\" font-weight=\"normal\" href=\"/events/1230211#tickets\"><span class=\"Box-omzyfs-0 kMopVb\" display=\"[object Object]\">RA</span><span class=\"Box-omzyfs-0 fQMHMH\" display=\"[object Object]\">RA Tickets</span></span></a></div></div><div class=\"Box-omzyfs-0 sc-AxjAm jYikCb\" height=\"30\"><div class=\"Box-omzyfs-0 sc-AxjAm hoMiiH\" color=\"accent\" height=\"24\" width=\"24\"><svg aria-label=\"Person\" height=\"100%\" viewbox=\"0 0 24 24\" width=\"100%\"><g fill=\"none\" fill-rule=\"evenodd\"><path d=\"M0 0h24v24H0z\" fill=\"none\"></path><path d=\"M14 8a2 2 0 10-4 0 2 2 0 004 0zm2 0a4 4 0 11-8 0 4 4 0 018 0zM7 19a1 1 0 01-2 0 7 7 0 0114 0 1 1 0 01-2 0 5 5 0 00-10 0z\" fill=\"currentColor\"></path></g></svg></div><span class=\"Text-sc-1t0gn2o-0 hhfigA\" color=\"primary\" font-weight=\"normal\">87</span></div></div></div></li>,\n",
       " <li class=\"Column-sc-18hsrnn-0 jHShKh\"><div class=\"Box-omzyfs-0 sc-AxjAm dqkjhR\" data-test-id=\"ticketed-event\"><h3 class=\"Box-omzyfs-0 Heading__StyledBox-sc-120pa9w-0 fhMVGI\"><a class=\"Link__AnchorWrapper-k7o46r-1 bmWkiB\" data-test-id=\"event-listing-heading\" data-tracking-id=\"/events/1227271\" href=\"/web/20210326225933/https://ra.co/events/1227271\"><span class=\"Text-sc-1t0gn2o-0 Link__StyledLink-k7o46r-0 fAmOyf\" color=\"primary\" data-test-id=\"event-listing-heading\" data-tracking-id=\"/events/1227271\" font-weight=\"normal\" href=\"/events/1227271\">Nails &amp; Wax presents: Reka</span></a></h3><div class=\"Box-omzyfs-0 sc-AxjAm jVLhoy\"><span class=\"Text-sc-1t0gn2o-0 dWOMtb\" color=\"primary\" font-weight=\"normal\">Reka, pulsewidthmod, dolli B, Andres Tavio</span></div><div class=\"Box-omzyfs-0 sc-AxjAm fCFvgO\"><div class=\"Box-omzyfs-0 sc-AxjAm ebaaK\"><div class=\"Box-omzyfs-0 sc-AxjAm fOOuYI\" height=\"30\"><div class=\"Box-omzyfs-0 sc-AxjAm hoMiiH\" color=\"accent\" height=\"24\" width=\"24\"><svg aria-label=\"Location\" height=\"100%\" viewbox=\"0 0 24 24\" width=\"100%\"><g fill=\"none\" fill-rule=\"evenodd\"><path d=\"M0 0h24v24H0z\" fill=\"none\"></path><path d=\"M13.613 15.075c.26-.501.505-.988.732-1.456C15.393 11.456 16 9.785 16 9a4 4 0 10-8 0c0 .785.607 2.456 1.655 4.619.227.468.472.955.732 1.456A83.615 83.615 0 0012 18.022c.55-.962 1.1-1.96 1.613-2.947zM18 9c0 1.2-.67 3.045-1.855 5.491-.236.486-.49.99-.758 1.506a86.17 86.17 0 01-2.532 4.522 1 1 0 01-1.71 0 85.564 85.564 0 01-.793-1.35 86.17 86.17 0 01-1.74-3.172 60.318 60.318 0 01-.757-1.506C6.67 12.045 6 10.201 6 9a6 6 0 016-6 6 6 0 016 6z\" fill=\"currentColor\"></path><path d=\"M13 9a1 1 0 11-2 0 1 1 0 112 0\" fill=\"currentColor\"></path></g></svg></div><a class=\"Link__AnchorWrapper-k7o46r-1 cRvOHm\" color=\"primary\" href=\"/web/20210326225933/https://ra.co/clubs/137550\"><span class=\"Text-sc-1t0gn2o-0 Link__StyledLink-k7o46r-0 knBJCg\" color=\"primary\" font-weight=\"normal\" href=\"/clubs/137550\">H0L0</span></a></div><div class=\"Box-omzyfs-0 sc-AxjAm jYikCb\" height=\"30\"><div class=\"Box-omzyfs-0 sc-AxjAm faxXyr\" color=\"secondary\" height=\"24\" width=\"24\"><svg aria-label=\"Ticket\" height=\"100%\" viewbox=\"0 0 24 24\" width=\"100%\"><g fill=\"none\" fill-rule=\"evenodd\"><path d=\"M0 0h24v24H0z\" fill=\"none\"></path><path d=\"M8.243 6.827a1 1 0 010-1.414l2.12-2.12a1 1 0 011.415 0l8.485 8.484a1 1 0 010 1.414l-2.12 2.121a1 1 0 01-1.415 0 1 1 0 00-1.415 1.414 1 1 0 010 1.414l-2.12 2.123a1 1 0 01-1.415 0l-8.485-8.486a1 1 0 010-1.414l2.122-2.121a1 1 0 011.414 0 1.001 1.001 0 001.414-1.415zm2-.586a3.002 3.002 0 01-4 4.002l-.829.828 7.07 7.07.829-.828a3.002 3.002 0 014.001-4.001l.828-.828-7.071-7.07-.828.827z\" fill=\"currentColor\"></path></g></svg></div><a class=\"Link__AnchorWrapper-k7o46r-1 cIDdag\" color=\"secondary\" href=\"/web/20210326225933/https://ra.co/events/1227271#tickets\"><span class=\"Text-sc-1t0gn2o-0 Link__StyledLink-k7o46r-0 iHZuSI\" color=\"secondary\" font-weight=\"normal\" href=\"/events/1227271#tickets\"><span class=\"Box-omzyfs-0 kMopVb\" display=\"[object Object]\">RA</span><span class=\"Box-omzyfs-0 fQMHMH\" display=\"[object Object]\">RA Tickets</span></span></a></div></div><div class=\"Box-omzyfs-0 sc-AxjAm jYikCb\" height=\"30\"><div class=\"Box-omzyfs-0 sc-AxjAm hoMiiH\" color=\"accent\" height=\"24\" width=\"24\"><svg aria-label=\"Person\" height=\"100%\" viewbox=\"0 0 24 24\" width=\"100%\"><g fill=\"none\" fill-rule=\"evenodd\"><path d=\"M0 0h24v24H0z\" fill=\"none\"></path><path d=\"M14 8a2 2 0 10-4 0 2 2 0 004 0zm2 0a4 4 0 11-8 0 4 4 0 018 0zM7 19a1 1 0 01-2 0 7 7 0 0114 0 1 1 0 01-2 0 5 5 0 00-10 0z\" fill=\"currentColor\"></path></g></svg></div><span class=\"Text-sc-1t0gn2o-0 hhfigA\" color=\"primary\" font-weight=\"normal\">67</span></div></div></div></li>,\n",
       " <li class=\"Column-sc-18hsrnn-0 jHShKh\"><div class=\"Box-omzyfs-0 sc-AxjAm dqkjhR\" data-test-id=\"ticketed-event\"><h3 class=\"Box-omzyfs-0 Heading__StyledBox-sc-120pa9w-0 fhMVGI\"><a class=\"Link__AnchorWrapper-k7o46r-1 bmWkiB\" data-test-id=\"event-listing-heading\" data-tracking-id=\"/events/1231044\" href=\"/web/20210326225933/https://ra.co/events/1231044\"><span class=\"Text-sc-1t0gn2o-0 Link__StyledLink-k7o46r-0 fAmOyf\" color=\"primary\" data-test-id=\"event-listing-heading\" data-tracking-id=\"/events/1231044\" font-weight=\"normal\" href=\"/events/1231044\">Wings of Illusion - Burning Man 2019 Art Car Fundraiser</span></a></h3><div class=\"Box-omzyfs-0 sc-AxjAm jVLhoy\"><span class=\"Text-sc-1t0gn2o-0 dWOMtb\" color=\"primary\" font-weight=\"normal\">Amine K, Bo (Borzu), Carlita</span></div><div class=\"Box-omzyfs-0 sc-AxjAm fCFvgO\"><div class=\"Box-omzyfs-0 sc-AxjAm ebaaK\"><div class=\"Box-omzyfs-0 sc-AxjAm fOOuYI\" height=\"30\"><div class=\"Box-omzyfs-0 sc-AxjAm hoMiiH\" color=\"accent\" height=\"24\" width=\"24\"><svg aria-label=\"Location\" height=\"100%\" viewbox=\"0 0 24 24\" width=\"100%\"><g fill=\"none\" fill-rule=\"evenodd\"><path d=\"M0 0h24v24H0z\" fill=\"none\"></path><path d=\"M13.613 15.075c.26-.501.505-.988.732-1.456C15.393 11.456 16 9.785 16 9a4 4 0 10-8 0c0 .785.607 2.456 1.655 4.619.227.468.472.955.732 1.456A83.615 83.615 0 0012 18.022c.55-.962 1.1-1.96 1.613-2.947zM18 9c0 1.2-.67 3.045-1.855 5.491-.236.486-.49.99-.758 1.506a86.17 86.17 0 01-2.532 4.522 1 1 0 01-1.71 0 85.564 85.564 0 01-.793-1.35 86.17 86.17 0 01-1.74-3.172 60.318 60.318 0 01-.757-1.506C6.67 12.045 6 10.201 6 9a6 6 0 016-6 6 6 0 016 6z\" fill=\"currentColor\"></path><path d=\"M13 9a1 1 0 11-2 0 1 1 0 112 0\" fill=\"currentColor\"></path></g></svg></div><a class=\"Link__AnchorWrapper-k7o46r-1 cRvOHm\" color=\"primary\" href=\"/web/20210326225933/https://ra.co/clubs/119168\"><span class=\"Text-sc-1t0gn2o-0 Link__StyledLink-k7o46r-0 knBJCg\" color=\"primary\" font-weight=\"normal\" href=\"/clubs/119168\">Bogart House</span></a></div><div class=\"Box-omzyfs-0 sc-AxjAm jYikCb\" height=\"30\"><div class=\"Box-omzyfs-0 sc-AxjAm faxXyr\" color=\"secondary\" height=\"24\" width=\"24\"><svg aria-label=\"Ticket\" height=\"100%\" viewbox=\"0 0 24 24\" width=\"100%\"><g fill=\"none\" fill-rule=\"evenodd\"><path d=\"M0 0h24v24H0z\" fill=\"none\"></path><path d=\"M8.243 6.827a1 1 0 010-1.414l2.12-2.12a1 1 0 011.415 0l8.485 8.484a1 1 0 010 1.414l-2.12 2.121a1 1 0 01-1.415 0 1 1 0 00-1.415 1.414 1 1 0 010 1.414l-2.12 2.123a1 1 0 01-1.415 0l-8.485-8.486a1 1 0 010-1.414l2.122-2.121a1 1 0 011.414 0 1.001 1.001 0 001.414-1.415zm2-.586a3.002 3.002 0 01-4 4.002l-.829.828 7.07 7.07.829-.828a3.002 3.002 0 014.001-4.001l.828-.828-7.071-7.07-.828.827z\" fill=\"currentColor\"></path></g></svg></div><a class=\"Link__AnchorWrapper-k7o46r-1 cIDdag\" color=\"secondary\" href=\"/web/20210326225933/https://ra.co/events/1231044#tickets\"><span class=\"Text-sc-1t0gn2o-0 Link__StyledLink-k7o46r-0 iHZuSI\" color=\"secondary\" font-weight=\"normal\" href=\"/events/1231044#tickets\"><span class=\"Box-omzyfs-0 kMopVb\" display=\"[object Object]\">RA</span><span class=\"Box-omzyfs-0 fQMHMH\" display=\"[object Object]\">RA Tickets</span></span></a></div></div><div class=\"Box-omzyfs-0 sc-AxjAm jYikCb\" height=\"30\"><div class=\"Box-omzyfs-0 sc-AxjAm hoMiiH\" color=\"accent\" height=\"24\" width=\"24\"><svg aria-label=\"Person\" height=\"100%\" viewbox=\"0 0 24 24\" width=\"100%\"><g fill=\"none\" fill-rule=\"evenodd\"><path d=\"M0 0h24v24H0z\" fill=\"none\"></path><path d=\"M14 8a2 2 0 10-4 0 2 2 0 004 0zm2 0a4 4 0 11-8 0 4 4 0 018 0zM7 19a1 1 0 01-2 0 7 7 0 0114 0 1 1 0 01-2 0 5 5 0 00-10 0z\" fill=\"currentColor\"></path></g></svg></div><span class=\"Text-sc-1t0gn2o-0 hhfigA\" color=\"primary\" font-weight=\"normal\">30</span></div></div></div></li>,\n",
       " <li class=\"Column-sc-18hsrnn-0 jHShKh\"><div class=\"Box-omzyfs-0 sc-AxjAm dqkjhR\" data-test-id=\"ticketed-event\"><h3 class=\"Box-omzyfs-0 Heading__StyledBox-sc-120pa9w-0 fhMVGI\"><a class=\"Link__AnchorWrapper-k7o46r-1 bmWkiB\" data-test-id=\"event-listing-heading\" data-tracking-id=\"/events/1241157\" href=\"/web/20210326225933/https://ra.co/events/1241157\"><span class=\"Text-sc-1t0gn2o-0 Link__StyledLink-k7o46r-0 fAmOyf\" color=\"primary\" data-test-id=\"event-listing-heading\" data-tracking-id=\"/events/1241157\" font-weight=\"normal\" href=\"/events/1241157\">TBA Brooklyn 6th Anniversary</span></a></h3><div class=\"Box-omzyfs-0 sc-AxjAm jVLhoy\"><span class=\"Text-sc-1t0gn2o-0 dWOMtb\" color=\"primary\" font-weight=\"normal\">34th Street John, Elon, Losoul, Connie, Pjay, Deep Woods, Eric Shans, Emma (2), Oktave</span></div><div class=\"Box-omzyfs-0 sc-AxjAm fCFvgO\"><div class=\"Box-omzyfs-0 sc-AxjAm ebaaK\"><div class=\"Box-omzyfs-0 sc-AxjAm fOOuYI\" height=\"30\"><div class=\"Box-omzyfs-0 sc-AxjAm hoMiiH\" color=\"accent\" height=\"24\" width=\"24\"><svg aria-label=\"Location\" height=\"100%\" viewbox=\"0 0 24 24\" width=\"100%\"><g fill=\"none\" fill-rule=\"evenodd\"><path d=\"M0 0h24v24H0z\" fill=\"none\"></path><path d=\"M13.613 15.075c.26-.501.505-.988.732-1.456C15.393 11.456 16 9.785 16 9a4 4 0 10-8 0c0 .785.607 2.456 1.655 4.619.227.468.472.955.732 1.456A83.615 83.615 0 0012 18.022c.55-.962 1.1-1.96 1.613-2.947zM18 9c0 1.2-.67 3.045-1.855 5.491-.236.486-.49.99-.758 1.506a86.17 86.17 0 01-2.532 4.522 1 1 0 01-1.71 0 85.564 85.564 0 01-.793-1.35 86.17 86.17 0 01-1.74-3.172 60.318 60.318 0 01-.757-1.506C6.67 12.045 6 10.201 6 9a6 6 0 016-6 6 6 0 016 6z\" fill=\"currentColor\"></path><path d=\"M13 9a1 1 0 11-2 0 1 1 0 112 0\" fill=\"currentColor\"></path></g></svg></div><a class=\"Link__AnchorWrapper-k7o46r-1 cRvOHm\" color=\"primary\" href=\"/web/20210326225933/https://ra.co/clubs/75374\"><span class=\"Text-sc-1t0gn2o-0 Link__StyledLink-k7o46r-0 knBJCg\" color=\"primary\" font-weight=\"normal\" href=\"/clubs/75374\">TBA Brooklyn</span></a></div><div class=\"Box-omzyfs-0 sc-AxjAm jYikCb\" height=\"30\"><div class=\"Box-omzyfs-0 sc-AxjAm faxXyr\" color=\"secondary\" height=\"24\" width=\"24\"><svg aria-label=\"Ticket\" height=\"100%\" viewbox=\"0 0 24 24\" width=\"100%\"><g fill=\"none\" fill-rule=\"evenodd\"><path d=\"M0 0h24v24H0z\" fill=\"none\"></path><path d=\"M8.243 6.827a1 1 0 010-1.414l2.12-2.12a1 1 0 011.415 0l8.485 8.484a1 1 0 010 1.414l-2.12 2.121a1 1 0 01-1.415 0 1 1 0 00-1.415 1.414 1 1 0 010 1.414l-2.12 2.123a1 1 0 01-1.415 0l-8.485-8.486a1 1 0 010-1.414l2.122-2.121a1 1 0 011.414 0 1.001 1.001 0 001.414-1.415zm2-.586a3.002 3.002 0 01-4 4.002l-.829.828 7.07 7.07.829-.828a3.002 3.002 0 014.001-4.001l.828-.828-7.071-7.07-.828.827z\" fill=\"currentColor\"></path></g></svg></div><a class=\"Link__AnchorWrapper-k7o46r-1 cIDdag\" color=\"secondary\" href=\"/web/20210326225933/https://ra.co/events/1241157#tickets\"><span class=\"Text-sc-1t0gn2o-0 Link__StyledLink-k7o46r-0 iHZuSI\" color=\"secondary\" font-weight=\"normal\" href=\"/events/1241157#tickets\"><span class=\"Box-omzyfs-0 kMopVb\" display=\"[object Object]\">RA</span><span class=\"Box-omzyfs-0 fQMHMH\" display=\"[object Object]\">RA Tickets</span></span></a></div></div><div class=\"Box-omzyfs-0 sc-AxjAm jYikCb\" height=\"30\"><div class=\"Box-omzyfs-0 sc-AxjAm hoMiiH\" color=\"accent\" height=\"24\" width=\"24\"><svg aria-label=\"Person\" height=\"100%\" viewbox=\"0 0 24 24\" width=\"100%\"><g fill=\"none\" fill-rule=\"evenodd\"><path d=\"M0 0h24v24H0z\" fill=\"none\"></path><path d=\"M14 8a2 2 0 10-4 0 2 2 0 004 0zm2 0a4 4 0 11-8 0 4 4 0 018 0zM7 19a1 1 0 01-2 0 7 7 0 0114 0 1 1 0 01-2 0 5 5 0 00-10 0z\" fill=\"currentColor\"></path></g></svg></div><span class=\"Text-sc-1t0gn2o-0 hhfigA\" color=\"primary\" font-weight=\"normal\">21</span></div></div></div></li>,\n",
       " <li class=\"Column-sc-18hsrnn-0 jHShKh\"><div class=\"Box-omzyfs-0 sc-AxjAm dqkjhR\" data-test-id=\"ticketed-event\"><h3 class=\"Box-omzyfs-0 Heading__StyledBox-sc-120pa9w-0 fhMVGI\"><a class=\"Link__AnchorWrapper-k7o46r-1 bmWkiB\" data-test-id=\"event-listing-heading\" data-tracking-id=\"/events/1243553\" href=\"/web/20210326225933/https://ra.co/events/1243553\"><span class=\"Text-sc-1t0gn2o-0 Link__StyledLink-k7o46r-0 fAmOyf\" color=\"primary\" data-test-id=\"event-listing-heading\" data-tracking-id=\"/events/1243553\" font-weight=\"normal\" href=\"/events/1243553\">Schimanski presents: Alan Fitzpatrick</span></a></h3><div class=\"Box-omzyfs-0 sc-AxjAm jVLhoy\"><span class=\"Text-sc-1t0gn2o-0 dWOMtb\" color=\"primary\" font-weight=\"normal\">Alan Fitzpatrick, Avision</span></div><div class=\"Box-omzyfs-0 sc-AxjAm fCFvgO\"><div class=\"Box-omzyfs-0 sc-AxjAm ebaaK\"><div class=\"Box-omzyfs-0 sc-AxjAm fOOuYI\" height=\"30\"><div class=\"Box-omzyfs-0 sc-AxjAm hoMiiH\" color=\"accent\" height=\"24\" width=\"24\"><svg aria-label=\"Location\" height=\"100%\" viewbox=\"0 0 24 24\" width=\"100%\"><g fill=\"none\" fill-rule=\"evenodd\"><path d=\"M0 0h24v24H0z\" fill=\"none\"></path><path d=\"M13.613 15.075c.26-.501.505-.988.732-1.456C15.393 11.456 16 9.785 16 9a4 4 0 10-8 0c0 .785.607 2.456 1.655 4.619.227.468.472.955.732 1.456A83.615 83.615 0 0012 18.022c.55-.962 1.1-1.96 1.613-2.947zM18 9c0 1.2-.67 3.045-1.855 5.491-.236.486-.49.99-.758 1.506a86.17 86.17 0 01-2.532 4.522 1 1 0 01-1.71 0 85.564 85.564 0 01-.793-1.35 86.17 86.17 0 01-1.74-3.172 60.318 60.318 0 01-.757-1.506C6.67 12.045 6 10.201 6 9a6 6 0 016-6 6 6 0 016 6z\" fill=\"currentColor\"></path><path d=\"M13 9a1 1 0 11-2 0 1 1 0 112 0\" fill=\"currentColor\"></path></g></svg></div><a class=\"Link__AnchorWrapper-k7o46r-1 cRvOHm\" color=\"primary\" href=\"/web/20210326225933/https://ra.co/clubs/126308\"><span class=\"Text-sc-1t0gn2o-0 Link__StyledLink-k7o46r-0 knBJCg\" color=\"primary\" font-weight=\"normal\" href=\"/clubs/126308\">Schimanski</span></a></div><div class=\"Box-omzyfs-0 sc-AxjAm jYikCb\" height=\"30\"><div class=\"Box-omzyfs-0 sc-AxjAm faxXyr\" color=\"secondary\" height=\"24\" width=\"24\"><svg aria-label=\"Ticket\" height=\"100%\" viewbox=\"0 0 24 24\" width=\"100%\"><g fill=\"none\" fill-rule=\"evenodd\"><path d=\"M0 0h24v24H0z\" fill=\"none\"></path><path d=\"M8.243 6.827a1 1 0 010-1.414l2.12-2.12a1 1 0 011.415 0l8.485 8.484a1 1 0 010 1.414l-2.12 2.121a1 1 0 01-1.415 0 1 1 0 00-1.415 1.414 1 1 0 010 1.414l-2.12 2.123a1 1 0 01-1.415 0l-8.485-8.486a1 1 0 010-1.414l2.122-2.121a1 1 0 011.414 0 1.001 1.001 0 001.414-1.415zm2-.586a3.002 3.002 0 01-4 4.002l-.829.828 7.07 7.07.829-.828a3.002 3.002 0 014.001-4.001l.828-.828-7.071-7.07-.828.827z\" fill=\"currentColor\"></path></g></svg></div><a class=\"Link__AnchorWrapper-k7o46r-1 cIDdag\" color=\"secondary\" href=\"/web/20210326225933/https://ra.co/events/1243553#tickets\"><span class=\"Text-sc-1t0gn2o-0 Link__StyledLink-k7o46r-0 iHZuSI\" color=\"secondary\" font-weight=\"normal\" href=\"/events/1243553#tickets\"><span class=\"Box-omzyfs-0 kMopVb\" display=\"[object Object]\">RA</span><span class=\"Box-omzyfs-0 fQMHMH\" display=\"[object Object]\">RA Tickets</span></span></a></div></div><div class=\"Box-omzyfs-0 sc-AxjAm jYikCb\" height=\"30\"><div class=\"Box-omzyfs-0 sc-AxjAm hoMiiH\" color=\"accent\" height=\"24\" width=\"24\"><svg aria-label=\"Person\" height=\"100%\" viewbox=\"0 0 24 24\" width=\"100%\"><g fill=\"none\" fill-rule=\"evenodd\"><path d=\"M0 0h24v24H0z\" fill=\"none\"></path><path d=\"M14 8a2 2 0 10-4 0 2 2 0 004 0zm2 0a4 4 0 11-8 0 4 4 0 018 0zM7 19a1 1 0 01-2 0 7 7 0 0114 0 1 1 0 01-2 0 5 5 0 00-10 0z\" fill=\"currentColor\"></path></g></svg></div><span class=\"Text-sc-1t0gn2o-0 hhfigA\" color=\"primary\" font-weight=\"normal\">14</span></div></div></div></li>,\n",
       " <li class=\"Column-sc-18hsrnn-0 jHShKh\"><div class=\"Box-omzyfs-0 sc-AxjAm dqkjhR\" data-test-id=\"ticketed-event\"><h3 class=\"Box-omzyfs-0 Heading__StyledBox-sc-120pa9w-0 fhMVGI\"><a class=\"Link__AnchorWrapper-k7o46r-1 bmWkiB\" data-test-id=\"event-listing-heading\" data-tracking-id=\"/events/1218008\" href=\"/web/20210326225933/https://ra.co/events/1218008\"><span class=\"Text-sc-1t0gn2o-0 Link__StyledLink-k7o46r-0 fAmOyf\" color=\"primary\" data-test-id=\"event-listing-heading\" data-tracking-id=\"/events/1218008\" font-weight=\"normal\" href=\"/events/1218008\">[CANCELLED] Undivided: The Return of Beave</span></a></h3><div class=\"Box-omzyfs-0 sc-AxjAm fCFvgO\"><div class=\"Box-omzyfs-0 sc-AxjAm ebaaK\"><div class=\"Box-omzyfs-0 sc-AxjAm fOOuYI\" height=\"30\"><div class=\"Box-omzyfs-0 sc-AxjAm hoMiiH\" color=\"accent\" height=\"24\" width=\"24\"><svg aria-label=\"Location\" height=\"100%\" viewbox=\"0 0 24 24\" width=\"100%\"><g fill=\"none\" fill-rule=\"evenodd\"><path d=\"M0 0h24v24H0z\" fill=\"none\"></path><path d=\"M13.613 15.075c.26-.501.505-.988.732-1.456C15.393 11.456 16 9.785 16 9a4 4 0 10-8 0c0 .785.607 2.456 1.655 4.619.227.468.472.955.732 1.456A83.615 83.615 0 0012 18.022c.55-.962 1.1-1.96 1.613-2.947zM18 9c0 1.2-.67 3.045-1.855 5.491-.236.486-.49.99-.758 1.506a86.17 86.17 0 01-2.532 4.522 1 1 0 01-1.71 0 85.564 85.564 0 01-.793-1.35 86.17 86.17 0 01-1.74-3.172 60.318 60.318 0 01-.757-1.506C6.67 12.045 6 10.201 6 9a6 6 0 016-6 6 6 0 016 6z\" fill=\"currentColor\"></path><path d=\"M13 9a1 1 0 11-2 0 1 1 0 112 0\" fill=\"currentColor\"></path></g></svg></div><a class=\"Link__AnchorWrapper-k7o46r-1 cRvOHm\" color=\"primary\" href=\"/web/20210326225933/https://ra.co/clubs/157659\"><span class=\"Text-sc-1t0gn2o-0 Link__StyledLink-k7o46r-0 knBJCg\" color=\"primary\" font-weight=\"normal\" href=\"/clubs/157659\">101bklyn</span></a></div><div class=\"Box-omzyfs-0 sc-AxjAm jYikCb\" height=\"30\"><div class=\"Box-omzyfs-0 sc-AxjAm faxXyr\" color=\"secondary\" height=\"24\" width=\"24\"><svg aria-label=\"Ticket\" height=\"100%\" viewbox=\"0 0 24 24\" width=\"100%\"><g fill=\"none\" fill-rule=\"evenodd\"><path d=\"M0 0h24v24H0z\" fill=\"none\"></path><path d=\"M8.243 6.827a1 1 0 010-1.414l2.12-2.12a1 1 0 011.415 0l8.485 8.484a1 1 0 010 1.414l-2.12 2.121a1 1 0 01-1.415 0 1 1 0 00-1.415 1.414 1 1 0 010 1.414l-2.12 2.123a1 1 0 01-1.415 0l-8.485-8.486a1 1 0 010-1.414l2.122-2.121a1 1 0 011.414 0 1.001 1.001 0 001.414-1.415zm2-.586a3.002 3.002 0 01-4 4.002l-.829.828 7.07 7.07.829-.828a3.002 3.002 0 014.001-4.001l.828-.828-7.071-7.07-.828.827z\" fill=\"currentColor\"></path></g></svg></div><a class=\"Link__AnchorWrapper-k7o46r-1 cIDdag\" color=\"secondary\" href=\"/web/20210326225933/https://ra.co/events/1218008#tickets\"><span class=\"Text-sc-1t0gn2o-0 Link__StyledLink-k7o46r-0 iHZuSI\" color=\"secondary\" font-weight=\"normal\" href=\"/events/1218008#tickets\"><span class=\"Box-omzyfs-0 kMopVb\" display=\"[object Object]\">RA</span><span class=\"Box-omzyfs-0 fQMHMH\" display=\"[object Object]\">RA Tickets</span></span></a></div></div><div class=\"Box-omzyfs-0 sc-AxjAm jYikCb\" height=\"30\"><div class=\"Box-omzyfs-0 sc-AxjAm hoMiiH\" color=\"accent\" height=\"24\" width=\"24\"><svg aria-label=\"Person\" height=\"100%\" viewbox=\"0 0 24 24\" width=\"100%\"><g fill=\"none\" fill-rule=\"evenodd\"><path d=\"M0 0h24v24H0z\" fill=\"none\"></path><path d=\"M14 8a2 2 0 10-4 0 2 2 0 004 0zm2 0a4 4 0 11-8 0 4 4 0 018 0zM7 19a1 1 0 01-2 0 7 7 0 0114 0 1 1 0 01-2 0 5 5 0 00-10 0z\" fill=\"currentColor\"></path></g></svg></div><span class=\"Text-sc-1t0gn2o-0 hhfigA\" color=\"primary\" font-weight=\"normal\">11</span></div></div></div></li>,\n",
       " <li class=\"Column-sc-18hsrnn-0 jHShKh\"><div class=\"Box-omzyfs-0 sc-AxjAm dqkjhR\" data-test-id=\"ticketed-event\"><h3 class=\"Box-omzyfs-0 Heading__StyledBox-sc-120pa9w-0 fhMVGI\"><a class=\"Link__AnchorWrapper-k7o46r-1 bmWkiB\" data-test-id=\"event-listing-heading\" data-tracking-id=\"/events/1240253\" href=\"/web/20210326225933/https://ra.co/events/1240253\"><span class=\"Text-sc-1t0gn2o-0 Link__StyledLink-k7o46r-0 fAmOyf\" color=\"primary\" data-test-id=\"event-listing-heading\" data-tracking-id=\"/events/1240253\" font-weight=\"normal\" href=\"/events/1240253\">Bushwick A/V (Afterhours 4am): Rendezvous Showcase</span></a></h3><div class=\"Box-omzyfs-0 sc-AxjAm jVLhoy\"><span class=\"Text-sc-1t0gn2o-0 dWOMtb\" color=\"primary\" font-weight=\"normal\">Pereira, CGC, Arvi</span></div><div class=\"Box-omzyfs-0 sc-AxjAm fCFvgO\"><div class=\"Box-omzyfs-0 sc-AxjAm ebaaK\"><div class=\"Box-omzyfs-0 sc-AxjAm fOOuYI\" height=\"30\"><div class=\"Box-omzyfs-0 sc-AxjAm hoMiiH\" color=\"accent\" height=\"24\" width=\"24\"><svg aria-label=\"Location\" height=\"100%\" viewbox=\"0 0 24 24\" width=\"100%\"><g fill=\"none\" fill-rule=\"evenodd\"><path d=\"M0 0h24v24H0z\" fill=\"none\"></path><path d=\"M13.613 15.075c.26-.501.505-.988.732-1.456C15.393 11.456 16 9.785 16 9a4 4 0 10-8 0c0 .785.607 2.456 1.655 4.619.227.468.472.955.732 1.456A83.615 83.615 0 0012 18.022c.55-.962 1.1-1.96 1.613-2.947zM18 9c0 1.2-.67 3.045-1.855 5.491-.236.486-.49.99-.758 1.506a86.17 86.17 0 01-2.532 4.522 1 1 0 01-1.71 0 85.564 85.564 0 01-.793-1.35 86.17 86.17 0 01-1.74-3.172 60.318 60.318 0 01-.757-1.506C6.67 12.045 6 10.201 6 9a6 6 0 016-6 6 6 0 016 6z\" fill=\"currentColor\"></path><path d=\"M13 9a1 1 0 11-2 0 1 1 0 112 0\" fill=\"currentColor\"></path></g></svg></div><a class=\"Link__AnchorWrapper-k7o46r-1 cRvOHm\" color=\"primary\" href=\"/web/20210326225933/https://ra.co/clubs/157438\"><span class=\"Text-sc-1t0gn2o-0 Link__StyledLink-k7o46r-0 knBJCg\" color=\"primary\" font-weight=\"normal\" href=\"/clubs/157438\">Polygon BK</span></a></div><div class=\"Box-omzyfs-0 sc-AxjAm jYikCb\" height=\"30\"><div class=\"Box-omzyfs-0 sc-AxjAm faxXyr\" color=\"secondary\" height=\"24\" width=\"24\"><svg aria-label=\"Ticket\" height=\"100%\" viewbox=\"0 0 24 24\" width=\"100%\"><g fill=\"none\" fill-rule=\"evenodd\"><path d=\"M0 0h24v24H0z\" fill=\"none\"></path><path d=\"M8.243 6.827a1 1 0 010-1.414l2.12-2.12a1 1 0 011.415 0l8.485 8.484a1 1 0 010 1.414l-2.12 2.121a1 1 0 01-1.415 0 1 1 0 00-1.415 1.414 1 1 0 010 1.414l-2.12 2.123a1 1 0 01-1.415 0l-8.485-8.486a1 1 0 010-1.414l2.122-2.121a1 1 0 011.414 0 1.001 1.001 0 001.414-1.415zm2-.586a3.002 3.002 0 01-4 4.002l-.829.828 7.07 7.07.829-.828a3.002 3.002 0 014.001-4.001l.828-.828-7.071-7.07-.828.827z\" fill=\"currentColor\"></path></g></svg></div><a class=\"Link__AnchorWrapper-k7o46r-1 cIDdag\" color=\"secondary\" href=\"/web/20210326225933/https://ra.co/events/1240253#tickets\"><span class=\"Text-sc-1t0gn2o-0 Link__StyledLink-k7o46r-0 iHZuSI\" color=\"secondary\" font-weight=\"normal\" href=\"/events/1240253#tickets\"><span class=\"Box-omzyfs-0 kMopVb\" display=\"[object Object]\">RA</span><span class=\"Box-omzyfs-0 fQMHMH\" display=\"[object Object]\">RA Tickets</span></span></a></div></div><div class=\"Box-omzyfs-0 sc-AxjAm jYikCb\" height=\"30\"><div class=\"Box-omzyfs-0 sc-AxjAm hoMiiH\" color=\"accent\" height=\"24\" width=\"24\"><svg aria-label=\"Person\" height=\"100%\" viewbox=\"0 0 24 24\" width=\"100%\"><g fill=\"none\" fill-rule=\"evenodd\"><path d=\"M0 0h24v24H0z\" fill=\"none\"></path><path d=\"M14 8a2 2 0 10-4 0 2 2 0 004 0zm2 0a4 4 0 11-8 0 4 4 0 018 0zM7 19a1 1 0 01-2 0 7 7 0 0114 0 1 1 0 01-2 0 5 5 0 00-10 0z\" fill=\"currentColor\"></path></g></svg></div><span class=\"Text-sc-1t0gn2o-0 hhfigA\" color=\"primary\" font-weight=\"normal\">11</span></div></div></div></li>,\n",
       " <li class=\"Column-sc-18hsrnn-0 jHShKh\"><div class=\"Box-omzyfs-0 sc-AxjAm dqkjhR\" data-test-id=\"ticketed-event\"><h3 class=\"Box-omzyfs-0 Heading__StyledBox-sc-120pa9w-0 fhMVGI\"><a class=\"Link__AnchorWrapper-k7o46r-1 bmWkiB\" data-test-id=\"event-listing-heading\" data-tracking-id=\"/events/1230904\" href=\"/web/20210326225933/https://ra.co/events/1230904\"><span class=\"Text-sc-1t0gn2o-0 Link__StyledLink-k7o46r-0 fAmOyf\" color=\"primary\" data-test-id=\"event-listing-heading\" data-tracking-id=\"/events/1230904\" font-weight=\"normal\" href=\"/events/1230904\">Rollup with DJ Spider / zorenLo / For Future's Sake</span></a></h3><div class=\"Box-omzyfs-0 sc-AxjAm jVLhoy\"><span class=\"Text-sc-1t0gn2o-0 dWOMtb\" color=\"primary\" font-weight=\"normal\">DJ Spider, zorenLo, For Future's Sake</span></div><div class=\"Box-omzyfs-0 sc-AxjAm fCFvgO\"><div class=\"Box-omzyfs-0 sc-AxjAm ebaaK\"><div class=\"Box-omzyfs-0 sc-AxjAm fOOuYI\" height=\"30\"><div class=\"Box-omzyfs-0 sc-AxjAm hoMiiH\" color=\"accent\" height=\"24\" width=\"24\"><svg aria-label=\"Location\" height=\"100%\" viewbox=\"0 0 24 24\" width=\"100%\"><g fill=\"none\" fill-rule=\"evenodd\"><path d=\"M0 0h24v24H0z\" fill=\"none\"></path><path d=\"M13.613 15.075c.26-.501.505-.988.732-1.456C15.393 11.456 16 9.785 16 9a4 4 0 10-8 0c0 .785.607 2.456 1.655 4.619.227.468.472.955.732 1.456A83.615 83.615 0 0012 18.022c.55-.962 1.1-1.96 1.613-2.947zM18 9c0 1.2-.67 3.045-1.855 5.491-.236.486-.49.99-.758 1.506a86.17 86.17 0 01-2.532 4.522 1 1 0 01-1.71 0 85.564 85.564 0 01-.793-1.35 86.17 86.17 0 01-1.74-3.172 60.318 60.318 0 01-.757-1.506C6.67 12.045 6 10.201 6 9a6 6 0 016-6 6 6 0 016 6z\" fill=\"currentColor\"></path><path d=\"M13 9a1 1 0 11-2 0 1 1 0 112 0\" fill=\"currentColor\"></path></g></svg></div><a class=\"Link__AnchorWrapper-k7o46r-1 cRvOHm\" color=\"primary\" href=\"/web/20210326225933/https://ra.co/clubs/145350\"><span class=\"Text-sc-1t0gn2o-0 Link__StyledLink-k7o46r-0 knBJCg\" color=\"primary\" font-weight=\"normal\" href=\"/clubs/145350\">Rose Gold</span></a></div><div class=\"Box-omzyfs-0 sc-AxjAm jYikCb\" height=\"30\"><div class=\"Box-omzyfs-0 sc-AxjAm faxXyr\" color=\"secondary\" height=\"24\" width=\"24\"><svg aria-label=\"Ticket\" height=\"100%\" viewbox=\"0 0 24 24\" width=\"100%\"><g fill=\"none\" fill-rule=\"evenodd\"><path d=\"M0 0h24v24H0z\" fill=\"none\"></path><path d=\"M8.243 6.827a1 1 0 010-1.414l2.12-2.12a1 1 0 011.415 0l8.485 8.484a1 1 0 010 1.414l-2.12 2.121a1 1 0 01-1.415 0 1 1 0 00-1.415 1.414 1 1 0 010 1.414l-2.12 2.123a1 1 0 01-1.415 0l-8.485-8.486a1 1 0 010-1.414l2.122-2.121a1 1 0 011.414 0 1.001 1.001 0 001.414-1.415zm2-.586a3.002 3.002 0 01-4 4.002l-.829.828 7.07 7.07.829-.828a3.002 3.002 0 014.001-4.001l.828-.828-7.071-7.07-.828.827z\" fill=\"currentColor\"></path></g></svg></div><a class=\"Link__AnchorWrapper-k7o46r-1 cIDdag\" color=\"secondary\" href=\"/web/20210326225933/https://ra.co/events/1230904#tickets\"><span class=\"Text-sc-1t0gn2o-0 Link__StyledLink-k7o46r-0 iHZuSI\" color=\"secondary\" font-weight=\"normal\" href=\"/events/1230904#tickets\"><span class=\"Box-omzyfs-0 kMopVb\" display=\"[object Object]\">RA</span><span class=\"Box-omzyfs-0 fQMHMH\" display=\"[object Object]\">RA Tickets</span></span></a></div></div><div class=\"Box-omzyfs-0 sc-AxjAm jYikCb\" height=\"30\"><div class=\"Box-omzyfs-0 sc-AxjAm hoMiiH\" color=\"accent\" height=\"24\" width=\"24\"><svg aria-label=\"Person\" height=\"100%\" viewbox=\"0 0 24 24\" width=\"100%\"><g fill=\"none\" fill-rule=\"evenodd\"><path d=\"M0 0h24v24H0z\" fill=\"none\"></path><path d=\"M14 8a2 2 0 10-4 0 2 2 0 004 0zm2 0a4 4 0 11-8 0 4 4 0 018 0zM7 19a1 1 0 01-2 0 7 7 0 0114 0 1 1 0 01-2 0 5 5 0 00-10 0z\" fill=\"currentColor\"></path></g></svg></div><span class=\"Text-sc-1t0gn2o-0 hhfigA\" color=\"primary\" font-weight=\"normal\">9</span></div></div></div></li>,\n",
       " <li class=\"Column-sc-18hsrnn-0 jHShKh\"><div class=\"Box-omzyfs-0 sc-AxjAm dqkjhR\" data-test-id=\"ticketed-event\"><h3 class=\"Box-omzyfs-0 Heading__StyledBox-sc-120pa9w-0 fhMVGI\"><a class=\"Link__AnchorWrapper-k7o46r-1 bmWkiB\" data-test-id=\"event-listing-heading\" data-tracking-id=\"/events/1244295\" href=\"/web/20210326225933/https://ra.co/events/1244295\"><span class=\"Text-sc-1t0gn2o-0 Link__StyledLink-k7o46r-0 fAmOyf\" color=\"primary\" data-test-id=\"event-listing-heading\" data-tracking-id=\"/events/1244295\" font-weight=\"normal\" href=\"/events/1244295\">D'noir AM Feat. Chriss Vargas &amp; Anthony Lopez</span></a></h3><div class=\"Box-omzyfs-0 sc-AxjAm jVLhoy\"><span class=\"Text-sc-1t0gn2o-0 dWOMtb\" color=\"primary\" font-weight=\"normal\">Chriss Vargas, Anthony Lopez</span></div><div class=\"Box-omzyfs-0 sc-AxjAm fCFvgO\"><div class=\"Box-omzyfs-0 sc-AxjAm ebaaK\"><div class=\"Box-omzyfs-0 sc-AxjAm fOOuYI\" height=\"30\"><div class=\"Box-omzyfs-0 sc-AxjAm hoMiiH\" color=\"accent\" height=\"24\" width=\"24\"><svg aria-label=\"Location\" height=\"100%\" viewbox=\"0 0 24 24\" width=\"100%\"><g fill=\"none\" fill-rule=\"evenodd\"><path d=\"M0 0h24v24H0z\" fill=\"none\"></path><path d=\"M13.613 15.075c.26-.501.505-.988.732-1.456C15.393 11.456 16 9.785 16 9a4 4 0 10-8 0c0 .785.607 2.456 1.655 4.619.227.468.472.955.732 1.456A83.615 83.615 0 0012 18.022c.55-.962 1.1-1.96 1.613-2.947zM18 9c0 1.2-.67 3.045-1.855 5.491-.236.486-.49.99-.758 1.506a86.17 86.17 0 01-2.532 4.522 1 1 0 01-1.71 0 85.564 85.564 0 01-.793-1.35 86.17 86.17 0 01-1.74-3.172 60.318 60.318 0 01-.757-1.506C6.67 12.045 6 10.201 6 9a6 6 0 016-6 6 6 0 016 6z\" fill=\"currentColor\"></path><path d=\"M13 9a1 1 0 11-2 0 1 1 0 112 0\" fill=\"currentColor\"></path></g></svg></div><a class=\"Link__AnchorWrapper-k7o46r-1 cRvOHm\" color=\"primary\" href=\"/web/20210326225933/https://ra.co/clubs/157438\"><span class=\"Text-sc-1t0gn2o-0 Link__StyledLink-k7o46r-0 knBJCg\" color=\"primary\" font-weight=\"normal\" href=\"/clubs/157438\">Polygon BK</span></a></div><div class=\"Box-omzyfs-0 sc-AxjAm jYikCb\" height=\"30\"><div class=\"Box-omzyfs-0 sc-AxjAm faxXyr\" color=\"secondary\" height=\"24\" width=\"24\"><svg aria-label=\"Ticket\" height=\"100%\" viewbox=\"0 0 24 24\" width=\"100%\"><g fill=\"none\" fill-rule=\"evenodd\"><path d=\"M0 0h24v24H0z\" fill=\"none\"></path><path d=\"M8.243 6.827a1 1 0 010-1.414l2.12-2.12a1 1 0 011.415 0l8.485 8.484a1 1 0 010 1.414l-2.12 2.121a1 1 0 01-1.415 0 1 1 0 00-1.415 1.414 1 1 0 010 1.414l-2.12 2.123a1 1 0 01-1.415 0l-8.485-8.486a1 1 0 010-1.414l2.122-2.121a1 1 0 011.414 0 1.001 1.001 0 001.414-1.415zm2-.586a3.002 3.002 0 01-4 4.002l-.829.828 7.07 7.07.829-.828a3.002 3.002 0 014.001-4.001l.828-.828-7.071-7.07-.828.827z\" fill=\"currentColor\"></path></g></svg></div><a class=\"Link__AnchorWrapper-k7o46r-1 cIDdag\" color=\"secondary\" href=\"/web/20210326225933/https://ra.co/events/1244295#tickets\"><span class=\"Text-sc-1t0gn2o-0 Link__StyledLink-k7o46r-0 iHZuSI\" color=\"secondary\" font-weight=\"normal\" href=\"/events/1244295#tickets\"><span class=\"Box-omzyfs-0 kMopVb\" display=\"[object Object]\">RA</span><span class=\"Box-omzyfs-0 fQMHMH\" display=\"[object Object]\">RA Tickets</span></span></a></div></div><div class=\"Box-omzyfs-0 sc-AxjAm jYikCb\" height=\"30\"><div class=\"Box-omzyfs-0 sc-AxjAm hoMiiH\" color=\"accent\" height=\"24\" width=\"24\"><svg aria-label=\"Person\" height=\"100%\" viewbox=\"0 0 24 24\" width=\"100%\"><g fill=\"none\" fill-rule=\"evenodd\"><path d=\"M0 0h24v24H0z\" fill=\"none\"></path><path d=\"M14 8a2 2 0 10-4 0 2 2 0 004 0zm2 0a4 4 0 11-8 0 4 4 0 018 0zM7 19a1 1 0 01-2 0 7 7 0 0114 0 1 1 0 01-2 0 5 5 0 00-10 0z\" fill=\"currentColor\"></path></g></svg></div><span class=\"Text-sc-1t0gn2o-0 hhfigA\" color=\"primary\" font-weight=\"normal\">4</span></div></div></div></li>,\n",
       " <li class=\"Column-sc-18hsrnn-0 jHShKh\"><div class=\"Box-omzyfs-0 sc-AxjAm dqkjhR\" data-test-id=\"ticketed-event\"><h3 class=\"Box-omzyfs-0 Heading__StyledBox-sc-120pa9w-0 fhMVGI\"><a class=\"Link__AnchorWrapper-k7o46r-1 bmWkiB\" data-test-id=\"event-listing-heading\" data-tracking-id=\"/events/1236300\" href=\"/web/20210326225933/https://ra.co/events/1236300\"><span class=\"Text-sc-1t0gn2o-0 Link__StyledLink-k7o46r-0 fAmOyf\" color=\"primary\" data-test-id=\"event-listing-heading\" data-tracking-id=\"/events/1236300\" font-weight=\"normal\" href=\"/events/1236300\">The Scene presents: Aries</span></a></h3><div class=\"Box-omzyfs-0 sc-AxjAm jVLhoy\"><span class=\"Text-sc-1t0gn2o-0 dWOMtb\" color=\"primary\" font-weight=\"normal\">Hypnotix</span></div><div class=\"Box-omzyfs-0 sc-AxjAm fCFvgO\"><div class=\"Box-omzyfs-0 sc-AxjAm ebaaK\"><div class=\"Box-omzyfs-0 sc-AxjAm fOOuYI\" height=\"30\"><div class=\"Box-omzyfs-0 sc-AxjAm hoMiiH\" color=\"accent\" height=\"24\" width=\"24\"><svg aria-label=\"Location\" height=\"100%\" viewbox=\"0 0 24 24\" width=\"100%\"><g fill=\"none\" fill-rule=\"evenodd\"><path d=\"M0 0h24v24H0z\" fill=\"none\"></path><path d=\"M13.613 15.075c.26-.501.505-.988.732-1.456C15.393 11.456 16 9.785 16 9a4 4 0 10-8 0c0 .785.607 2.456 1.655 4.619.227.468.472.955.732 1.456A83.615 83.615 0 0012 18.022c.55-.962 1.1-1.96 1.613-2.947zM18 9c0 1.2-.67 3.045-1.855 5.491-.236.486-.49.99-.758 1.506a86.17 86.17 0 01-2.532 4.522 1 1 0 01-1.71 0 85.564 85.564 0 01-.793-1.35 86.17 86.17 0 01-1.74-3.172 60.318 60.318 0 01-.757-1.506C6.67 12.045 6 10.201 6 9a6 6 0 016-6 6 6 0 016 6z\" fill=\"currentColor\"></path><path d=\"M13 9a1 1 0 11-2 0 1 1 0 112 0\" fill=\"currentColor\"></path></g></svg></div><a class=\"Link__AnchorWrapper-k7o46r-1 cRvOHm\" color=\"primary\" href=\"/web/20210326225933/https://ra.co/clubs/156758\"><span class=\"Text-sc-1t0gn2o-0 Link__StyledLink-k7o46r-0 knBJCg\" color=\"primary\" font-weight=\"normal\" href=\"/clubs/156758\">Eris</span></a></div><div class=\"Box-omzyfs-0 sc-AxjAm jYikCb\" height=\"30\"><div class=\"Box-omzyfs-0 sc-AxjAm faxXyr\" color=\"secondary\" height=\"24\" width=\"24\"><svg aria-label=\"Ticket\" height=\"100%\" viewbox=\"0 0 24 24\" width=\"100%\"><g fill=\"none\" fill-rule=\"evenodd\"><path d=\"M0 0h24v24H0z\" fill=\"none\"></path><path d=\"M8.243 6.827a1 1 0 010-1.414l2.12-2.12a1 1 0 011.415 0l8.485 8.484a1 1 0 010 1.414l-2.12 2.121a1 1 0 01-1.415 0 1 1 0 00-1.415 1.414 1 1 0 010 1.414l-2.12 2.123a1 1 0 01-1.415 0l-8.485-8.486a1 1 0 010-1.414l2.122-2.121a1 1 0 011.414 0 1.001 1.001 0 001.414-1.415zm2-.586a3.002 3.002 0 01-4 4.002l-.829.828 7.07 7.07.829-.828a3.002 3.002 0 014.001-4.001l.828-.828-7.071-7.07-.828.827z\" fill=\"currentColor\"></path></g></svg></div><a class=\"Link__AnchorWrapper-k7o46r-1 cIDdag\" color=\"secondary\" href=\"/web/20210326225933/https://ra.co/events/1236300#tickets\"><span class=\"Text-sc-1t0gn2o-0 Link__StyledLink-k7o46r-0 iHZuSI\" color=\"secondary\" font-weight=\"normal\" href=\"/events/1236300#tickets\"><span class=\"Box-omzyfs-0 kMopVb\" display=\"[object Object]\">RA</span><span class=\"Box-omzyfs-0 fQMHMH\" display=\"[object Object]\">RA Tickets</span></span></a></div></div><div class=\"Box-omzyfs-0 sc-AxjAm jYikCb\" height=\"30\"><div class=\"Box-omzyfs-0 sc-AxjAm hoMiiH\" color=\"accent\" height=\"24\" width=\"24\"><svg aria-label=\"Person\" height=\"100%\" viewbox=\"0 0 24 24\" width=\"100%\"><g fill=\"none\" fill-rule=\"evenodd\"><path d=\"M0 0h24v24H0z\" fill=\"none\"></path><path d=\"M14 8a2 2 0 10-4 0 2 2 0 004 0zm2 0a4 4 0 11-8 0 4 4 0 018 0zM7 19a1 1 0 01-2 0 7 7 0 0114 0 1 1 0 01-2 0 5 5 0 00-10 0z\" fill=\"currentColor\"></path></g></svg></div><span class=\"Text-sc-1t0gn2o-0 hhfigA\" color=\"primary\" font-weight=\"normal\">3</span></div></div></div></li>,\n",
       " <li class=\"Column-sc-18hsrnn-0 jHShKh\"><div class=\"Box-omzyfs-0 sc-AxjAm dqkjhR\" data-test-id=\"ticketed-event\"><h3 class=\"Box-omzyfs-0 Heading__StyledBox-sc-120pa9w-0 fhMVGI\"><a class=\"Link__AnchorWrapper-k7o46r-1 bmWkiB\" data-test-id=\"event-listing-heading\" data-tracking-id=\"/events/1244224\" href=\"/web/20210326225933/https://ra.co/events/1244224\"><span class=\"Text-sc-1t0gn2o-0 Link__StyledLink-k7o46r-0 fAmOyf\" color=\"primary\" data-test-id=\"event-listing-heading\" data-tracking-id=\"/events/1244224\" font-weight=\"normal\" href=\"/events/1244224\">Ravel Penthouse 808 Rooftop Party Everyone Free Till 1am on List</span></a></h3><div class=\"Box-omzyfs-0 sc-AxjAm fCFvgO\"><div class=\"Box-omzyfs-0 sc-AxjAm ebaaK\"><div class=\"Box-omzyfs-0 sc-AxjAm fOOuYI\" height=\"30\"><div class=\"Box-omzyfs-0 sc-AxjAm hoMiiH\" color=\"accent\" height=\"24\" width=\"24\"><svg aria-label=\"Location\" height=\"100%\" viewbox=\"0 0 24 24\" width=\"100%\"><g fill=\"none\" fill-rule=\"evenodd\"><path d=\"M0 0h24v24H0z\" fill=\"none\"></path><path d=\"M13.613 15.075c.26-.501.505-.988.732-1.456C15.393 11.456 16 9.785 16 9a4 4 0 10-8 0c0 .785.607 2.456 1.655 4.619.227.468.472.955.732 1.456A83.615 83.615 0 0012 18.022c.55-.962 1.1-1.96 1.613-2.947zM18 9c0 1.2-.67 3.045-1.855 5.491-.236.486-.49.99-.758 1.506a86.17 86.17 0 01-2.532 4.522 1 1 0 01-1.71 0 85.564 85.564 0 01-.793-1.35 86.17 86.17 0 01-1.74-3.172 60.318 60.318 0 01-.757-1.506C6.67 12.045 6 10.201 6 9a6 6 0 016-6 6 6 0 016 6z\" fill=\"currentColor\"></path><path d=\"M13 9a1 1 0 11-2 0 1 1 0 112 0\" fill=\"currentColor\"></path></g></svg></div><a class=\"Link__AnchorWrapper-k7o46r-1 cRvOHm\" color=\"primary\" href=\"/web/20210326225933/https://ra.co/clubs/25377\"><span class=\"Text-sc-1t0gn2o-0 Link__StyledLink-k7o46r-0 knBJCg\" color=\"primary\" font-weight=\"normal\" href=\"/clubs/25377\">Ravel Hotel</span></a></div><div class=\"Box-omzyfs-0 sc-AxjAm jYikCb\" height=\"30\"><div class=\"Box-omzyfs-0 sc-AxjAm faxXyr\" color=\"secondary\" height=\"24\" width=\"24\"><svg aria-label=\"Ticket\" height=\"100%\" viewbox=\"0 0 24 24\" width=\"100%\"><g fill=\"none\" fill-rule=\"evenodd\"><path d=\"M0 0h24v24H0z\" fill=\"none\"></path><path d=\"M8.243 6.827a1 1 0 010-1.414l2.12-2.12a1 1 0 011.415 0l8.485 8.484a1 1 0 010 1.414l-2.12 2.121a1 1 0 01-1.415 0 1 1 0 00-1.415 1.414 1 1 0 010 1.414l-2.12 2.123a1 1 0 01-1.415 0l-8.485-8.486a1 1 0 010-1.414l2.122-2.121a1 1 0 011.414 0 1.001 1.001 0 001.414-1.415zm2-.586a3.002 3.002 0 01-4 4.002l-.829.828 7.07 7.07.829-.828a3.002 3.002 0 014.001-4.001l.828-.828-7.071-7.07-.828.827z\" fill=\"currentColor\"></path></g></svg></div><a class=\"Link__AnchorWrapper-k7o46r-1 cIDdag\" color=\"secondary\" href=\"/web/20210326225933/https://ra.co/events/1244224#tickets\"><span class=\"Text-sc-1t0gn2o-0 Link__StyledLink-k7o46r-0 iHZuSI\" color=\"secondary\" font-weight=\"normal\" href=\"/events/1244224#tickets\"><span class=\"Box-omzyfs-0 kMopVb\" display=\"[object Object]\">RA</span><span class=\"Box-omzyfs-0 fQMHMH\" display=\"[object Object]\">RA Tickets</span></span></a></div></div><div class=\"Box-omzyfs-0 sc-AxjAm jYikCb\" height=\"30\"><div class=\"Box-omzyfs-0 sc-AxjAm hoMiiH\" color=\"accent\" height=\"24\" width=\"24\"><svg aria-label=\"Person\" height=\"100%\" viewbox=\"0 0 24 24\" width=\"100%\"><g fill=\"none\" fill-rule=\"evenodd\"><path d=\"M0 0h24v24H0z\" fill=\"none\"></path><path d=\"M14 8a2 2 0 10-4 0 2 2 0 004 0zm2 0a4 4 0 11-8 0 4 4 0 018 0zM7 19a1 1 0 01-2 0 7 7 0 0114 0 1 1 0 01-2 0 5 5 0 00-10 0z\" fill=\"currentColor\"></path></g></svg></div><span class=\"Text-sc-1t0gn2o-0 hhfigA\" color=\"primary\" font-weight=\"normal\">2</span></div></div></div></li>,\n",
       " <li class=\"Column-sc-18hsrnn-0 jHShKh\"><div class=\"Box-omzyfs-0 sc-AxjAm dqkjhR\" data-test-id=\"ticketed-event\"><h3 class=\"Box-omzyfs-0 Heading__StyledBox-sc-120pa9w-0 fhMVGI\"><a class=\"Link__AnchorWrapper-k7o46r-1 bmWkiB\" data-test-id=\"event-listing-heading\" data-tracking-id=\"/events/1235655\" href=\"/web/20210326225933/https://ra.co/events/1235655\"><span class=\"Text-sc-1t0gn2o-0 Link__StyledLink-k7o46r-0 fAmOyf\" color=\"primary\" data-test-id=\"event-listing-heading\" data-tracking-id=\"/events/1235655\" font-weight=\"normal\" href=\"/events/1235655\">Vintage Culture presents So Track Boa</span></a></h3><div class=\"Box-omzyfs-0 sc-AxjAm jVLhoy\"><span class=\"Text-sc-1t0gn2o-0 dWOMtb\" color=\"primary\" font-weight=\"normal\">Volkoder, Vintage Culture</span></div><div class=\"Box-omzyfs-0 sc-AxjAm fCFvgO\"><div class=\"Box-omzyfs-0 sc-AxjAm ebaaK\"><div class=\"Box-omzyfs-0 sc-AxjAm fOOuYI\" height=\"30\"><div class=\"Box-omzyfs-0 sc-AxjAm hoMiiH\" color=\"accent\" height=\"24\" width=\"24\"><svg aria-label=\"Location\" height=\"100%\" viewbox=\"0 0 24 24\" width=\"100%\"><g fill=\"none\" fill-rule=\"evenodd\"><path d=\"M0 0h24v24H0z\" fill=\"none\"></path><path d=\"M13.613 15.075c.26-.501.505-.988.732-1.456C15.393 11.456 16 9.785 16 9a4 4 0 10-8 0c0 .785.607 2.456 1.655 4.619.227.468.472.955.732 1.456A83.615 83.615 0 0012 18.022c.55-.962 1.1-1.96 1.613-2.947zM18 9c0 1.2-.67 3.045-1.855 5.491-.236.486-.49.99-.758 1.506a86.17 86.17 0 01-2.532 4.522 1 1 0 01-1.71 0 85.564 85.564 0 01-.793-1.35 86.17 86.17 0 01-1.74-3.172 60.318 60.318 0 01-.757-1.506C6.67 12.045 6 10.201 6 9a6 6 0 016-6 6 6 0 016 6z\" fill=\"currentColor\"></path><path d=\"M13 9a1 1 0 11-2 0 1 1 0 112 0\" fill=\"currentColor\"></path></g></svg></div><a class=\"Link__AnchorWrapper-k7o46r-1 cRvOHm\" color=\"primary\" href=\"/web/20210326225933/https://ra.co/clubs/143012\"><span class=\"Text-sc-1t0gn2o-0 Link__StyledLink-k7o46r-0 knBJCg\" color=\"primary\" font-weight=\"normal\" href=\"/clubs/143012\">Kings Hall - Avant Gardner</span></a></div><div class=\"Box-omzyfs-0 sc-AxjAm jYikCb\" height=\"30\"><div class=\"Box-omzyfs-0 sc-AxjAm faxXyr\" color=\"secondary\" height=\"24\" width=\"24\"><svg aria-label=\"Ticket\" height=\"100%\" viewbox=\"0 0 24 24\" width=\"100%\"><g fill=\"none\" fill-rule=\"evenodd\"><path d=\"M0 0h24v24H0z\" fill=\"none\"></path><path d=\"M8.243 6.827a1 1 0 010-1.414l2.12-2.12a1 1 0 011.415 0l8.485 8.484a1 1 0 010 1.414l-2.12 2.121a1 1 0 01-1.415 0 1 1 0 00-1.415 1.414 1 1 0 010 1.414l-2.12 2.123a1 1 0 01-1.415 0l-8.485-8.486a1 1 0 010-1.414l2.122-2.121a1 1 0 011.414 0 1.001 1.001 0 001.414-1.415zm2-.586a3.002 3.002 0 01-4 4.002l-.829.828 7.07 7.07.829-.828a3.002 3.002 0 014.001-4.001l.828-.828-7.071-7.07-.828.827z\" fill=\"currentColor\"></path></g></svg></div><a class=\"Link__AnchorWrapper-k7o46r-1 cIDdag\" color=\"secondary\" href=\"/web/20210326225933/https://ra.co/events/1235655#tickets\"><span class=\"Text-sc-1t0gn2o-0 Link__StyledLink-k7o46r-0 iHZuSI\" color=\"secondary\" font-weight=\"normal\" href=\"/events/1235655#tickets\"><span class=\"Box-omzyfs-0 kMopVb\" display=\"[object Object]\">RA</span><span class=\"Box-omzyfs-0 fQMHMH\" display=\"[object Object]\">RA Tickets</span></span></a></div></div><div class=\"Box-omzyfs-0 sc-AxjAm jYikCb\" height=\"30\"><div class=\"Box-omzyfs-0 sc-AxjAm hoMiiH\" color=\"accent\" height=\"24\" width=\"24\"><svg aria-label=\"Person\" height=\"100%\" viewbox=\"0 0 24 24\" width=\"100%\"><g fill=\"none\" fill-rule=\"evenodd\"><path d=\"M0 0h24v24H0z\" fill=\"none\"></path><path d=\"M14 8a2 2 0 10-4 0 2 2 0 004 0zm2 0a4 4 0 11-8 0 4 4 0 018 0zM7 19a1 1 0 01-2 0 7 7 0 0114 0 1 1 0 01-2 0 5 5 0 00-10 0z\" fill=\"currentColor\"></path></g></svg></div><span class=\"Text-sc-1t0gn2o-0 hhfigA\" color=\"primary\" font-weight=\"normal\">1</span></div></div></div></li>,\n",
       " <li class=\"Column-sc-18hsrnn-0 jHShKh\"><div class=\"Box-omzyfs-0 sc-AxjAm dqkjhR\" data-test-id=\"ticketed-event\"><h3 class=\"Box-omzyfs-0 Heading__StyledBox-sc-120pa9w-0 fhMVGI\"><a class=\"Link__AnchorWrapper-k7o46r-1 bmWkiB\" data-test-id=\"event-listing-heading\" data-tracking-id=\"/events/1240375\" href=\"/web/20210326225933/https://ra.co/events/1240375\"><span class=\"Text-sc-1t0gn2o-0 Link__StyledLink-k7o46r-0 fAmOyf\" color=\"primary\" data-test-id=\"event-listing-heading\" data-tracking-id=\"/events/1240375\" font-weight=\"normal\" href=\"/events/1240375\">Ishan, Jonboyice, Ragazzi // Sonia Release Party</span></a></h3><div class=\"Box-omzyfs-0 sc-AxjAm fCFvgO\"><div class=\"Box-omzyfs-0 sc-AxjAm ebaaK\"><div class=\"Box-omzyfs-0 sc-AxjAm fOOuYI\" height=\"30\"><div class=\"Box-omzyfs-0 sc-AxjAm hoMiiH\" color=\"accent\" height=\"24\" width=\"24\"><svg aria-label=\"Location\" height=\"100%\" viewbox=\"0 0 24 24\" width=\"100%\"><g fill=\"none\" fill-rule=\"evenodd\"><path d=\"M0 0h24v24H0z\" fill=\"none\"></path><path d=\"M13.613 15.075c.26-.501.505-.988.732-1.456C15.393 11.456 16 9.785 16 9a4 4 0 10-8 0c0 .785.607 2.456 1.655 4.619.227.468.472.955.732 1.456A83.615 83.615 0 0012 18.022c.55-.962 1.1-1.96 1.613-2.947zM18 9c0 1.2-.67 3.045-1.855 5.491-.236.486-.49.99-.758 1.506a86.17 86.17 0 01-2.532 4.522 1 1 0 01-1.71 0 85.564 85.564 0 01-.793-1.35 86.17 86.17 0 01-1.74-3.172 60.318 60.318 0 01-.757-1.506C6.67 12.045 6 10.201 6 9a6 6 0 016-6 6 6 0 016 6z\" fill=\"currentColor\"></path><path d=\"M13 9a1 1 0 11-2 0 1 1 0 112 0\" fill=\"currentColor\"></path></g></svg></div><a class=\"Link__AnchorWrapper-k7o46r-1 cRvOHm\" color=\"primary\" href=\"/web/20210326225933/https://ra.co/clubs/114926\"><span class=\"Text-sc-1t0gn2o-0 Link__StyledLink-k7o46r-0 knBJCg\" color=\"primary\" font-weight=\"normal\" href=\"/clubs/114926\">Sunnyvale</span></a></div><div class=\"Box-omzyfs-0 sc-AxjAm jYikCb\" height=\"30\"><div class=\"Box-omzyfs-0 sc-AxjAm faxXyr\" color=\"secondary\" height=\"24\" width=\"24\"><svg aria-label=\"Ticket\" height=\"100%\" viewbox=\"0 0 24 24\" width=\"100%\"><g fill=\"none\" fill-rule=\"evenodd\"><path d=\"M0 0h24v24H0z\" fill=\"none\"></path><path d=\"M8.243 6.827a1 1 0 010-1.414l2.12-2.12a1 1 0 011.415 0l8.485 8.484a1 1 0 010 1.414l-2.12 2.121a1 1 0 01-1.415 0 1 1 0 00-1.415 1.414 1 1 0 010 1.414l-2.12 2.123a1 1 0 01-1.415 0l-8.485-8.486a1 1 0 010-1.414l2.122-2.121a1 1 0 011.414 0 1.001 1.001 0 001.414-1.415zm2-.586a3.002 3.002 0 01-4 4.002l-.829.828 7.07 7.07.829-.828a3.002 3.002 0 014.001-4.001l.828-.828-7.071-7.07-.828.827z\" fill=\"currentColor\"></path></g></svg></div><a class=\"Link__AnchorWrapper-k7o46r-1 cIDdag\" color=\"secondary\" href=\"/web/20210326225933/https://ra.co/events/1240375#tickets\"><span class=\"Text-sc-1t0gn2o-0 Link__StyledLink-k7o46r-0 iHZuSI\" color=\"secondary\" font-weight=\"normal\" href=\"/events/1240375#tickets\"><span class=\"Box-omzyfs-0 kMopVb\" display=\"[object Object]\">RA</span><span class=\"Box-omzyfs-0 fQMHMH\" display=\"[object Object]\">RA Tickets</span></span></a></div></div><div class=\"Box-omzyfs-0 sc-AxjAm jYikCb\" height=\"30\"><div class=\"Box-omzyfs-0 sc-AxjAm hoMiiH\" color=\"accent\" height=\"24\" width=\"24\"><svg aria-label=\"Person\" height=\"100%\" viewbox=\"0 0 24 24\" width=\"100%\"><g fill=\"none\" fill-rule=\"evenodd\"><path d=\"M0 0h24v24H0z\" fill=\"none\"></path><path d=\"M14 8a2 2 0 10-4 0 2 2 0 004 0zm2 0a4 4 0 11-8 0 4 4 0 018 0zM7 19a1 1 0 01-2 0 7 7 0 0114 0 1 1 0 01-2 0 5 5 0 00-10 0z\" fill=\"currentColor\"></path></g></svg></div><span class=\"Text-sc-1t0gn2o-0 hhfigA\" color=\"primary\" font-weight=\"normal\">1</span></div></div></div></li>,\n",
       " <li class=\"Column-sc-18hsrnn-0 jHShKh\"><div class=\"Box-omzyfs-0 sc-AxjAm dqkjhR\" data-test-id=\"ticketed-event\"><h3 class=\"Box-omzyfs-0 Heading__StyledBox-sc-120pa9w-0 fhMVGI\"><a class=\"Link__AnchorWrapper-k7o46r-1 bmWkiB\" data-test-id=\"event-listing-heading\" data-tracking-id=\"/events/1244097\" href=\"/web/20210326225933/https://ra.co/events/1244097\"><span class=\"Text-sc-1t0gn2o-0 Link__StyledLink-k7o46r-0 fAmOyf\" color=\"primary\" data-test-id=\"event-listing-heading\" data-tracking-id=\"/events/1244097\" font-weight=\"normal\" href=\"/events/1244097\">Celebrate Your Birthday at Ravel Penthouse 808 Saturdays</span></a></h3><div class=\"Box-omzyfs-0 sc-AxjAm fCFvgO\"><div class=\"Box-omzyfs-0 sc-AxjAm ebaaK\"><div class=\"Box-omzyfs-0 sc-AxjAm fOOuYI\" height=\"30\"><div class=\"Box-omzyfs-0 sc-AxjAm hoMiiH\" color=\"accent\" height=\"24\" width=\"24\"><svg aria-label=\"Location\" height=\"100%\" viewbox=\"0 0 24 24\" width=\"100%\"><g fill=\"none\" fill-rule=\"evenodd\"><path d=\"M0 0h24v24H0z\" fill=\"none\"></path><path d=\"M13.613 15.075c.26-.501.505-.988.732-1.456C15.393 11.456 16 9.785 16 9a4 4 0 10-8 0c0 .785.607 2.456 1.655 4.619.227.468.472.955.732 1.456A83.615 83.615 0 0012 18.022c.55-.962 1.1-1.96 1.613-2.947zM18 9c0 1.2-.67 3.045-1.855 5.491-.236.486-.49.99-.758 1.506a86.17 86.17 0 01-2.532 4.522 1 1 0 01-1.71 0 85.564 85.564 0 01-.793-1.35 86.17 86.17 0 01-1.74-3.172 60.318 60.318 0 01-.757-1.506C6.67 12.045 6 10.201 6 9a6 6 0 016-6 6 6 0 016 6z\" fill=\"currentColor\"></path><path d=\"M13 9a1 1 0 11-2 0 1 1 0 112 0\" fill=\"currentColor\"></path></g></svg></div><a class=\"Link__AnchorWrapper-k7o46r-1 cRvOHm\" color=\"primary\" href=\"/web/20210326225933/https://ra.co/clubs/62755\"><span class=\"Text-sc-1t0gn2o-0 Link__StyledLink-k7o46r-0 knBJCg\" color=\"primary\" font-weight=\"normal\" href=\"/clubs/62755\">Penthouse808</span></a></div><div class=\"Box-omzyfs-0 sc-AxjAm jYikCb\" height=\"30\"><div class=\"Box-omzyfs-0 sc-AxjAm faxXyr\" color=\"secondary\" height=\"24\" width=\"24\"><svg aria-label=\"Ticket\" height=\"100%\" viewbox=\"0 0 24 24\" width=\"100%\"><g fill=\"none\" fill-rule=\"evenodd\"><path d=\"M0 0h24v24H0z\" fill=\"none\"></path><path d=\"M8.243 6.827a1 1 0 010-1.414l2.12-2.12a1 1 0 011.415 0l8.485 8.484a1 1 0 010 1.414l-2.12 2.121a1 1 0 01-1.415 0 1 1 0 00-1.415 1.414 1 1 0 010 1.414l-2.12 2.123a1 1 0 01-1.415 0l-8.485-8.486a1 1 0 010-1.414l2.122-2.121a1 1 0 011.414 0 1.001 1.001 0 001.414-1.415zm2-.586a3.002 3.002 0 01-4 4.002l-.829.828 7.07 7.07.829-.828a3.002 3.002 0 014.001-4.001l.828-.828-7.071-7.07-.828.827z\" fill=\"currentColor\"></path></g></svg></div><a class=\"Link__AnchorWrapper-k7o46r-1 cIDdag\" color=\"secondary\" href=\"/web/20210326225933/https://ra.co/events/1244097#tickets\"><span class=\"Text-sc-1t0gn2o-0 Link__StyledLink-k7o46r-0 iHZuSI\" color=\"secondary\" font-weight=\"normal\" href=\"/events/1244097#tickets\"><span class=\"Box-omzyfs-0 kMopVb\" display=\"[object Object]\">RA</span><span class=\"Box-omzyfs-0 fQMHMH\" display=\"[object Object]\">RA Tickets</span></span></a></div></div><div class=\"Box-omzyfs-0 sc-AxjAm jYikCb\" height=\"30\"><div class=\"Box-omzyfs-0 sc-AxjAm hoMiiH\" color=\"accent\" height=\"24\" width=\"24\"><svg aria-label=\"Person\" height=\"100%\" viewbox=\"0 0 24 24\" width=\"100%\"><g fill=\"none\" fill-rule=\"evenodd\"><path d=\"M0 0h24v24H0z\" fill=\"none\"></path><path d=\"M14 8a2 2 0 10-4 0 2 2 0 004 0zm2 0a4 4 0 11-8 0 4 4 0 018 0zM7 19a1 1 0 01-2 0 7 7 0 0114 0 1 1 0 01-2 0 5 5 0 00-10 0z\" fill=\"currentColor\"></path></g></svg></div><span class=\"Text-sc-1t0gn2o-0 hhfigA\" color=\"primary\" font-weight=\"normal\">1</span></div></div></div></li>,\n",
       " <li class=\"Column-sc-18hsrnn-0 jHShKh\"><div class=\"Box-omzyfs-0 sc-AxjAm dqkjhR\" data-test-id=\"ticketed-event\"><h3 class=\"Box-omzyfs-0 Heading__StyledBox-sc-120pa9w-0 fhMVGI\"><a class=\"Link__AnchorWrapper-k7o46r-1 bmWkiB\" data-test-id=\"event-listing-heading\" data-tracking-id=\"/events/1217047\" href=\"/web/20210326225933/https://ra.co/events/1217047\"><span class=\"Text-sc-1t0gn2o-0 Link__StyledLink-k7o46r-0 fAmOyf\" color=\"primary\" data-test-id=\"event-listing-heading\" data-tracking-id=\"/events/1217047\" font-weight=\"normal\" href=\"/events/1217047\">Clubdub Springmassivenyc_001 Featuring: 6blocc</span></a></h3><div class=\"Box-omzyfs-0 sc-AxjAm jVLhoy\"><span class=\"Text-sc-1t0gn2o-0 dWOMtb\" color=\"primary\" font-weight=\"normal\">6BLOCC, Mike Morgan</span></div><div class=\"Box-omzyfs-0 sc-AxjAm fCFvgO\"><div class=\"Box-omzyfs-0 sc-AxjAm ebaaK\"><div class=\"Box-omzyfs-0 sc-AxjAm fOOuYI\" height=\"30\"><div class=\"Box-omzyfs-0 sc-AxjAm hoMiiH\" color=\"accent\" height=\"24\" width=\"24\"><svg aria-label=\"Location\" height=\"100%\" viewbox=\"0 0 24 24\" width=\"100%\"><g fill=\"none\" fill-rule=\"evenodd\"><path d=\"M0 0h24v24H0z\" fill=\"none\"></path><path d=\"M13.613 15.075c.26-.501.505-.988.732-1.456C15.393 11.456 16 9.785 16 9a4 4 0 10-8 0c0 .785.607 2.456 1.655 4.619.227.468.472.955.732 1.456A83.615 83.615 0 0012 18.022c.55-.962 1.1-1.96 1.613-2.947zM18 9c0 1.2-.67 3.045-1.855 5.491-.236.486-.49.99-.758 1.506a86.17 86.17 0 01-2.532 4.522 1 1 0 01-1.71 0 85.564 85.564 0 01-.793-1.35 86.17 86.17 0 01-1.74-3.172 60.318 60.318 0 01-.757-1.506C6.67 12.045 6 10.201 6 9a6 6 0 016-6 6 6 0 016 6z\" fill=\"currentColor\"></path><path d=\"M13 9a1 1 0 11-2 0 1 1 0 112 0\" fill=\"currentColor\"></path></g></svg></div><span class=\"Text-sc-1t0gn2o-0 hhfigA\" color=\"primary\" font-weight=\"normal\">TBA - New York</span></div><div class=\"Box-omzyfs-0 sc-AxjAm jYikCb\" height=\"30\"><div class=\"Box-omzyfs-0 sc-AxjAm faxXyr\" color=\"secondary\" height=\"24\" width=\"24\"><svg aria-label=\"Ticket\" height=\"100%\" viewbox=\"0 0 24 24\" width=\"100%\"><g fill=\"none\" fill-rule=\"evenodd\"><path d=\"M0 0h24v24H0z\" fill=\"none\"></path><path d=\"M8.243 6.827a1 1 0 010-1.414l2.12-2.12a1 1 0 011.415 0l8.485 8.484a1 1 0 010 1.414l-2.12 2.121a1 1 0 01-1.415 0 1 1 0 00-1.415 1.414 1 1 0 010 1.414l-2.12 2.123a1 1 0 01-1.415 0l-8.485-8.486a1 1 0 010-1.414l2.122-2.121a1 1 0 011.414 0 1.001 1.001 0 001.414-1.415zm2-.586a3.002 3.002 0 01-4 4.002l-.829.828 7.07 7.07.829-.828a3.002 3.002 0 014.001-4.001l.828-.828-7.071-7.07-.828.827z\" fill=\"currentColor\"></path></g></svg></div><a class=\"Link__AnchorWrapper-k7o46r-1 cIDdag\" color=\"secondary\" href=\"/web/20210326225933/https://ra.co/events/1217047#tickets\"><span class=\"Text-sc-1t0gn2o-0 Link__StyledLink-k7o46r-0 iHZuSI\" color=\"secondary\" font-weight=\"normal\" href=\"/events/1217047#tickets\"><span class=\"Box-omzyfs-0 kMopVb\" display=\"[object Object]\">RA</span><span class=\"Box-omzyfs-0 fQMHMH\" display=\"[object Object]\">RA Tickets</span></span></a></div></div><div class=\"Box-omzyfs-0 sc-AxjAm jYikCb\" height=\"30\"><div class=\"Box-omzyfs-0 sc-AxjAm hoMiiH\" color=\"accent\" height=\"24\" width=\"24\"><svg aria-label=\"Person\" height=\"100%\" viewbox=\"0 0 24 24\" width=\"100%\"><g fill=\"none\" fill-rule=\"evenodd\"><path d=\"M0 0h24v24H0z\" fill=\"none\"></path><path d=\"M14 8a2 2 0 10-4 0 2 2 0 004 0zm2 0a4 4 0 11-8 0 4 4 0 018 0zM7 19a1 1 0 01-2 0 7 7 0 0114 0 1 1 0 01-2 0 5 5 0 00-10 0z\" fill=\"currentColor\"></path></g></svg></div><span class=\"Text-sc-1t0gn2o-0 hhfigA\" color=\"primary\" font-weight=\"normal\">32</span></div></div></div></li>,\n",
       " <li class=\"Column-sc-18hsrnn-0 jHShKh\"><div class=\"Box-omzyfs-0 sc-AxjAm dqkjhR\" data-test-id=\"non-ticketed-event\"><h3 class=\"Box-omzyfs-0 Heading__StyledBox-sc-120pa9w-0 fhMVGI\"><a class=\"Link__AnchorWrapper-k7o46r-1 bmWkiB\" data-test-id=\"event-listing-heading\" data-tracking-id=\"/events/1238388\" href=\"/web/20210326225933/https://ra.co/events/1238388\"><span class=\"Text-sc-1t0gn2o-0 Link__StyledLink-k7o46r-0 fAmOyf\" color=\"primary\" data-test-id=\"event-listing-heading\" data-tracking-id=\"/events/1238388\" font-weight=\"normal\" href=\"/events/1238388\">Greg Beato, Quavius, Galcher Lustwerk</span></a></h3><div class=\"Box-omzyfs-0 sc-AxjAm jVLhoy\"><span class=\"Text-sc-1t0gn2o-0 dWOMtb\" color=\"primary\" font-weight=\"normal\">Galcher Lustwerk, Greg Beato, Quavius</span></div><div class=\"Box-omzyfs-0 sc-AxjAm fCFvgO\"><div class=\"Box-omzyfs-0 sc-AxjAm ebaaK\"><div class=\"Box-omzyfs-0 sc-AxjAm fOOuYI\" height=\"30\"><div class=\"Box-omzyfs-0 sc-AxjAm hoMiiH\" color=\"accent\" height=\"24\" width=\"24\"><svg aria-label=\"Location\" height=\"100%\" viewbox=\"0 0 24 24\" width=\"100%\"><g fill=\"none\" fill-rule=\"evenodd\"><path d=\"M0 0h24v24H0z\" fill=\"none\"></path><path d=\"M13.613 15.075c.26-.501.505-.988.732-1.456C15.393 11.456 16 9.785 16 9a4 4 0 10-8 0c0 .785.607 2.456 1.655 4.619.227.468.472.955.732 1.456A83.615 83.615 0 0012 18.022c.55-.962 1.1-1.96 1.613-2.947zM18 9c0 1.2-.67 3.045-1.855 5.491-.236.486-.49.99-.758 1.506a86.17 86.17 0 01-2.532 4.522 1 1 0 01-1.71 0 85.564 85.564 0 01-.793-1.35 86.17 86.17 0 01-1.74-3.172 60.318 60.318 0 01-.757-1.506C6.67 12.045 6 10.201 6 9a6 6 0 016-6 6 6 0 016 6z\" fill=\"currentColor\"></path><path d=\"M13 9a1 1 0 11-2 0 1 1 0 112 0\" fill=\"currentColor\"></path></g></svg></div><a class=\"Link__AnchorWrapper-k7o46r-1 cRvOHm\" color=\"primary\" href=\"/web/20210326225933/https://ra.co/clubs/71292\"><span class=\"Text-sc-1t0gn2o-0 Link__StyledLink-k7o46r-0 knBJCg\" color=\"primary\" font-weight=\"normal\" href=\"/clubs/71292\">Bossa Nova Civic Club</span></a></div></div><div class=\"Box-omzyfs-0 sc-AxjAm jYikCb\" height=\"30\"><div class=\"Box-omzyfs-0 sc-AxjAm hoMiiH\" color=\"accent\" height=\"24\" width=\"24\"><svg aria-label=\"Person\" height=\"100%\" viewbox=\"0 0 24 24\" width=\"100%\"><g fill=\"none\" fill-rule=\"evenodd\"><path d=\"M0 0h24v24H0z\" fill=\"none\"></path><path d=\"M14 8a2 2 0 10-4 0 2 2 0 004 0zm2 0a4 4 0 11-8 0 4 4 0 018 0zM7 19a1 1 0 01-2 0 7 7 0 0114 0 1 1 0 01-2 0 5 5 0 00-10 0z\" fill=\"currentColor\"></path></g></svg></div><span class=\"Text-sc-1t0gn2o-0 hhfigA\" color=\"primary\" font-weight=\"normal\">14</span></div></div></div></li>,\n",
       " <li class=\"Column-sc-18hsrnn-0 jHShKh\"><div class=\"Box-omzyfs-0 sc-AxjAm dqkjhR\" data-test-id=\"non-ticketed-event\"><h3 class=\"Box-omzyfs-0 Heading__StyledBox-sc-120pa9w-0 fhMVGI\"><a class=\"Link__AnchorWrapper-k7o46r-1 bmWkiB\" data-test-id=\"event-listing-heading\" data-tracking-id=\"/events/1226262\" href=\"/web/20210326225933/https://ra.co/events/1226262\"><span class=\"Text-sc-1t0gn2o-0 Link__StyledLink-k7o46r-0 fAmOyf\" color=\"primary\" data-test-id=\"event-listing-heading\" data-tracking-id=\"/events/1226262\" font-weight=\"normal\" href=\"/events/1226262\">House of Love with David Hohme</span></a></h3><div class=\"Box-omzyfs-0 sc-AxjAm jVLhoy\"><span class=\"Text-sc-1t0gn2o-0 dWOMtb\" color=\"primary\" font-weight=\"normal\">David Hohme, Amy Jor, Lolo with the Light, Arnaud Muller</span></div><div class=\"Box-omzyfs-0 sc-AxjAm fCFvgO\"><div class=\"Box-omzyfs-0 sc-AxjAm ebaaK\"><div class=\"Box-omzyfs-0 sc-AxjAm fOOuYI\" height=\"30\"><div class=\"Box-omzyfs-0 sc-AxjAm hoMiiH\" color=\"accent\" height=\"24\" width=\"24\"><svg aria-label=\"Location\" height=\"100%\" viewbox=\"0 0 24 24\" width=\"100%\"><g fill=\"none\" fill-rule=\"evenodd\"><path d=\"M0 0h24v24H0z\" fill=\"none\"></path><path d=\"M13.613 15.075c.26-.501.505-.988.732-1.456C15.393 11.456 16 9.785 16 9a4 4 0 10-8 0c0 .785.607 2.456 1.655 4.619.227.468.472.955.732 1.456A83.615 83.615 0 0012 18.022c.55-.962 1.1-1.96 1.613-2.947zM18 9c0 1.2-.67 3.045-1.855 5.491-.236.486-.49.99-.758 1.506a86.17 86.17 0 01-2.532 4.522 1 1 0 01-1.71 0 85.564 85.564 0 01-.793-1.35 86.17 86.17 0 01-1.74-3.172 60.318 60.318 0 01-.757-1.506C6.67 12.045 6 10.201 6 9a6 6 0 016-6 6 6 0 016 6z\" fill=\"currentColor\"></path><path d=\"M13 9a1 1 0 11-2 0 1 1 0 112 0\" fill=\"currentColor\"></path></g></svg></div><a class=\"Link__AnchorWrapper-k7o46r-1 cRvOHm\" color=\"primary\" href=\"/web/20210326225933/https://ra.co/clubs/21488\"><span class=\"Text-sc-1t0gn2o-0 Link__StyledLink-k7o46r-0 knBJCg\" color=\"primary\" font-weight=\"normal\" href=\"/clubs/21488\">House Of Yes</span></a></div></div><div class=\"Box-omzyfs-0 sc-AxjAm jYikCb\" height=\"30\"><div class=\"Box-omzyfs-0 sc-AxjAm hoMiiH\" color=\"accent\" height=\"24\" width=\"24\"><svg aria-label=\"Person\" height=\"100%\" viewbox=\"0 0 24 24\" width=\"100%\"><g fill=\"none\" fill-rule=\"evenodd\"><path d=\"M0 0h24v24H0z\" fill=\"none\"></path><path d=\"M14 8a2 2 0 10-4 0 2 2 0 004 0zm2 0a4 4 0 11-8 0 4 4 0 018 0zM7 19a1 1 0 01-2 0 7 7 0 0114 0 1 1 0 01-2 0 5 5 0 00-10 0z\" fill=\"currentColor\"></path></g></svg></div><span class=\"Text-sc-1t0gn2o-0 hhfigA\" color=\"primary\" font-weight=\"normal\">7</span></div></div></div></li>,\n",
       " <li class=\"Column-sc-18hsrnn-0 jHShKh\"><div class=\"Box-omzyfs-0 sc-AxjAm dqkjhR\" data-test-id=\"non-ticketed-event\"><h3 class=\"Box-omzyfs-0 Heading__StyledBox-sc-120pa9w-0 fhMVGI\"><a class=\"Link__AnchorWrapper-k7o46r-1 bmWkiB\" data-test-id=\"event-listing-heading\" data-tracking-id=\"/events/1235885\" href=\"/web/20210326225933/https://ra.co/events/1235885\"><span class=\"Text-sc-1t0gn2o-0 Link__StyledLink-k7o46r-0 fAmOyf\" color=\"primary\" data-test-id=\"event-listing-heading\" data-tracking-id=\"/events/1235885\" font-weight=\"normal\" href=\"/events/1235885\">Byron The Aquarius &amp; Toribio</span></a></h3><div class=\"Box-omzyfs-0 sc-AxjAm jVLhoy\"><span class=\"Text-sc-1t0gn2o-0 dWOMtb\" color=\"primary\" font-weight=\"normal\">Byron The Aquarius, Toribio</span></div><div class=\"Box-omzyfs-0 sc-AxjAm fCFvgO\"><div class=\"Box-omzyfs-0 sc-AxjAm ebaaK\"><div class=\"Box-omzyfs-0 sc-AxjAm fOOuYI\" height=\"30\"><div class=\"Box-omzyfs-0 sc-AxjAm hoMiiH\" color=\"accent\" height=\"24\" width=\"24\"><svg aria-label=\"Location\" height=\"100%\" viewbox=\"0 0 24 24\" width=\"100%\"><g fill=\"none\" fill-rule=\"evenodd\"><path d=\"M0 0h24v24H0z\" fill=\"none\"></path><path d=\"M13.613 15.075c.26-.501.505-.988.732-1.456C15.393 11.456 16 9.785 16 9a4 4 0 10-8 0c0 .785.607 2.456 1.655 4.619.227.468.472.955.732 1.456A83.615 83.615 0 0012 18.022c.55-.962 1.1-1.96 1.613-2.947zM18 9c0 1.2-.67 3.045-1.855 5.491-.236.486-.49.99-.758 1.506a86.17 86.17 0 01-2.532 4.522 1 1 0 01-1.71 0 85.564 85.564 0 01-.793-1.35 86.17 86.17 0 01-1.74-3.172 60.318 60.318 0 01-.757-1.506C6.67 12.045 6 10.201 6 9a6 6 0 016-6 6 6 0 016 6z\" fill=\"currentColor\"></path><path d=\"M13 9a1 1 0 11-2 0 1 1 0 112 0\" fill=\"currentColor\"></path></g></svg></div><a class=\"Link__AnchorWrapper-k7o46r-1 cRvOHm\" color=\"primary\" href=\"/web/20210326225933/https://ra.co/clubs/36873\"><span class=\"Text-sc-1t0gn2o-0 Link__StyledLink-k7o46r-0 knBJCg\" color=\"primary\" font-weight=\"normal\" href=\"/clubs/36873\">Le Bain</span></a></div></div><div class=\"Box-omzyfs-0 sc-AxjAm jYikCb\" height=\"30\"><div class=\"Box-omzyfs-0 sc-AxjAm hoMiiH\" color=\"accent\" height=\"24\" width=\"24\"><svg aria-label=\"Person\" height=\"100%\" viewbox=\"0 0 24 24\" width=\"100%\"><g fill=\"none\" fill-rule=\"evenodd\"><path d=\"M0 0h24v24H0z\" fill=\"none\"></path><path d=\"M14 8a2 2 0 10-4 0 2 2 0 004 0zm2 0a4 4 0 11-8 0 4 4 0 018 0zM7 19a1 1 0 01-2 0 7 7 0 0114 0 1 1 0 01-2 0 5 5 0 00-10 0z\" fill=\"currentColor\"></path></g></svg></div><span class=\"Text-sc-1t0gn2o-0 hhfigA\" color=\"primary\" font-weight=\"normal\">7</span></div></div></div></li>,\n",
       " <li class=\"Column-sc-18hsrnn-0 jHShKh\"><div class=\"Box-omzyfs-0 sc-AxjAm dqkjhR\" data-test-id=\"non-ticketed-event\"><h3 class=\"Box-omzyfs-0 Heading__StyledBox-sc-120pa9w-0 fhMVGI\"><a class=\"Link__AnchorWrapper-k7o46r-1 bmWkiB\" data-test-id=\"event-listing-heading\" data-tracking-id=\"/events/1238146\" href=\"/web/20210326225933/https://ra.co/events/1238146\"><span class=\"Text-sc-1t0gn2o-0 Link__StyledLink-k7o46r-0 fAmOyf\" color=\"primary\" data-test-id=\"event-listing-heading\" data-tracking-id=\"/events/1238146\" font-weight=\"normal\" href=\"/events/1238146\">ANTES x Saturday Mass with JKriv</span></a></h3><div class=\"Box-omzyfs-0 sc-AxjAm jVLhoy\"><span class=\"Text-sc-1t0gn2o-0 dWOMtb\" color=\"primary\" font-weight=\"normal\">JKriv, DGRO</span></div><div class=\"Box-omzyfs-0 sc-AxjAm fCFvgO\"><div class=\"Box-omzyfs-0 sc-AxjAm ebaaK\"><div class=\"Box-omzyfs-0 sc-AxjAm fOOuYI\" height=\"30\"><div class=\"Box-omzyfs-0 sc-AxjAm hoMiiH\" color=\"accent\" height=\"24\" width=\"24\"><svg aria-label=\"Location\" height=\"100%\" viewbox=\"0 0 24 24\" width=\"100%\"><g fill=\"none\" fill-rule=\"evenodd\"><path d=\"M0 0h24v24H0z\" fill=\"none\"></path><path d=\"M13.613 15.075c.26-.501.505-.988.732-1.456C15.393 11.456 16 9.785 16 9a4 4 0 10-8 0c0 .785.607 2.456 1.655 4.619.227.468.472.955.732 1.456A83.615 83.615 0 0012 18.022c.55-.962 1.1-1.96 1.613-2.947zM18 9c0 1.2-.67 3.045-1.855 5.491-.236.486-.49.99-.758 1.506a86.17 86.17 0 01-2.532 4.522 1 1 0 01-1.71 0 85.564 85.564 0 01-.793-1.35 86.17 86.17 0 01-1.74-3.172 60.318 60.318 0 01-.757-1.506C6.67 12.045 6 10.201 6 9a6 6 0 016-6 6 6 0 016 6z\" fill=\"currentColor\"></path><path d=\"M13 9a1 1 0 11-2 0 1 1 0 112 0\" fill=\"currentColor\"></path></g></svg></div><a class=\"Link__AnchorWrapper-k7o46r-1 cRvOHm\" color=\"primary\" href=\"/web/20210326225933/https://ra.co/clubs/145256\"><span class=\"Text-sc-1t0gn2o-0 Link__StyledLink-k7o46r-0 knBJCg\" color=\"primary\" font-weight=\"normal\" href=\"/clubs/145256\">The Williamsburg Hotel</span></a></div></div><div class=\"Box-omzyfs-0 sc-AxjAm jYikCb\" height=\"30\"><div class=\"Box-omzyfs-0 sc-AxjAm hoMiiH\" color=\"accent\" height=\"24\" width=\"24\"><svg aria-label=\"Person\" height=\"100%\" viewbox=\"0 0 24 24\" width=\"100%\"><g fill=\"none\" fill-rule=\"evenodd\"><path d=\"M0 0h24v24H0z\" fill=\"none\"></path><path d=\"M14 8a2 2 0 10-4 0 2 2 0 004 0zm2 0a4 4 0 11-8 0 4 4 0 018 0zM7 19a1 1 0 01-2 0 7 7 0 0114 0 1 1 0 01-2 0 5 5 0 00-10 0z\" fill=\"currentColor\"></path></g></svg></div><span class=\"Text-sc-1t0gn2o-0 hhfigA\" color=\"primary\" font-weight=\"normal\">7</span></div></div></div></li>,\n",
       " <li class=\"Column-sc-18hsrnn-0 jHShKh\"><div class=\"Box-omzyfs-0 sc-AxjAm dqkjhR\" data-test-id=\"non-ticketed-event\"><h3 class=\"Box-omzyfs-0 Heading__StyledBox-sc-120pa9w-0 fhMVGI\"><a class=\"Link__AnchorWrapper-k7o46r-1 bmWkiB\" data-test-id=\"event-listing-heading\" data-tracking-id=\"/events/1238115\" href=\"/web/20210326225933/https://ra.co/events/1238115\"><span class=\"Text-sc-1t0gn2o-0 Link__StyledLink-k7o46r-0 fAmOyf\" color=\"primary\" data-test-id=\"event-listing-heading\" data-tracking-id=\"/events/1238115\" font-weight=\"normal\" href=\"/events/1238115\">Shaker Mountain (The Party)</span></a></h3><div class=\"Box-omzyfs-0 sc-AxjAm jVLhoy\"><span class=\"Text-sc-1t0gn2o-0 dWOMtb\" color=\"primary\" font-weight=\"normal\">Baltra, p.leone, Pascale Project</span></div><div class=\"Box-omzyfs-0 sc-AxjAm fCFvgO\"><div class=\"Box-omzyfs-0 sc-AxjAm ebaaK\"><div class=\"Box-omzyfs-0 sc-AxjAm fOOuYI\" height=\"30\"><div class=\"Box-omzyfs-0 sc-AxjAm hoMiiH\" color=\"accent\" height=\"24\" width=\"24\"><svg aria-label=\"Location\" height=\"100%\" viewbox=\"0 0 24 24\" width=\"100%\"><g fill=\"none\" fill-rule=\"evenodd\"><path d=\"M0 0h24v24H0z\" fill=\"none\"></path><path d=\"M13.613 15.075c.26-.501.505-.988.732-1.456C15.393 11.456 16 9.785 16 9a4 4 0 10-8 0c0 .785.607 2.456 1.655 4.619.227.468.472.955.732 1.456A83.615 83.615 0 0012 18.022c.55-.962 1.1-1.96 1.613-2.947zM18 9c0 1.2-.67 3.045-1.855 5.491-.236.486-.49.99-.758 1.506a86.17 86.17 0 01-2.532 4.522 1 1 0 01-1.71 0 85.564 85.564 0 01-.793-1.35 86.17 86.17 0 01-1.74-3.172 60.318 60.318 0 01-.757-1.506C6.67 12.045 6 10.201 6 9a6 6 0 016-6 6 6 0 016 6z\" fill=\"currentColor\"></path><path d=\"M13 9a1 1 0 11-2 0 1 1 0 112 0\" fill=\"currentColor\"></path></g></svg></div><a class=\"Link__AnchorWrapper-k7o46r-1 cRvOHm\" color=\"primary\" href=\"/web/20210326225933/https://ra.co/clubs/105424\"><span class=\"Text-sc-1t0gn2o-0 Link__StyledLink-k7o46r-0 knBJCg\" color=\"primary\" font-weight=\"normal\" href=\"/clubs/105424\">Black Flamingo</span></a></div></div><div class=\"Box-omzyfs-0 sc-AxjAm jYikCb\" height=\"30\"><div class=\"Box-omzyfs-0 sc-AxjAm hoMiiH\" color=\"accent\" height=\"24\" width=\"24\"><svg aria-label=\"Person\" height=\"100%\" viewbox=\"0 0 24 24\" width=\"100%\"><g fill=\"none\" fill-rule=\"evenodd\"><path d=\"M0 0h24v24H0z\" fill=\"none\"></path><path d=\"M14 8a2 2 0 10-4 0 2 2 0 004 0zm2 0a4 4 0 11-8 0 4 4 0 018 0zM7 19a1 1 0 01-2 0 7 7 0 0114 0 1 1 0 01-2 0 5 5 0 00-10 0z\" fill=\"currentColor\"></path></g></svg></div><span class=\"Text-sc-1t0gn2o-0 hhfigA\" color=\"primary\" font-weight=\"normal\">6</span></div></div></div></li>,\n",
       " <li class=\"Column-sc-18hsrnn-0 jHShKh\"><div class=\"Box-omzyfs-0 sc-AxjAm dqkjhR\" data-test-id=\"non-ticketed-event\"><h3 class=\"Box-omzyfs-0 Heading__StyledBox-sc-120pa9w-0 fhMVGI\"><a class=\"Link__AnchorWrapper-k7o46r-1 bmWkiB\" data-test-id=\"event-listing-heading\" data-tracking-id=\"/events/1237197\" href=\"/web/20210326225933/https://ra.co/events/1237197\"><span class=\"Text-sc-1t0gn2o-0 Link__StyledLink-k7o46r-0 fAmOyf\" color=\"primary\" data-test-id=\"event-listing-heading\" data-tracking-id=\"/events/1237197\" font-weight=\"normal\" href=\"/events/1237197\">Earthbound Viii</span></a></h3><div class=\"Box-omzyfs-0 sc-AxjAm jVLhoy\"><span class=\"Text-sc-1t0gn2o-0 dWOMtb\" color=\"primary\" font-weight=\"normal\">DJ Stiif</span></div><div class=\"Box-omzyfs-0 sc-AxjAm fCFvgO\"><div class=\"Box-omzyfs-0 sc-AxjAm ebaaK\"><div class=\"Box-omzyfs-0 sc-AxjAm fOOuYI\" height=\"30\"><div class=\"Box-omzyfs-0 sc-AxjAm hoMiiH\" color=\"accent\" height=\"24\" width=\"24\"><svg aria-label=\"Location\" height=\"100%\" viewbox=\"0 0 24 24\" width=\"100%\"><g fill=\"none\" fill-rule=\"evenodd\"><path d=\"M0 0h24v24H0z\" fill=\"none\"></path><path d=\"M13.613 15.075c.26-.501.505-.988.732-1.456C15.393 11.456 16 9.785 16 9a4 4 0 10-8 0c0 .785.607 2.456 1.655 4.619.227.468.472.955.732 1.456A83.615 83.615 0 0012 18.022c.55-.962 1.1-1.96 1.613-2.947zM18 9c0 1.2-.67 3.045-1.855 5.491-.236.486-.49.99-.758 1.506a86.17 86.17 0 01-2.532 4.522 1 1 0 01-1.71 0 85.564 85.564 0 01-.793-1.35 86.17 86.17 0 01-1.74-3.172 60.318 60.318 0 01-.757-1.506C6.67 12.045 6 10.201 6 9a6 6 0 016-6 6 6 0 016 6z\" fill=\"currentColor\"></path><path d=\"M13 9a1 1 0 11-2 0 1 1 0 112 0\" fill=\"currentColor\"></path></g></svg></div><a class=\"Link__AnchorWrapper-k7o46r-1 cRvOHm\" color=\"primary\" href=\"/web/20210326225933/https://ra.co/clubs/89332\"><span class=\"Text-sc-1t0gn2o-0 Link__StyledLink-k7o46r-0 knBJCg\" color=\"primary\" font-weight=\"normal\" href=\"/clubs/89332\">Art Cafe/Bar</span></a></div></div><div class=\"Box-omzyfs-0 sc-AxjAm jYikCb\" height=\"30\"><div class=\"Box-omzyfs-0 sc-AxjAm hoMiiH\" color=\"accent\" height=\"24\" width=\"24\"><svg aria-label=\"Person\" height=\"100%\" viewbox=\"0 0 24 24\" width=\"100%\"><g fill=\"none\" fill-rule=\"evenodd\"><path d=\"M0 0h24v24H0z\" fill=\"none\"></path><path d=\"M14 8a2 2 0 10-4 0 2 2 0 004 0zm2 0a4 4 0 11-8 0 4 4 0 018 0zM7 19a1 1 0 01-2 0 7 7 0 0114 0 1 1 0 01-2 0 5 5 0 00-10 0z\" fill=\"currentColor\"></path></g></svg></div><span class=\"Text-sc-1t0gn2o-0 hhfigA\" color=\"primary\" font-weight=\"normal\">5</span></div></div></div></li>,\n",
       " <li class=\"Column-sc-18hsrnn-0 jHShKh\"><div class=\"Box-omzyfs-0 sc-AxjAm dqkjhR\" data-test-id=\"non-ticketed-event\"><h3 class=\"Box-omzyfs-0 Heading__StyledBox-sc-120pa9w-0 fhMVGI\"><a class=\"Link__AnchorWrapper-k7o46r-1 bmWkiB\" data-test-id=\"event-listing-heading\" data-tracking-id=\"/events/1243531\" href=\"/web/20210326225933/https://ra.co/events/1243531\"><span class=\"Text-sc-1t0gn2o-0 Link__StyledLink-k7o46r-0 fAmOyf\" color=\"primary\" data-test-id=\"event-listing-heading\" data-tracking-id=\"/events/1243531\" font-weight=\"normal\" href=\"/events/1243531\">J.Worra, Chuurch, Charmae, Bad Ginger, Concept</span></a></h3><div class=\"Box-omzyfs-0 sc-AxjAm jVLhoy\"><span class=\"Text-sc-1t0gn2o-0 dWOMtb\" color=\"primary\" font-weight=\"normal\">Bad Ginger, J. Worra</span></div><div class=\"Box-omzyfs-0 sc-AxjAm fCFvgO\"><div class=\"Box-omzyfs-0 sc-AxjAm ebaaK\"><div class=\"Box-omzyfs-0 sc-AxjAm fOOuYI\" height=\"30\"><div class=\"Box-omzyfs-0 sc-AxjAm hoMiiH\" color=\"accent\" height=\"24\" width=\"24\"><svg aria-label=\"Location\" height=\"100%\" viewbox=\"0 0 24 24\" width=\"100%\"><g fill=\"none\" fill-rule=\"evenodd\"><path d=\"M0 0h24v24H0z\" fill=\"none\"></path><path d=\"M13.613 15.075c.26-.501.505-.988.732-1.456C15.393 11.456 16 9.785 16 9a4 4 0 10-8 0c0 .785.607 2.456 1.655 4.619.227.468.472.955.732 1.456A83.615 83.615 0 0012 18.022c.55-.962 1.1-1.96 1.613-2.947zM18 9c0 1.2-.67 3.045-1.855 5.491-.236.486-.49.99-.758 1.506a86.17 86.17 0 01-2.532 4.522 1 1 0 01-1.71 0 85.564 85.564 0 01-.793-1.35 86.17 86.17 0 01-1.74-3.172 60.318 60.318 0 01-.757-1.506C6.67 12.045 6 10.201 6 9a6 6 0 016-6 6 6 0 016 6z\" fill=\"currentColor\"></path><path d=\"M13 9a1 1 0 11-2 0 1 1 0 112 0\" fill=\"currentColor\"></path></g></svg></div><a class=\"Link__AnchorWrapper-k7o46r-1 cRvOHm\" color=\"primary\" href=\"/web/20210326225933/https://ra.co/clubs/21057\"><span class=\"Text-sc-1t0gn2o-0 Link__StyledLink-k7o46r-0 knBJCg\" color=\"primary\" font-weight=\"normal\" href=\"/clubs/21057\">Knitting Factory</span></a></div></div><div class=\"Box-omzyfs-0 sc-AxjAm jYikCb\" height=\"30\"><div class=\"Box-omzyfs-0 sc-AxjAm hoMiiH\" color=\"accent\" height=\"24\" width=\"24\"><svg aria-label=\"Person\" height=\"100%\" viewbox=\"0 0 24 24\" width=\"100%\"><g fill=\"none\" fill-rule=\"evenodd\"><path d=\"M0 0h24v24H0z\" fill=\"none\"></path><path d=\"M14 8a2 2 0 10-4 0 2 2 0 004 0zm2 0a4 4 0 11-8 0 4 4 0 018 0zM7 19a1 1 0 01-2 0 7 7 0 0114 0 1 1 0 01-2 0 5 5 0 00-10 0z\" fill=\"currentColor\"></path></g></svg></div><span class=\"Text-sc-1t0gn2o-0 hhfigA\" color=\"primary\" font-weight=\"normal\">4</span></div></div></div></li>,\n",
       " <li class=\"Column-sc-18hsrnn-0 jHShKh\"><div class=\"Box-omzyfs-0 sc-AxjAm dqkjhR\" data-test-id=\"non-ticketed-event\"><h3 class=\"Box-omzyfs-0 Heading__StyledBox-sc-120pa9w-0 fhMVGI\"><a class=\"Link__AnchorWrapper-k7o46r-1 bmWkiB\" data-test-id=\"event-listing-heading\" data-tracking-id=\"/events/1241982\" href=\"/web/20210326225933/https://ra.co/events/1241982\"><span class=\"Text-sc-1t0gn2o-0 Link__StyledLink-k7o46r-0 fAmOyf\" color=\"primary\" data-test-id=\"event-listing-heading\" data-tracking-id=\"/events/1241982\" font-weight=\"normal\" href=\"/events/1241982\">Sole Rehab 040 - Sis Girl and Séance Michael</span></a></h3><div class=\"Box-omzyfs-0 sc-AxjAm jVLhoy\"><span class=\"Text-sc-1t0gn2o-0 dWOMtb\" color=\"primary\" font-weight=\"normal\">Ghost Stories, Sis Girl, Séance Michael</span></div><div class=\"Box-omzyfs-0 sc-AxjAm fCFvgO\"><div class=\"Box-omzyfs-0 sc-AxjAm ebaaK\"><div class=\"Box-omzyfs-0 sc-AxjAm fOOuYI\" height=\"30\"><div class=\"Box-omzyfs-0 sc-AxjAm hoMiiH\" color=\"accent\" height=\"24\" width=\"24\"><svg aria-label=\"Location\" height=\"100%\" viewbox=\"0 0 24 24\" width=\"100%\"><g fill=\"none\" fill-rule=\"evenodd\"><path d=\"M0 0h24v24H0z\" fill=\"none\"></path><path d=\"M13.613 15.075c.26-.501.505-.988.732-1.456C15.393 11.456 16 9.785 16 9a4 4 0 10-8 0c0 .785.607 2.456 1.655 4.619.227.468.472.955.732 1.456A83.615 83.615 0 0012 18.022c.55-.962 1.1-1.96 1.613-2.947zM18 9c0 1.2-.67 3.045-1.855 5.491-.236.486-.49.99-.758 1.506a86.17 86.17 0 01-2.532 4.522 1 1 0 01-1.71 0 85.564 85.564 0 01-.793-1.35 86.17 86.17 0 01-1.74-3.172 60.318 60.318 0 01-.757-1.506C6.67 12.045 6 10.201 6 9a6 6 0 016-6 6 6 0 016 6z\" fill=\"currentColor\"></path><path d=\"M13 9a1 1 0 11-2 0 1 1 0 112 0\" fill=\"currentColor\"></path></g></svg></div><span class=\"Text-sc-1t0gn2o-0 hhfigA\" color=\"primary\" font-weight=\"normal\">TBA - Rochester</span></div></div><div class=\"Box-omzyfs-0 sc-AxjAm jYikCb\" height=\"30\"><div class=\"Box-omzyfs-0 sc-AxjAm hoMiiH\" color=\"accent\" height=\"24\" width=\"24\"><svg aria-label=\"Person\" height=\"100%\" viewbox=\"0 0 24 24\" width=\"100%\"><g fill=\"none\" fill-rule=\"evenodd\"><path d=\"M0 0h24v24H0z\" fill=\"none\"></path><path d=\"M14 8a2 2 0 10-4 0 2 2 0 004 0zm2 0a4 4 0 11-8 0 4 4 0 018 0zM7 19a1 1 0 01-2 0 7 7 0 0114 0 1 1 0 01-2 0 5 5 0 00-10 0z\" fill=\"currentColor\"></path></g></svg></div><span class=\"Text-sc-1t0gn2o-0 hhfigA\" color=\"primary\" font-weight=\"normal\">4</span></div></div></div></li>,\n",
       " <li class=\"Column-sc-18hsrnn-0 jHShKh\"><div class=\"Box-omzyfs-0 sc-AxjAm dqkjhR\" data-test-id=\"non-ticketed-event\"><h3 class=\"Box-omzyfs-0 Heading__StyledBox-sc-120pa9w-0 fhMVGI\"><a class=\"Link__AnchorWrapper-k7o46r-1 bmWkiB\" data-test-id=\"event-listing-heading\" data-tracking-id=\"/events/1238812\" href=\"/web/20210326225933/https://ra.co/events/1238812\"><span class=\"Text-sc-1t0gn2o-0 Link__StyledLink-k7o46r-0 fAmOyf\" color=\"primary\" data-test-id=\"event-listing-heading\" data-tracking-id=\"/events/1238812\" font-weight=\"normal\" href=\"/events/1238812\">Against The Grain</span></a></h3><div class=\"Box-omzyfs-0 sc-AxjAm jVLhoy\"><span class=\"Text-sc-1t0gn2o-0 dWOMtb\" color=\"primary\" font-weight=\"normal\">Dave Pech, Decibel Flekx, Aldo Ron Sanchez, Past Deep, SPEEDŸ</span></div><div class=\"Box-omzyfs-0 sc-AxjAm fCFvgO\"><div class=\"Box-omzyfs-0 sc-AxjAm ebaaK\"><div class=\"Box-omzyfs-0 sc-AxjAm fOOuYI\" height=\"30\"><div class=\"Box-omzyfs-0 sc-AxjAm hoMiiH\" color=\"accent\" height=\"24\" width=\"24\"><svg aria-label=\"Location\" height=\"100%\" viewbox=\"0 0 24 24\" width=\"100%\"><g fill=\"none\" fill-rule=\"evenodd\"><path d=\"M0 0h24v24H0z\" fill=\"none\"></path><path d=\"M13.613 15.075c.26-.501.505-.988.732-1.456C15.393 11.456 16 9.785 16 9a4 4 0 10-8 0c0 .785.607 2.456 1.655 4.619.227.468.472.955.732 1.456A83.615 83.615 0 0012 18.022c.55-.962 1.1-1.96 1.613-2.947zM18 9c0 1.2-.67 3.045-1.855 5.491-.236.486-.49.99-.758 1.506a86.17 86.17 0 01-2.532 4.522 1 1 0 01-1.71 0 85.564 85.564 0 01-.793-1.35 86.17 86.17 0 01-1.74-3.172 60.318 60.318 0 01-.757-1.506C6.67 12.045 6 10.201 6 9a6 6 0 016-6 6 6 0 016 6z\" fill=\"currentColor\"></path><path d=\"M13 9a1 1 0 11-2 0 1 1 0 112 0\" fill=\"currentColor\"></path></g></svg></div><a class=\"Link__AnchorWrapper-k7o46r-1 cRvOHm\" color=\"primary\" href=\"/web/20210326225933/https://ra.co/clubs/164287\"><span class=\"Text-sc-1t0gn2o-0 Link__StyledLink-k7o46r-0 knBJCg\" color=\"primary\" font-weight=\"normal\" href=\"/clubs/164287\">14B Rooftop / Lounge</span></a></div></div><div class=\"Box-omzyfs-0 sc-AxjAm jYikCb\" height=\"30\"><div class=\"Box-omzyfs-0 sc-AxjAm hoMiiH\" color=\"accent\" height=\"24\" width=\"24\"><svg aria-label=\"Person\" height=\"100%\" viewbox=\"0 0 24 24\" width=\"100%\"><g fill=\"none\" fill-rule=\"evenodd\"><path d=\"M0 0h24v24H0z\" fill=\"none\"></path><path d=\"M14 8a2 2 0 10-4 0 2 2 0 004 0zm2 0a4 4 0 11-8 0 4 4 0 018 0zM7 19a1 1 0 01-2 0 7 7 0 0114 0 1 1 0 01-2 0 5 5 0 00-10 0z\" fill=\"currentColor\"></path></g></svg></div><span class=\"Text-sc-1t0gn2o-0 hhfigA\" color=\"primary\" font-weight=\"normal\">3</span></div></div></div></li>,\n",
       " <li class=\"Column-sc-18hsrnn-0 jHShKh\"><div class=\"Box-omzyfs-0 sc-AxjAm dqkjhR\" data-test-id=\"non-ticketed-event\"><h3 class=\"Box-omzyfs-0 Heading__StyledBox-sc-120pa9w-0 fhMVGI\"><a class=\"Link__AnchorWrapper-k7o46r-1 bmWkiB\" data-test-id=\"event-listing-heading\" data-tracking-id=\"/events/1242547\" href=\"/web/20210326225933/https://ra.co/events/1242547\"><span class=\"Text-sc-1t0gn2o-0 Link__StyledLink-k7o46r-0 fAmOyf\" color=\"primary\" data-test-id=\"event-listing-heading\" data-tracking-id=\"/events/1242547\" font-weight=\"normal\" href=\"/events/1242547\">Rekert: Seth Magoon Joe Bronson</span></a></h3><div class=\"Box-omzyfs-0 sc-AxjAm jVLhoy\"><span class=\"Text-sc-1t0gn2o-0 dWOMtb\" color=\"primary\" font-weight=\"normal\">Disgonuts, PK.KID, Seth Magoon</span></div><div class=\"Box-omzyfs-0 sc-AxjAm fCFvgO\"><div class=\"Box-omzyfs-0 sc-AxjAm ebaaK\"><div class=\"Box-omzyfs-0 sc-AxjAm fOOuYI\" height=\"30\"><div class=\"Box-omzyfs-0 sc-AxjAm hoMiiH\" color=\"accent\" height=\"24\" width=\"24\"><svg aria-label=\"Location\" height=\"100%\" viewbox=\"0 0 24 24\" width=\"100%\"><g fill=\"none\" fill-rule=\"evenodd\"><path d=\"M0 0h24v24H0z\" fill=\"none\"></path><path d=\"M13.613 15.075c.26-.501.505-.988.732-1.456C15.393 11.456 16 9.785 16 9a4 4 0 10-8 0c0 .785.607 2.456 1.655 4.619.227.468.472.955.732 1.456A83.615 83.615 0 0012 18.022c.55-.962 1.1-1.96 1.613-2.947zM18 9c0 1.2-.67 3.045-1.855 5.491-.236.486-.49.99-.758 1.506a86.17 86.17 0 01-2.532 4.522 1 1 0 01-1.71 0 85.564 85.564 0 01-.793-1.35 86.17 86.17 0 01-1.74-3.172 60.318 60.318 0 01-.757-1.506C6.67 12.045 6 10.201 6 9a6 6 0 016-6 6 6 0 016 6z\" fill=\"currentColor\"></path><path d=\"M13 9a1 1 0 11-2 0 1 1 0 112 0\" fill=\"currentColor\"></path></g></svg></div><a class=\"Link__AnchorWrapper-k7o46r-1 cRvOHm\" color=\"primary\" href=\"/web/20210326225933/https://ra.co/clubs/128789\"><span class=\"Text-sc-1t0gn2o-0 Link__StyledLink-k7o46r-0 knBJCg\" color=\"primary\" font-weight=\"normal\" href=\"/clubs/128789\">Jupiter Disco</span></a></div></div><div class=\"Box-omzyfs-0 sc-AxjAm jYikCb\" height=\"30\"><div class=\"Box-omzyfs-0 sc-AxjAm hoMiiH\" color=\"accent\" height=\"24\" width=\"24\"><svg aria-label=\"Person\" height=\"100%\" viewbox=\"0 0 24 24\" width=\"100%\"><g fill=\"none\" fill-rule=\"evenodd\"><path d=\"M0 0h24v24H0z\" fill=\"none\"></path><path d=\"M14 8a2 2 0 10-4 0 2 2 0 004 0zm2 0a4 4 0 11-8 0 4 4 0 018 0zM7 19a1 1 0 01-2 0 7 7 0 0114 0 1 1 0 01-2 0 5 5 0 00-10 0z\" fill=\"currentColor\"></path></g></svg></div><span class=\"Text-sc-1t0gn2o-0 hhfigA\" color=\"primary\" font-weight=\"normal\">3</span></div></div></div></li>,\n",
       " <li class=\"Column-sc-18hsrnn-0 jHShKh\"><div class=\"Box-omzyfs-0 sc-AxjAm dqkjhR\" data-test-id=\"non-ticketed-event\"><h3 class=\"Box-omzyfs-0 Heading__StyledBox-sc-120pa9w-0 fhMVGI\"><a class=\"Link__AnchorWrapper-k7o46r-1 bmWkiB\" data-test-id=\"event-listing-heading\" data-tracking-id=\"/events/1229499\" href=\"/web/20210326225933/https://ra.co/events/1229499\"><span class=\"Text-sc-1t0gn2o-0 Link__StyledLink-k7o46r-0 fAmOyf\" color=\"primary\" data-test-id=\"event-listing-heading\" data-tracking-id=\"/events/1229499\" font-weight=\"normal\" href=\"/events/1229499\">Pyramid: Kenny Glasgow at Lockhouse Distillery &amp; Bar</span></a></h3><div class=\"Box-omzyfs-0 sc-AxjAm jVLhoy\"><span class=\"Text-sc-1t0gn2o-0 dWOMtb\" color=\"primary\" font-weight=\"normal\">Kenny Glasgow</span></div><div class=\"Box-omzyfs-0 sc-AxjAm fCFvgO\"><div class=\"Box-omzyfs-0 sc-AxjAm ebaaK\"><div class=\"Box-omzyfs-0 sc-AxjAm fOOuYI\" height=\"30\"><div class=\"Box-omzyfs-0 sc-AxjAm hoMiiH\" color=\"accent\" height=\"24\" width=\"24\"><svg aria-label=\"Location\" height=\"100%\" viewbox=\"0 0 24 24\" width=\"100%\"><g fill=\"none\" fill-rule=\"evenodd\"><path d=\"M0 0h24v24H0z\" fill=\"none\"></path><path d=\"M13.613 15.075c.26-.501.505-.988.732-1.456C15.393 11.456 16 9.785 16 9a4 4 0 10-8 0c0 .785.607 2.456 1.655 4.619.227.468.472.955.732 1.456A83.615 83.615 0 0012 18.022c.55-.962 1.1-1.96 1.613-2.947zM18 9c0 1.2-.67 3.045-1.855 5.491-.236.486-.49.99-.758 1.506a86.17 86.17 0 01-2.532 4.522 1 1 0 01-1.71 0 85.564 85.564 0 01-.793-1.35 86.17 86.17 0 01-1.74-3.172 60.318 60.318 0 01-.757-1.506C6.67 12.045 6 10.201 6 9a6 6 0 016-6 6 6 0 016 6z\" fill=\"currentColor\"></path><path d=\"M13 9a1 1 0 11-2 0 1 1 0 112 0\" fill=\"currentColor\"></path></g></svg></div><a class=\"Link__AnchorWrapper-k7o46r-1 cRvOHm\" color=\"primary\" href=\"/web/20210326225933/https://ra.co/clubs/147271\"><span class=\"Text-sc-1t0gn2o-0 Link__StyledLink-k7o46r-0 knBJCg\" color=\"primary\" font-weight=\"normal\" href=\"/clubs/147271\">Lockhouse Distillery and Bar</span></a></div></div><div class=\"Box-omzyfs-0 sc-AxjAm jYikCb\" height=\"30\"><div class=\"Box-omzyfs-0 sc-AxjAm hoMiiH\" color=\"accent\" height=\"24\" width=\"24\"><svg aria-label=\"Person\" height=\"100%\" viewbox=\"0 0 24 24\" width=\"100%\"><g fill=\"none\" fill-rule=\"evenodd\"><path d=\"M0 0h24v24H0z\" fill=\"none\"></path><path d=\"M14 8a2 2 0 10-4 0 2 2 0 004 0zm2 0a4 4 0 11-8 0 4 4 0 018 0zM7 19a1 1 0 01-2 0 7 7 0 0114 0 1 1 0 01-2 0 5 5 0 00-10 0z\" fill=\"currentColor\"></path></g></svg></div><span class=\"Text-sc-1t0gn2o-0 hhfigA\" color=\"primary\" font-weight=\"normal\">3</span></div></div></div></li>,\n",
       " <li class=\"Column-sc-18hsrnn-0 jHShKh\"><div class=\"Box-omzyfs-0 sc-AxjAm dqkjhR\" data-test-id=\"non-ticketed-event\"><h3 class=\"Box-omzyfs-0 Heading__StyledBox-sc-120pa9w-0 fhMVGI\"><a class=\"Link__AnchorWrapper-k7o46r-1 bmWkiB\" data-test-id=\"event-listing-heading\" data-tracking-id=\"/events/1241829\" href=\"/web/20210326225933/https://ra.co/events/1241829\"><span class=\"Text-sc-1t0gn2o-0 Link__StyledLink-k7o46r-0 fAmOyf\" color=\"primary\" data-test-id=\"event-listing-heading\" data-tracking-id=\"/events/1241829\" font-weight=\"normal\" href=\"/events/1241829\">Time / Place: Basic Soul Unit J-UL</span></a></h3><div class=\"Box-omzyfs-0 sc-AxjAm jVLhoy\"><span class=\"Text-sc-1t0gn2o-0 dWOMtb\" color=\"primary\" font-weight=\"normal\">Basic Soul Unit, J-UL</span></div><div class=\"Box-omzyfs-0 sc-AxjAm fCFvgO\"><div class=\"Box-omzyfs-0 sc-AxjAm ebaaK\"><div class=\"Box-omzyfs-0 sc-AxjAm fOOuYI\" height=\"30\"><div class=\"Box-omzyfs-0 sc-AxjAm hoMiiH\" color=\"accent\" height=\"24\" width=\"24\"><svg aria-label=\"Location\" height=\"100%\" viewbox=\"0 0 24 24\" width=\"100%\"><g fill=\"none\" fill-rule=\"evenodd\"><path d=\"M0 0h24v24H0z\" fill=\"none\"></path><path d=\"M13.613 15.075c.26-.501.505-.988.732-1.456C15.393 11.456 16 9.785 16 9a4 4 0 10-8 0c0 .785.607 2.456 1.655 4.619.227.468.472.955.732 1.456A83.615 83.615 0 0012 18.022c.55-.962 1.1-1.96 1.613-2.947zM18 9c0 1.2-.67 3.045-1.855 5.491-.236.486-.49.99-.758 1.506a86.17 86.17 0 01-2.532 4.522 1 1 0 01-1.71 0 85.564 85.564 0 01-.793-1.35 86.17 86.17 0 01-1.74-3.172 60.318 60.318 0 01-.757-1.506C6.67 12.045 6 10.201 6 9a6 6 0 016-6 6 6 0 016 6z\" fill=\"currentColor\"></path><path d=\"M13 9a1 1 0 11-2 0 1 1 0 112 0\" fill=\"currentColor\"></path></g></svg></div><span class=\"Text-sc-1t0gn2o-0 hhfigA\" color=\"primary\" font-weight=\"normal\">TBA - Buffalo</span></div></div><div class=\"Box-omzyfs-0 sc-AxjAm jYikCb\" height=\"30\"><div class=\"Box-omzyfs-0 sc-AxjAm hoMiiH\" color=\"accent\" height=\"24\" width=\"24\"><svg aria-label=\"Person\" height=\"100%\" viewbox=\"0 0 24 24\" width=\"100%\"><g fill=\"none\" fill-rule=\"evenodd\"><path d=\"M0 0h24v24H0z\" fill=\"none\"></path><path d=\"M14 8a2 2 0 10-4 0 2 2 0 004 0zm2 0a4 4 0 11-8 0 4 4 0 018 0zM7 19a1 1 0 01-2 0 7 7 0 0114 0 1 1 0 01-2 0 5 5 0 00-10 0z\" fill=\"currentColor\"></path></g></svg></div><span class=\"Text-sc-1t0gn2o-0 hhfigA\" color=\"primary\" font-weight=\"normal\">3</span></div></div></div></li>,\n",
       " <li class=\"Column-sc-18hsrnn-0 jHShKh\"><div class=\"Box-omzyfs-0 sc-AxjAm dqkjhR\" data-test-id=\"non-ticketed-event\"><h3 class=\"Box-omzyfs-0 Heading__StyledBox-sc-120pa9w-0 fhMVGI\"><a class=\"Link__AnchorWrapper-k7o46r-1 bmWkiB\" data-test-id=\"event-listing-heading\" data-tracking-id=\"/events/1242302\" href=\"/web/20210326225933/https://ra.co/events/1242302\"><span class=\"Text-sc-1t0gn2o-0 Link__StyledLink-k7o46r-0 fAmOyf\" color=\"primary\" data-test-id=\"event-listing-heading\" data-tracking-id=\"/events/1242302\" font-weight=\"normal\" href=\"/events/1242302\">Event Canceled</span></a></h3><div class=\"Box-omzyfs-0 sc-AxjAm jVLhoy\"><span class=\"Text-sc-1t0gn2o-0 dWOMtb\" color=\"primary\" font-weight=\"normal\">Mister Joshooa, Ryan Dahl, Hatos</span></div><div class=\"Box-omzyfs-0 sc-AxjAm fCFvgO\"><div class=\"Box-omzyfs-0 sc-AxjAm ebaaK\"><div class=\"Box-omzyfs-0 sc-AxjAm fOOuYI\" height=\"30\"><div class=\"Box-omzyfs-0 sc-AxjAm hoMiiH\" color=\"accent\" height=\"24\" width=\"24\"><svg aria-label=\"Location\" height=\"100%\" viewbox=\"0 0 24 24\" width=\"100%\"><g fill=\"none\" fill-rule=\"evenodd\"><path d=\"M0 0h24v24H0z\" fill=\"none\"></path><path d=\"M13.613 15.075c.26-.501.505-.988.732-1.456C15.393 11.456 16 9.785 16 9a4 4 0 10-8 0c0 .785.607 2.456 1.655 4.619.227.468.472.955.732 1.456A83.615 83.615 0 0012 18.022c.55-.962 1.1-1.96 1.613-2.947zM18 9c0 1.2-.67 3.045-1.855 5.491-.236.486-.49.99-.758 1.506a86.17 86.17 0 01-2.532 4.522 1 1 0 01-1.71 0 85.564 85.564 0 01-.793-1.35 86.17 86.17 0 01-1.74-3.172 60.318 60.318 0 01-.757-1.506C6.67 12.045 6 10.201 6 9a6 6 0 016-6 6 6 0 016 6z\" fill=\"currentColor\"></path><path d=\"M13 9a1 1 0 11-2 0 1 1 0 112 0\" fill=\"currentColor\"></path></g></svg></div><a class=\"Link__AnchorWrapper-k7o46r-1 cRvOHm\" color=\"primary\" href=\"/web/20210326225933/https://ra.co/clubs/157659\"><span class=\"Text-sc-1t0gn2o-0 Link__StyledLink-k7o46r-0 knBJCg\" color=\"primary\" font-weight=\"normal\" href=\"/clubs/157659\">101bklyn</span></a></div></div><div class=\"Box-omzyfs-0 sc-AxjAm jYikCb\" height=\"30\"><div class=\"Box-omzyfs-0 sc-AxjAm hoMiiH\" color=\"accent\" height=\"24\" width=\"24\"><svg aria-label=\"Person\" height=\"100%\" viewbox=\"0 0 24 24\" width=\"100%\"><g fill=\"none\" fill-rule=\"evenodd\"><path d=\"M0 0h24v24H0z\" fill=\"none\"></path><path d=\"M14 8a2 2 0 10-4 0 2 2 0 004 0zm2 0a4 4 0 11-8 0 4 4 0 018 0zM7 19a1 1 0 01-2 0 7 7 0 0114 0 1 1 0 01-2 0 5 5 0 00-10 0z\" fill=\"currentColor\"></path></g></svg></div><span class=\"Text-sc-1t0gn2o-0 hhfigA\" color=\"primary\" font-weight=\"normal\">2</span></div></div></div></li>,\n",
       " <li class=\"Column-sc-18hsrnn-0 jHShKh\"><div class=\"Box-omzyfs-0 sc-AxjAm dqkjhR\" data-test-id=\"non-ticketed-event\"><h3 class=\"Box-omzyfs-0 Heading__StyledBox-sc-120pa9w-0 fhMVGI\"><a class=\"Link__AnchorWrapper-k7o46r-1 bmWkiB\" data-test-id=\"event-listing-heading\" data-tracking-id=\"/events/1242577\" href=\"/web/20210326225933/https://ra.co/events/1242577\"><span class=\"Text-sc-1t0gn2o-0 Link__StyledLink-k7o46r-0 fAmOyf\" color=\"primary\" data-test-id=\"event-listing-heading\" data-tracking-id=\"/events/1242577\" font-weight=\"normal\" href=\"/events/1242577\">Musclecars presents...Coloring Lessons 1 Year Anniversary</span></a></h3><div class=\"Box-omzyfs-0 sc-AxjAm jVLhoy\"><span class=\"Text-sc-1t0gn2o-0 dWOMtb\" color=\"primary\" font-weight=\"normal\">Carlos Sanchez, Musclecars</span></div><div class=\"Box-omzyfs-0 sc-AxjAm fCFvgO\"><div class=\"Box-omzyfs-0 sc-AxjAm ebaaK\"><div class=\"Box-omzyfs-0 sc-AxjAm fOOuYI\" height=\"30\"><div class=\"Box-omzyfs-0 sc-AxjAm hoMiiH\" color=\"accent\" height=\"24\" width=\"24\"><svg aria-label=\"Location\" height=\"100%\" viewbox=\"0 0 24 24\" width=\"100%\"><g fill=\"none\" fill-rule=\"evenodd\"><path d=\"M0 0h24v24H0z\" fill=\"none\"></path><path d=\"M13.613 15.075c.26-.501.505-.988.732-1.456C15.393 11.456 16 9.785 16 9a4 4 0 10-8 0c0 .785.607 2.456 1.655 4.619.227.468.472.955.732 1.456A83.615 83.615 0 0012 18.022c.55-.962 1.1-1.96 1.613-2.947zM18 9c0 1.2-.67 3.045-1.855 5.491-.236.486-.49.99-.758 1.506a86.17 86.17 0 01-2.532 4.522 1 1 0 01-1.71 0 85.564 85.564 0 01-.793-1.35 86.17 86.17 0 01-1.74-3.172 60.318 60.318 0 01-.757-1.506C6.67 12.045 6 10.201 6 9a6 6 0 016-6 6 6 0 016 6z\" fill=\"currentColor\"></path><path d=\"M13 9a1 1 0 11-2 0 1 1 0 112 0\" fill=\"currentColor\"></path></g></svg></div><a class=\"Link__AnchorWrapper-k7o46r-1 cRvOHm\" color=\"primary\" href=\"/web/20210326225933/https://ra.co/clubs/141852\"><span class=\"Text-sc-1t0gn2o-0 Link__StyledLink-k7o46r-0 knBJCg\" color=\"primary\" font-weight=\"normal\" href=\"/clubs/141852\">Mood Ring</span></a></div></div><div class=\"Box-omzyfs-0 sc-AxjAm jYikCb\" height=\"30\"><div class=\"Box-omzyfs-0 sc-AxjAm hoMiiH\" color=\"accent\" height=\"24\" width=\"24\"><svg aria-label=\"Person\" height=\"100%\" viewbox=\"0 0 24 24\" width=\"100%\"><g fill=\"none\" fill-rule=\"evenodd\"><path d=\"M0 0h24v24H0z\" fill=\"none\"></path><path d=\"M14 8a2 2 0 10-4 0 2 2 0 004 0zm2 0a4 4 0 11-8 0 4 4 0 018 0zM7 19a1 1 0 01-2 0 7 7 0 0114 0 1 1 0 01-2 0 5 5 0 00-10 0z\" fill=\"currentColor\"></path></g></svg></div><span class=\"Text-sc-1t0gn2o-0 hhfigA\" color=\"primary\" font-weight=\"normal\">2</span></div></div></div></li>,\n",
       " <li class=\"Column-sc-18hsrnn-0 jHShKh\"><div class=\"Box-omzyfs-0 sc-AxjAm dqkjhR\" data-test-id=\"non-ticketed-event\"><h3 class=\"Box-omzyfs-0 Heading__StyledBox-sc-120pa9w-0 fhMVGI\"><a class=\"Link__AnchorWrapper-k7o46r-1 bmWkiB\" data-test-id=\"event-listing-heading\" data-tracking-id=\"/events/1244843\" href=\"/web/20210326225933/https://ra.co/events/1244843\"><span class=\"Text-sc-1t0gn2o-0 Link__StyledLink-k7o46r-0 fAmOyf\" color=\"primary\" data-test-id=\"event-listing-heading\" data-tracking-id=\"/events/1244843\" font-weight=\"normal\" href=\"/events/1244843\">DJ Aspin b2b The Space Wanderer</span></a></h3><div class=\"Box-omzyfs-0 sc-AxjAm jVLhoy\"><span class=\"Text-sc-1t0gn2o-0 dWOMtb\" color=\"primary\" font-weight=\"normal\">The Space Wanderer, DJ Aspin</span></div><div class=\"Box-omzyfs-0 sc-AxjAm fCFvgO\"><div class=\"Box-omzyfs-0 sc-AxjAm ebaaK\"><div class=\"Box-omzyfs-0 sc-AxjAm fOOuYI\" height=\"30\"><div class=\"Box-omzyfs-0 sc-AxjAm hoMiiH\" color=\"accent\" height=\"24\" width=\"24\"><svg aria-label=\"Location\" height=\"100%\" viewbox=\"0 0 24 24\" width=\"100%\"><g fill=\"none\" fill-rule=\"evenodd\"><path d=\"M0 0h24v24H0z\" fill=\"none\"></path><path d=\"M13.613 15.075c.26-.501.505-.988.732-1.456C15.393 11.456 16 9.785 16 9a4 4 0 10-8 0c0 .785.607 2.456 1.655 4.619.227.468.472.955.732 1.456A83.615 83.615 0 0012 18.022c.55-.962 1.1-1.96 1.613-2.947zM18 9c0 1.2-.67 3.045-1.855 5.491-.236.486-.49.99-.758 1.506a86.17 86.17 0 01-2.532 4.522 1 1 0 01-1.71 0 85.564 85.564 0 01-.793-1.35 86.17 86.17 0 01-1.74-3.172 60.318 60.318 0 01-.757-1.506C6.67 12.045 6 10.201 6 9a6 6 0 016-6 6 6 0 016 6z\" fill=\"currentColor\"></path><path d=\"M13 9a1 1 0 11-2 0 1 1 0 112 0\" fill=\"currentColor\"></path></g></svg></div><a class=\"Link__AnchorWrapper-k7o46r-1 cRvOHm\" color=\"primary\" href=\"/web/20210326225933/https://ra.co/clubs/108415\"><span class=\"Text-sc-1t0gn2o-0 Link__StyledLink-k7o46r-0 knBJCg\" color=\"primary\" font-weight=\"normal\" href=\"/clubs/108415\">Sisters</span></a></div></div><div class=\"Box-omzyfs-0 sc-AxjAm jYikCb\" height=\"30\"><div class=\"Box-omzyfs-0 sc-AxjAm hoMiiH\" color=\"accent\" height=\"24\" width=\"24\"><svg aria-label=\"Person\" height=\"100%\" viewbox=\"0 0 24 24\" width=\"100%\"><g fill=\"none\" fill-rule=\"evenodd\"><path d=\"M0 0h24v24H0z\" fill=\"none\"></path><path d=\"M14 8a2 2 0 10-4 0 2 2 0 004 0zm2 0a4 4 0 11-8 0 4 4 0 018 0zM7 19a1 1 0 01-2 0 7 7 0 0114 0 1 1 0 01-2 0 5 5 0 00-10 0z\" fill=\"currentColor\"></path></g></svg></div><span class=\"Text-sc-1t0gn2o-0 hhfigA\" color=\"primary\" font-weight=\"normal\">2</span></div></div></div></li>,\n",
       " <li class=\"Column-sc-18hsrnn-0 jHShKh\"><div class=\"Box-omzyfs-0 sc-AxjAm dqkjhR\" data-test-id=\"non-ticketed-event\"><h3 class=\"Box-omzyfs-0 Heading__StyledBox-sc-120pa9w-0 fhMVGI\"><a class=\"Link__AnchorWrapper-k7o46r-1 bmWkiB\" data-test-id=\"event-listing-heading\" data-tracking-id=\"/events/1245738\" href=\"/web/20210326225933/https://ra.co/events/1245738\"><span class=\"Text-sc-1t0gn2o-0 Link__StyledLink-k7o46r-0 fAmOyf\" color=\"primary\" data-test-id=\"event-listing-heading\" data-tracking-id=\"/events/1245738\" font-weight=\"normal\" href=\"/events/1245738\">Dub Disco w/ Monolithic, Special Guest</span></a></h3><div class=\"Box-omzyfs-0 sc-AxjAm jVLhoy\"><span class=\"Text-sc-1t0gn2o-0 dWOMtb\" color=\"primary\" font-weight=\"normal\">Monolithic</span></div><div class=\"Box-omzyfs-0 sc-AxjAm fCFvgO\"><div class=\"Box-omzyfs-0 sc-AxjAm ebaaK\"><div class=\"Box-omzyfs-0 sc-AxjAm fOOuYI\" height=\"30\"><div class=\"Box-omzyfs-0 sc-AxjAm hoMiiH\" color=\"accent\" height=\"24\" width=\"24\"><svg aria-label=\"Location\" height=\"100%\" viewbox=\"0 0 24 24\" width=\"100%\"><g fill=\"none\" fill-rule=\"evenodd\"><path d=\"M0 0h24v24H0z\" fill=\"none\"></path><path d=\"M13.613 15.075c.26-.501.505-.988.732-1.456C15.393 11.456 16 9.785 16 9a4 4 0 10-8 0c0 .785.607 2.456 1.655 4.619.227.468.472.955.732 1.456A83.615 83.615 0 0012 18.022c.55-.962 1.1-1.96 1.613-2.947zM18 9c0 1.2-.67 3.045-1.855 5.491-.236.486-.49.99-.758 1.506a86.17 86.17 0 01-2.532 4.522 1 1 0 01-1.71 0 85.564 85.564 0 01-.793-1.35 86.17 86.17 0 01-1.74-3.172 60.318 60.318 0 01-.757-1.506C6.67 12.045 6 10.201 6 9a6 6 0 016-6 6 6 0 016 6z\" fill=\"currentColor\"></path><path d=\"M13 9a1 1 0 11-2 0 1 1 0 112 0\" fill=\"currentColor\"></path></g></svg></div><a class=\"Link__AnchorWrapper-k7o46r-1 cRvOHm\" color=\"primary\" href=\"/web/20210326225933/https://ra.co/clubs/85157\"><span class=\"Text-sc-1t0gn2o-0 Link__StyledLink-k7o46r-0 knBJCg\" color=\"primary\" font-weight=\"normal\" href=\"/clubs/85157\">Baby's All Right</span></a></div></div><div class=\"Box-omzyfs-0 sc-AxjAm jYikCb\" height=\"30\"><div class=\"Box-omzyfs-0 sc-AxjAm hoMiiH\" color=\"accent\" height=\"24\" width=\"24\"><svg aria-label=\"Person\" height=\"100%\" viewbox=\"0 0 24 24\" width=\"100%\"><g fill=\"none\" fill-rule=\"evenodd\"><path d=\"M0 0h24v24H0z\" fill=\"none\"></path><path d=\"M14 8a2 2 0 10-4 0 2 2 0 004 0zm2 0a4 4 0 11-8 0 4 4 0 018 0zM7 19a1 1 0 01-2 0 7 7 0 0114 0 1 1 0 01-2 0 5 5 0 00-10 0z\" fill=\"currentColor\"></path></g></svg></div><span class=\"Text-sc-1t0gn2o-0 hhfigA\" color=\"primary\" font-weight=\"normal\">2</span></div></div></div></li>,\n",
       " <li class=\"Column-sc-18hsrnn-0 jHShKh\"><div class=\"Box-omzyfs-0 sc-AxjAm dqkjhR\" data-test-id=\"non-ticketed-event\"><h3 class=\"Box-omzyfs-0 Heading__StyledBox-sc-120pa9w-0 fhMVGI\"><a class=\"Link__AnchorWrapper-k7o46r-1 bmWkiB\" data-test-id=\"event-listing-heading\" data-tracking-id=\"/events/1222374\" href=\"/web/20210326225933/https://ra.co/events/1222374\"><span class=\"Text-sc-1t0gn2o-0 Link__StyledLink-k7o46r-0 fAmOyf\" color=\"primary\" data-test-id=\"event-listing-heading\" data-tracking-id=\"/events/1222374\" font-weight=\"normal\" href=\"/events/1222374\">Fatoumata Diawara</span></a></h3><div class=\"Box-omzyfs-0 sc-AxjAm fCFvgO\"><div class=\"Box-omzyfs-0 sc-AxjAm ebaaK\"><div class=\"Box-omzyfs-0 sc-AxjAm fOOuYI\" height=\"30\"><div class=\"Box-omzyfs-0 sc-AxjAm hoMiiH\" color=\"accent\" height=\"24\" width=\"24\"><svg aria-label=\"Location\" height=\"100%\" viewbox=\"0 0 24 24\" width=\"100%\"><g fill=\"none\" fill-rule=\"evenodd\"><path d=\"M0 0h24v24H0z\" fill=\"none\"></path><path d=\"M13.613 15.075c.26-.501.505-.988.732-1.456C15.393 11.456 16 9.785 16 9a4 4 0 10-8 0c0 .785.607 2.456 1.655 4.619.227.468.472.955.732 1.456A83.615 83.615 0 0012 18.022c.55-.962 1.1-1.96 1.613-2.947zM18 9c0 1.2-.67 3.045-1.855 5.491-.236.486-.49.99-.758 1.506a86.17 86.17 0 01-2.532 4.522 1 1 0 01-1.71 0 85.564 85.564 0 01-.793-1.35 86.17 86.17 0 01-1.74-3.172 60.318 60.318 0 01-.757-1.506C6.67 12.045 6 10.201 6 9a6 6 0 016-6 6 6 0 016 6z\" fill=\"currentColor\"></path><path d=\"M13 9a1 1 0 11-2 0 1 1 0 112 0\" fill=\"currentColor\"></path></g></svg></div><a class=\"Link__AnchorWrapper-k7o46r-1 cRvOHm\" color=\"primary\" href=\"/web/20210326225933/https://ra.co/clubs/11796\"><span class=\"Text-sc-1t0gn2o-0 Link__StyledLink-k7o46r-0 knBJCg\" color=\"primary\" font-weight=\"normal\" href=\"/clubs/11796\">Le Poisson Rouge</span></a></div></div><div class=\"Box-omzyfs-0 sc-AxjAm jYikCb\" height=\"30\"><div class=\"Box-omzyfs-0 sc-AxjAm hoMiiH\" color=\"accent\" height=\"24\" width=\"24\"><svg aria-label=\"Person\" height=\"100%\" viewbox=\"0 0 24 24\" width=\"100%\"><g fill=\"none\" fill-rule=\"evenodd\"><path d=\"M0 0h24v24H0z\" fill=\"none\"></path><path d=\"M14 8a2 2 0 10-4 0 2 2 0 004 0zm2 0a4 4 0 11-8 0 4 4 0 018 0zM7 19a1 1 0 01-2 0 7 7 0 0114 0 1 1 0 01-2 0 5 5 0 00-10 0z\" fill=\"currentColor\"></path></g></svg></div><span class=\"Text-sc-1t0gn2o-0 hhfigA\" color=\"primary\" font-weight=\"normal\">1</span></div></div></div></li>,\n",
       " <li class=\"Column-sc-18hsrnn-0 jHShKh\"><div class=\"Box-omzyfs-0 sc-AxjAm dqkjhR\" data-test-id=\"non-ticketed-event\"><h3 class=\"Box-omzyfs-0 Heading__StyledBox-sc-120pa9w-0 fhMVGI\"><a class=\"Link__AnchorWrapper-k7o46r-1 bmWkiB\" data-test-id=\"event-listing-heading\" data-tracking-id=\"/events/1244099\" href=\"/web/20210326225933/https://ra.co/events/1244099\"><span class=\"Text-sc-1t0gn2o-0 Link__StyledLink-k7o46r-0 fAmOyf\" color=\"primary\" data-test-id=\"event-listing-heading\" data-tracking-id=\"/events/1244099\" font-weight=\"normal\" href=\"/events/1244099\">Astral Turf: A Springy Spacey Dance Party</span></a></h3><div class=\"Box-omzyfs-0 sc-AxjAm fCFvgO\"><div class=\"Box-omzyfs-0 sc-AxjAm ebaaK\"><div class=\"Box-omzyfs-0 sc-AxjAm fOOuYI\" height=\"30\"><div class=\"Box-omzyfs-0 sc-AxjAm hoMiiH\" color=\"accent\" height=\"24\" width=\"24\"><svg aria-label=\"Location\" height=\"100%\" viewbox=\"0 0 24 24\" width=\"100%\"><g fill=\"none\" fill-rule=\"evenodd\"><path d=\"M0 0h24v24H0z\" fill=\"none\"></path><path d=\"M13.613 15.075c.26-.501.505-.988.732-1.456C15.393 11.456 16 9.785 16 9a4 4 0 10-8 0c0 .785.607 2.456 1.655 4.619.227.468.472.955.732 1.456A83.615 83.615 0 0012 18.022c.55-.962 1.1-1.96 1.613-2.947zM18 9c0 1.2-.67 3.045-1.855 5.491-.236.486-.49.99-.758 1.506a86.17 86.17 0 01-2.532 4.522 1 1 0 01-1.71 0 85.564 85.564 0 01-.793-1.35 86.17 86.17 0 01-1.74-3.172 60.318 60.318 0 01-.757-1.506C6.67 12.045 6 10.201 6 9a6 6 0 016-6 6 6 0 016 6z\" fill=\"currentColor\"></path><path d=\"M13 9a1 1 0 11-2 0 1 1 0 112 0\" fill=\"currentColor\"></path></g></svg></div><a class=\"Link__AnchorWrapper-k7o46r-1 cRvOHm\" color=\"primary\" href=\"/web/20210326225933/https://ra.co/clubs/153640\"><span class=\"Text-sc-1t0gn2o-0 Link__StyledLink-k7o46r-0 knBJCg\" color=\"primary\" font-weight=\"normal\" href=\"/clubs/153640\">Uniondocs</span></a></div></div><div class=\"Box-omzyfs-0 sc-AxjAm jYikCb\" height=\"30\"><div class=\"Box-omzyfs-0 sc-AxjAm hoMiiH\" color=\"accent\" height=\"24\" width=\"24\"><svg aria-label=\"Person\" height=\"100%\" viewbox=\"0 0 24 24\" width=\"100%\"><g fill=\"none\" fill-rule=\"evenodd\"><path d=\"M0 0h24v24H0z\" fill=\"none\"></path><path d=\"M14 8a2 2 0 10-4 0 2 2 0 004 0zm2 0a4 4 0 11-8 0 4 4 0 018 0zM7 19a1 1 0 01-2 0 7 7 0 0114 0 1 1 0 01-2 0 5 5 0 00-10 0z\" fill=\"currentColor\"></path></g></svg></div><span class=\"Text-sc-1t0gn2o-0 hhfigA\" color=\"primary\" font-weight=\"normal\">1</span></div></div></div></li>,\n",
       " <li class=\"Column-sc-18hsrnn-0 jHShKh\"><div class=\"Box-omzyfs-0 sc-AxjAm dqkjhR\" data-test-id=\"non-ticketed-event\"><h3 class=\"Box-omzyfs-0 Heading__StyledBox-sc-120pa9w-0 fhMVGI\"><a class=\"Link__AnchorWrapper-k7o46r-1 bmWkiB\" data-test-id=\"event-listing-heading\" data-tracking-id=\"/events/1244618\" href=\"/web/20210326225933/https://ra.co/events/1244618\"><span class=\"Text-sc-1t0gn2o-0 Link__StyledLink-k7o46r-0 fAmOyf\" color=\"primary\" data-test-id=\"event-listing-heading\" data-tracking-id=\"/events/1244618\" font-weight=\"normal\" href=\"/events/1244618\">Dead Crew Orbit Live PA March Showcase</span></a></h3><div class=\"Box-omzyfs-0 sc-AxjAm jVLhoy\"><span class=\"Text-sc-1t0gn2o-0 dWOMtb\" color=\"primary\" font-weight=\"normal\">Tsunami Bass Experience</span></div><div class=\"Box-omzyfs-0 sc-AxjAm fCFvgO\"><div class=\"Box-omzyfs-0 sc-AxjAm ebaaK\"><div class=\"Box-omzyfs-0 sc-AxjAm fOOuYI\" height=\"30\"><div class=\"Box-omzyfs-0 sc-AxjAm hoMiiH\" color=\"accent\" height=\"24\" width=\"24\"><svg aria-label=\"Location\" height=\"100%\" viewbox=\"0 0 24 24\" width=\"100%\"><g fill=\"none\" fill-rule=\"evenodd\"><path d=\"M0 0h24v24H0z\" fill=\"none\"></path><path d=\"M13.613 15.075c.26-.501.505-.988.732-1.456C15.393 11.456 16 9.785 16 9a4 4 0 10-8 0c0 .785.607 2.456 1.655 4.619.227.468.472.955.732 1.456A83.615 83.615 0 0012 18.022c.55-.962 1.1-1.96 1.613-2.947zM18 9c0 1.2-.67 3.045-1.855 5.491-.236.486-.49.99-.758 1.506a86.17 86.17 0 01-2.532 4.522 1 1 0 01-1.71 0 85.564 85.564 0 01-.793-1.35 86.17 86.17 0 01-1.74-3.172 60.318 60.318 0 01-.757-1.506C6.67 12.045 6 10.201 6 9a6 6 0 016-6 6 6 0 016 6z\" fill=\"currentColor\"></path><path d=\"M13 9a1 1 0 11-2 0 1 1 0 112 0\" fill=\"currentColor\"></path></g></svg></div><a class=\"Link__AnchorWrapper-k7o46r-1 cRvOHm\" color=\"primary\" href=\"/web/20210326225933/https://ra.co/clubs/149686\"><span class=\"Text-sc-1t0gn2o-0 Link__StyledLink-k7o46r-0 knBJCg\" color=\"primary\" font-weight=\"normal\" href=\"/clubs/149686\">The Brown Note</span></a></div></div><div class=\"Box-omzyfs-0 sc-AxjAm jYikCb\" height=\"30\"><div class=\"Box-omzyfs-0 sc-AxjAm hoMiiH\" color=\"accent\" height=\"24\" width=\"24\"><svg aria-label=\"Person\" height=\"100%\" viewbox=\"0 0 24 24\" width=\"100%\"><g fill=\"none\" fill-rule=\"evenodd\"><path d=\"M0 0h24v24H0z\" fill=\"none\"></path><path d=\"M14 8a2 2 0 10-4 0 2 2 0 004 0zm2 0a4 4 0 11-8 0 4 4 0 018 0zM7 19a1 1 0 01-2 0 7 7 0 0114 0 1 1 0 01-2 0 5 5 0 00-10 0z\" fill=\"currentColor\"></path></g></svg></div><span class=\"Text-sc-1t0gn2o-0 hhfigA\" color=\"primary\" font-weight=\"normal\">1</span></div></div></div></li>,\n",
       " <li class=\"Column-sc-18hsrnn-0 jHShKh\"><div class=\"Box-omzyfs-0 sc-AxjAm dqkjhR\" data-test-id=\"non-ticketed-event\"><h3 class=\"Box-omzyfs-0 Heading__StyledBox-sc-120pa9w-0 fhMVGI\"><a class=\"Link__AnchorWrapper-k7o46r-1 bmWkiB\" data-test-id=\"event-listing-heading\" data-tracking-id=\"/events/1245925\" href=\"/web/20210326225933/https://ra.co/events/1245925\"><span class=\"Text-sc-1t0gn2o-0 Link__StyledLink-k7o46r-0 fAmOyf\" color=\"primary\" data-test-id=\"event-listing-heading\" data-tracking-id=\"/events/1245925\" font-weight=\"normal\" href=\"/events/1245925\">Petra, Matthusen &amp; Lang, White &amp; Pitsiokos, and Zorn</span></a></h3><div class=\"Box-omzyfs-0 sc-AxjAm fCFvgO\"><div class=\"Box-omzyfs-0 sc-AxjAm ebaaK\"><div class=\"Box-omzyfs-0 sc-AxjAm fOOuYI\" height=\"30\"><div class=\"Box-omzyfs-0 sc-AxjAm hoMiiH\" color=\"accent\" height=\"24\" width=\"24\"><svg aria-label=\"Location\" height=\"100%\" viewbox=\"0 0 24 24\" width=\"100%\"><g fill=\"none\" fill-rule=\"evenodd\"><path d=\"M0 0h24v24H0z\" fill=\"none\"></path><path d=\"M13.613 15.075c.26-.501.505-.988.732-1.456C15.393 11.456 16 9.785 16 9a4 4 0 10-8 0c0 .785.607 2.456 1.655 4.619.227.468.472.955.732 1.456A83.615 83.615 0 0012 18.022c.55-.962 1.1-1.96 1.613-2.947zM18 9c0 1.2-.67 3.045-1.855 5.491-.236.486-.49.99-.758 1.506a86.17 86.17 0 01-2.532 4.522 1 1 0 01-1.71 0 85.564 85.564 0 01-.793-1.35 86.17 86.17 0 01-1.74-3.172 60.318 60.318 0 01-.757-1.506C6.67 12.045 6 10.201 6 9a6 6 0 016-6 6 6 0 016 6z\" fill=\"currentColor\"></path><path d=\"M13 9a1 1 0 11-2 0 1 1 0 112 0\" fill=\"currentColor\"></path></g></svg></div><a class=\"Link__AnchorWrapper-k7o46r-1 cRvOHm\" color=\"primary\" href=\"/web/20210326225933/https://ra.co/clubs/137550\"><span class=\"Text-sc-1t0gn2o-0 Link__StyledLink-k7o46r-0 knBJCg\" color=\"primary\" font-weight=\"normal\" href=\"/clubs/137550\">H0L0</span></a></div></div></div></div></li>]"
      ]
     },
     "execution_count": 7,
     "metadata": {},
     "output_type": "execute_result"
    }
   ],
   "source": [
    "# Actually, each event's name, venue and attendees are in <'li', class_='Column-sc-18hsrnn-0 jHShKh'> of each item in events_all\n",
    "[event for event in events_all[0].find_all('li', class_='Column-sc-18hsrnn-0 jHShKh')]"
   ]
  },
  {
   "cell_type": "code",
   "execution_count": 8,
   "metadata": {},
   "outputs": [
    {
     "data": {
      "text/plain": [
       "'UnterMania II'"
      ]
     },
     "execution_count": 8,
     "metadata": {},
     "output_type": "execute_result"
    }
   ],
   "source": [
    "# We need to iterate each item in events_all list to get the event info for each event in that date.\n",
    "\n",
    "event_list_firstdate = events_all[0].find_all('li', class_='Column-sc-18hsrnn-0 jHShKh')\n",
    "event_name = event_list_firstdate[0].find('a', attrs = {'data-test-id': 'event-listing-heading'}).text\n",
    "event_name"
   ]
  },
  {
   "cell_type": "code",
   "execution_count": 9,
   "metadata": {},
   "outputs": [
    {
     "data": {
      "text/plain": [
       "('TBA - New York', '457')"
      ]
     },
     "execution_count": 9,
     "metadata": {},
     "output_type": "execute_result"
    }
   ],
   "source": [
    "# Extract venue, and number of attendees from one of the\n",
    "# events within that container\n",
    "# Both venue and number of attendees are in a 'div' class_='Box-omzyfs-0 sc-AxjAm fCFvgO\n",
    "# with venue in 'div', class_='Box-omzyfs-0 sc-AxjAm fOOuYI'\n",
    "# and number of attendees in 'span', class_='Text-sc-1t0gn2o-0 hhfigA'\n",
    "\n",
    "venue = event_list_firstdate[0].find('div', class_='Box-omzyfs-0 sc-AxjAm fCFvgO').find('div', class_='Box-omzyfs-0 sc-AxjAm fOOuYI')\n",
    "attendee = event_list_firstdate[0].find('div', class_='Box-omzyfs-0 sc-AxjAm fCFvgO').find_all('span', class_='Text-sc-1t0gn2o-0 hhfigA')\n",
    "venue.text, attendee[-1].text"
   ]
  },
  {
   "cell_type": "code",
   "execution_count": 10,
   "metadata": {
    "scrolled": true
   },
   "outputs": [
    {
     "data": {
      "text/html": [
       "<div>\n",
       "<style scoped>\n",
       "    .dataframe tbody tr th:only-of-type {\n",
       "        vertical-align: middle;\n",
       "    }\n",
       "\n",
       "    .dataframe tbody tr th {\n",
       "        vertical-align: top;\n",
       "    }\n",
       "\n",
       "    .dataframe thead th {\n",
       "        text-align: right;\n",
       "    }\n",
       "</style>\n",
       "<table border=\"1\" class=\"dataframe\">\n",
       "  <thead>\n",
       "    <tr style=\"text-align: right;\">\n",
       "      <th></th>\n",
       "      <th>0</th>\n",
       "      <th>1</th>\n",
       "      <th>2</th>\n",
       "      <th>3</th>\n",
       "    </tr>\n",
       "  </thead>\n",
       "  <tbody>\n",
       "    <tr>\n",
       "      <th>0</th>\n",
       "      <td>UnterMania II</td>\n",
       "      <td>TBA - New York</td>\n",
       "      <td>Sat, 30 Mar</td>\n",
       "      <td>457</td>\n",
       "    </tr>\n",
       "    <tr>\n",
       "      <th>1</th>\n",
       "      <td>Cocoon New York: Sven Väth, Ilario Alicante, B...</td>\n",
       "      <td>99 Scott Ave</td>\n",
       "      <td>Sat, 30 Mar</td>\n",
       "      <td>407</td>\n",
       "    </tr>\n",
       "    <tr>\n",
       "      <th>2</th>\n",
       "      <td>Horse Meat Disco - New York Residency</td>\n",
       "      <td>Elsewhere</td>\n",
       "      <td>Sat, 30 Mar</td>\n",
       "      <td>375</td>\n",
       "    </tr>\n",
       "    <tr>\n",
       "      <th>3</th>\n",
       "      <td>Rave: Underground Resistance All Night</td>\n",
       "      <td>Nowadays</td>\n",
       "      <td>Sat, 30 Mar</td>\n",
       "      <td>232</td>\n",
       "    </tr>\n",
       "    <tr>\n",
       "      <th>4</th>\n",
       "      <td>Believe You Me // Beta Librae, Stephan Kimbel,...</td>\n",
       "      <td>TBA - New York</td>\n",
       "      <td>Sat, 30 Mar</td>\n",
       "      <td>89</td>\n",
       "    </tr>\n",
       "    <tr>\n",
       "      <th>...</th>\n",
       "      <td>...</td>\n",
       "      <td>...</td>\n",
       "      <td>...</td>\n",
       "      <td>...</td>\n",
       "    </tr>\n",
       "    <tr>\n",
       "      <th>114</th>\n",
       "      <td>A Night at the Baths</td>\n",
       "      <td>C'mon Everybody</td>\n",
       "      <td>Fri, 5 Apr</td>\n",
       "      <td>1</td>\n",
       "    </tr>\n",
       "    <tr>\n",
       "      <th>115</th>\n",
       "      <td>Blaqk Audio</td>\n",
       "      <td>Music Hall of Williamsburg</td>\n",
       "      <td>Fri, 5 Apr</td>\n",
       "      <td>1</td>\n",
       "    </tr>\n",
       "    <tr>\n",
       "      <th>116</th>\n",
       "      <td>Erik the Lover</td>\n",
       "      <td>Erv's</td>\n",
       "      <td>Fri, 5 Apr</td>\n",
       "      <td>1</td>\n",
       "    </tr>\n",
       "    <tr>\n",
       "      <th>117</th>\n",
       "      <td>Wax On Vissions</td>\n",
       "      <td>Starliner</td>\n",
       "      <td>Fri, 5 Apr</td>\n",
       "      <td>1</td>\n",
       "    </tr>\n",
       "    <tr>\n",
       "      <th>118</th>\n",
       "      <td>Schimanski &amp; Good Looks present: Mercer</td>\n",
       "      <td>Schimanski</td>\n",
       "      <td>Fri, 5 Apr</td>\n",
       "      <td>1</td>\n",
       "    </tr>\n",
       "  </tbody>\n",
       "</table>\n",
       "<p>119 rows × 4 columns</p>\n",
       "</div>"
      ],
      "text/plain": [
       "                                                     0  \\\n",
       "0                                        UnterMania II   \n",
       "1    Cocoon New York: Sven Väth, Ilario Alicante, B...   \n",
       "2                Horse Meat Disco - New York Residency   \n",
       "3               Rave: Underground Resistance All Night   \n",
       "4    Believe You Me // Beta Librae, Stephan Kimbel,...   \n",
       "..                                                 ...   \n",
       "114                               A Night at the Baths   \n",
       "115                                        Blaqk Audio   \n",
       "116                                     Erik the Lover   \n",
       "117                                    Wax On Vissions   \n",
       "118            Schimanski & Good Looks present: Mercer   \n",
       "\n",
       "                              1            2    3  \n",
       "0                TBA - New York  Sat, 30 Mar  457  \n",
       "1                  99 Scott Ave  Sat, 30 Mar  407  \n",
       "2                     Elsewhere  Sat, 30 Mar  375  \n",
       "3                      Nowadays  Sat, 30 Mar  232  \n",
       "4                TBA - New York  Sat, 30 Mar   89  \n",
       "..                          ...          ...  ...  \n",
       "114             C'mon Everybody   Fri, 5 Apr    1  \n",
       "115  Music Hall of Williamsburg   Fri, 5 Apr    1  \n",
       "116                       Erv's   Fri, 5 Apr    1  \n",
       "117                   Starliner   Fri, 5 Apr    1  \n",
       "118                  Schimanski   Fri, 5 Apr    1  \n",
       "\n",
       "[119 rows x 4 columns]"
      ]
     },
     "execution_count": 10,
     "metadata": {},
     "output_type": "execute_result"
    }
   ],
   "source": [
    "# Loop over all of the event entries, extract this information\n",
    "# from each, and assemble a dataframe\n",
    "# Loop over all date containers on the page\n",
    "\n",
    "# NOTE : there is a case where the number of attendees will mark with something like 1.8K. It will be necessary to calculate it to a number.\n",
    "units = {'K': 10^3, 'M': 10^6, 'B': 10^9}\n",
    "event_info = []\n",
    "for events in events_all:\n",
    "    for event in events.find_all('li', class_='Column-sc-18hsrnn-0 jHShKh'): \n",
    "        date = events.find('h3', class_='Box-omzyfs-0 Heading__StyledBox-sc-120pa9w-0 fwuoVk').text[1:]\n",
    "        name = event.find('a', attrs = {'data-test-id': 'event-listing-heading'}).text\n",
    "        venue_container = event.find('div', class_='Box-omzyfs-0 sc-AxjAm fCFvgO').find('div', class_='Box-omzyfs-0 sc-AxjAm fOOuYI')\n",
    "        attendees = event.find('div', class_='Box-omzyfs-0 sc-AxjAm fCFvgO').find_all('span', class_='Text-sc-1t0gn2o-0 hhfigA')\n",
    "        if venue_container:\n",
    "            venue = venue_container.text\n",
    "        else:\n",
    "            venue = np.nan\n",
    "        if attendees:\n",
    "            try:\n",
    "                attd_num = int(attendees[-1].text)\n",
    "            except ValueError:\n",
    "                unit = attendees[-1].text[-1]\n",
    "                attd_num = int((float(attendees[-1].text[:-1])) * units[unit])\n",
    "            attd_num = attendees[-1].text\n",
    "        else:\n",
    "            attd_num = np.nan\n",
    "        info_list = [name, venue, date, attd_num]\n",
    "        event_info.append(info_list)\n",
    "df = pd.DataFrame(event_info)\n",
    "df"
   ]
  },
  {
   "cell_type": "code",
   "execution_count": 11,
   "metadata": {},
   "outputs": [],
   "source": [
    "# Bring it all together in a function that makes the request, gets the\n",
    "# list of entries from the response, loops over that list to extract the\n",
    "# name, venue, date, and number of attendees for each event, and returns\n",
    "# that list of events as a dataframe\n",
    "\n",
    "def scrape_events(events_page_url):\n",
    "    resp = requests.get(events_page_url)\n",
    "    soup = BeautifulSoup(resp.content, 'html.parser')\n",
    "    event_container = soup.find('li', class_='Column-sc-18hsrnn-0 gnwWng')\n",
    "    regex = re.compile('Box-omzyfs-0 (?=.{6}$)')\n",
    "    events_all = event_container.find_all('div', {'class': regex}, recursive=False)\n",
    "    units = {'K': 10**3, 'M': 10**6, 'B': 10**9}\n",
    "    event_info = []\n",
    "    for events in events_all:\n",
    "        for event in events.find_all('li', class_='Column-sc-18hsrnn-0 jHShKh'): \n",
    "            date = events.find('h3', class_='Box-omzyfs-0 Heading__StyledBox-sc-120pa9w-0 fwuoVk').text[1:]\n",
    "            name = event.find('a', attrs = {'data-test-id': 'event-listing-heading'}).text\n",
    "            venue_container = event.find('div', class_='Box-omzyfs-0 sc-AxjAm fCFvgO').find('div', class_='Box-omzyfs-0 sc-AxjAm fOOuYI')\n",
    "            attendees = event.find('div', class_='Box-omzyfs-0 sc-AxjAm fCFvgO').find_all('span', class_='Text-sc-1t0gn2o-0 hhfigA')\n",
    "            if venue_container:\n",
    "                venue = venue_container.text\n",
    "            else:\n",
    "                venue = np.nan\n",
    "            if attendees:\n",
    "                try:\n",
    "                    attd_num = int(attendees[-1].text)\n",
    "                except ValueError:\n",
    "                    unit = attendees[-1].text[-1]\n",
    "                    attd_num = int((float(attendees[-1].text[:-1])) * units[unit])\n",
    "            else:\n",
    "                attd_num = np.nan\n",
    "            info_list = [name, venue, date, attd_num]\n",
    "            event_info.append(info_list)\n",
    "    df = pd.DataFrame(event_info)\n",
    "    df.columns = [\"Event_Name\", \"Venue\", \"Event_Date\", \"Number_of_Attendees\"]\n",
    "    return df"
   ]
  },
  {
   "cell_type": "code",
   "execution_count": 12,
   "metadata": {},
   "outputs": [
    {
     "data": {
      "text/html": [
       "<div>\n",
       "<style scoped>\n",
       "    .dataframe tbody tr th:only-of-type {\n",
       "        vertical-align: middle;\n",
       "    }\n",
       "\n",
       "    .dataframe tbody tr th {\n",
       "        vertical-align: top;\n",
       "    }\n",
       "\n",
       "    .dataframe thead th {\n",
       "        text-align: right;\n",
       "    }\n",
       "</style>\n",
       "<table border=\"1\" class=\"dataframe\">\n",
       "  <thead>\n",
       "    <tr style=\"text-align: right;\">\n",
       "      <th></th>\n",
       "      <th>Event_Name</th>\n",
       "      <th>Venue</th>\n",
       "      <th>Event_Date</th>\n",
       "      <th>Number_of_Attendees</th>\n",
       "    </tr>\n",
       "  </thead>\n",
       "  <tbody>\n",
       "    <tr>\n",
       "      <th>0</th>\n",
       "      <td>UnterMania II</td>\n",
       "      <td>TBA - New York</td>\n",
       "      <td>Sat, 30 Mar</td>\n",
       "      <td>457.0</td>\n",
       "    </tr>\n",
       "    <tr>\n",
       "      <th>1</th>\n",
       "      <td>Cocoon New York: Sven Väth, Ilario Alicante, B...</td>\n",
       "      <td>99 Scott Ave</td>\n",
       "      <td>Sat, 30 Mar</td>\n",
       "      <td>407.0</td>\n",
       "    </tr>\n",
       "    <tr>\n",
       "      <th>2</th>\n",
       "      <td>Horse Meat Disco - New York Residency</td>\n",
       "      <td>Elsewhere</td>\n",
       "      <td>Sat, 30 Mar</td>\n",
       "      <td>375.0</td>\n",
       "    </tr>\n",
       "    <tr>\n",
       "      <th>3</th>\n",
       "      <td>Rave: Underground Resistance All Night</td>\n",
       "      <td>Nowadays</td>\n",
       "      <td>Sat, 30 Mar</td>\n",
       "      <td>232.0</td>\n",
       "    </tr>\n",
       "    <tr>\n",
       "      <th>4</th>\n",
       "      <td>Believe You Me // Beta Librae, Stephan Kimbel,...</td>\n",
       "      <td>TBA - New York</td>\n",
       "      <td>Sat, 30 Mar</td>\n",
       "      <td>89.0</td>\n",
       "    </tr>\n",
       "    <tr>\n",
       "      <th>...</th>\n",
       "      <td>...</td>\n",
       "      <td>...</td>\n",
       "      <td>...</td>\n",
       "      <td>...</td>\n",
       "    </tr>\n",
       "    <tr>\n",
       "      <th>114</th>\n",
       "      <td>A Night at the Baths</td>\n",
       "      <td>C'mon Everybody</td>\n",
       "      <td>Fri, 5 Apr</td>\n",
       "      <td>1.0</td>\n",
       "    </tr>\n",
       "    <tr>\n",
       "      <th>115</th>\n",
       "      <td>Blaqk Audio</td>\n",
       "      <td>Music Hall of Williamsburg</td>\n",
       "      <td>Fri, 5 Apr</td>\n",
       "      <td>1.0</td>\n",
       "    </tr>\n",
       "    <tr>\n",
       "      <th>116</th>\n",
       "      <td>Erik the Lover</td>\n",
       "      <td>Erv's</td>\n",
       "      <td>Fri, 5 Apr</td>\n",
       "      <td>1.0</td>\n",
       "    </tr>\n",
       "    <tr>\n",
       "      <th>117</th>\n",
       "      <td>Wax On Vissions</td>\n",
       "      <td>Starliner</td>\n",
       "      <td>Fri, 5 Apr</td>\n",
       "      <td>1.0</td>\n",
       "    </tr>\n",
       "    <tr>\n",
       "      <th>118</th>\n",
       "      <td>Schimanski &amp; Good Looks present: Mercer</td>\n",
       "      <td>Schimanski</td>\n",
       "      <td>Fri, 5 Apr</td>\n",
       "      <td>1.0</td>\n",
       "    </tr>\n",
       "  </tbody>\n",
       "</table>\n",
       "<p>119 rows × 4 columns</p>\n",
       "</div>"
      ],
      "text/plain": [
       "                                            Event_Name  \\\n",
       "0                                        UnterMania II   \n",
       "1    Cocoon New York: Sven Väth, Ilario Alicante, B...   \n",
       "2                Horse Meat Disco - New York Residency   \n",
       "3               Rave: Underground Resistance All Night   \n",
       "4    Believe You Me // Beta Librae, Stephan Kimbel,...   \n",
       "..                                                 ...   \n",
       "114                               A Night at the Baths   \n",
       "115                                        Blaqk Audio   \n",
       "116                                     Erik the Lover   \n",
       "117                                    Wax On Vissions   \n",
       "118            Schimanski & Good Looks present: Mercer   \n",
       "\n",
       "                          Venue   Event_Date  Number_of_Attendees  \n",
       "0                TBA - New York  Sat, 30 Mar                457.0  \n",
       "1                  99 Scott Ave  Sat, 30 Mar                407.0  \n",
       "2                     Elsewhere  Sat, 30 Mar                375.0  \n",
       "3                      Nowadays  Sat, 30 Mar                232.0  \n",
       "4                TBA - New York  Sat, 30 Mar                 89.0  \n",
       "..                          ...          ...                  ...  \n",
       "114             C'mon Everybody   Fri, 5 Apr                  1.0  \n",
       "115  Music Hall of Williamsburg   Fri, 5 Apr                  1.0  \n",
       "116                       Erv's   Fri, 5 Apr                  1.0  \n",
       "117                   Starliner   Fri, 5 Apr                  1.0  \n",
       "118                  Schimanski   Fri, 5 Apr                  1.0  \n",
       "\n",
       "[119 rows x 4 columns]"
      ]
     },
     "execution_count": 12,
     "metadata": {},
     "output_type": "execute_result"
    }
   ],
   "source": [
    "# Test out your function\n",
    "scrape_events(EVENTS_PAGE_URL)"
   ]
  },
  {
   "cell_type": "markdown",
   "metadata": {},
   "source": [
    "## Write a Function to Retrieve the URL for the Next Page\n",
    "\n",
    "As you scroll down, there should be a button labeled \"Next Week\" that will take you to the next page of events. Write code to find that button and extract the URL from it.\n",
    "\n",
    "This is a relative path, so make sure you add `https://web.archive.org` to the front to get the URL.\n",
    "\n",
    "![next page](images/ra_next.png)"
   ]
  },
  {
   "cell_type": "code",
   "execution_count": 13,
   "metadata": {},
   "outputs": [
    {
     "data": {
      "text/plain": [
       "'https://web.archive.org/web/20210326225933/https://ra.co/events/us/newyork?week=2019-04-06'"
      ]
     },
     "execution_count": 13,
     "metadata": {},
     "output_type": "execute_result"
    }
   ],
   "source": [
    "# Find the button, find the relative path, create the URL for the current `soup`\n",
    "next_button = soup.find('div', class_='Box-omzyfs-0 sc-AxjAm Panel__StyledAlignment-sc-1udo2qh-0 ArchiveNavigator___StyledPanel2-x733n4-2 kKGHmX').find('a').attrs['href']\n",
    "next_page_url = 'https://web.archive.org' + next_button\n",
    "next_page_url"
   ]
  },
  {
   "cell_type": "code",
   "execution_count": 14,
   "metadata": {},
   "outputs": [],
   "source": [
    "# Fill in this function, to take in the current page's URL and return the\n",
    "# next page's URL\n",
    "def next_page(url):\n",
    "    #Your code here\n",
    "    resp = requests.get(url)\n",
    "    soup = BeautifulSoup(resp.content, 'html.parser')\n",
    "    next_button = soup.find('div', class_='Box-omzyfs-0 sc-AxjAm Panel__StyledAlignment-sc-1udo2qh-0 ArchiveNavigator___StyledPanel2-x733n4-2 kKGHmX').find('a').attrs['href']\n",
    "    next_page_url = 'https://web.archive.org' + next_button\n",
    "    return next_page_url"
   ]
  },
  {
   "cell_type": "code",
   "execution_count": 15,
   "metadata": {},
   "outputs": [
    {
     "data": {
      "text/plain": [
       "'https://web.archive.org/web/20210326225933/https://ra.co/events/us/newyork?week=2019-04-06'"
      ]
     },
     "execution_count": 15,
     "metadata": {},
     "output_type": "execute_result"
    }
   ],
   "source": [
    "# Test out your function\n",
    "next_page(EVENTS_PAGE_URL)"
   ]
  },
  {
   "cell_type": "markdown",
   "metadata": {},
   "source": [
    "## Scrape the Next 500 Events\n",
    "\n",
    "In other words, repeatedly call `scrape_events` and `next_page` until you have assembled a dataframe with at least 500 rows.\n",
    "\n",
    "Display the data sorted by the number of attendees, greatest to least.\n",
    "\n",
    "We recommend adding a brief `time.sleep` call between `requests.get` calls to avoid rate limiting."
   ]
  },
  {
   "cell_type": "code",
   "execution_count": 16,
   "metadata": {},
   "outputs": [
    {
     "data": {
      "text/html": [
       "<div>\n",
       "<style scoped>\n",
       "    .dataframe tbody tr th:only-of-type {\n",
       "        vertical-align: middle;\n",
       "    }\n",
       "\n",
       "    .dataframe tbody tr th {\n",
       "        vertical-align: top;\n",
       "    }\n",
       "\n",
       "    .dataframe thead th {\n",
       "        text-align: right;\n",
       "    }\n",
       "</style>\n",
       "<table border=\"1\" class=\"dataframe\">\n",
       "  <thead>\n",
       "    <tr style=\"text-align: right;\">\n",
       "      <th></th>\n",
       "      <th>Event_Name</th>\n",
       "      <th>Venue</th>\n",
       "      <th>Event_Date</th>\n",
       "      <th>Number_of_Attendees</th>\n",
       "    </tr>\n",
       "  </thead>\n",
       "  <tbody>\n",
       "    <tr>\n",
       "      <th>0</th>\n",
       "      <td>UnterMania II</td>\n",
       "      <td>TBA - New York</td>\n",
       "      <td>Sat, 30 Mar</td>\n",
       "      <td>457.0</td>\n",
       "    </tr>\n",
       "    <tr>\n",
       "      <th>1</th>\n",
       "      <td>Cocoon New York: Sven Väth, Ilario Alicante, B...</td>\n",
       "      <td>99 Scott Ave</td>\n",
       "      <td>Sat, 30 Mar</td>\n",
       "      <td>407.0</td>\n",
       "    </tr>\n",
       "    <tr>\n",
       "      <th>2</th>\n",
       "      <td>Horse Meat Disco - New York Residency</td>\n",
       "      <td>Elsewhere</td>\n",
       "      <td>Sat, 30 Mar</td>\n",
       "      <td>375.0</td>\n",
       "    </tr>\n",
       "    <tr>\n",
       "      <th>3</th>\n",
       "      <td>Rave: Underground Resistance All Night</td>\n",
       "      <td>Nowadays</td>\n",
       "      <td>Sat, 30 Mar</td>\n",
       "      <td>232.0</td>\n",
       "    </tr>\n",
       "    <tr>\n",
       "      <th>4</th>\n",
       "      <td>Believe You Me // Beta Librae, Stephan Kimbel,...</td>\n",
       "      <td>TBA - New York</td>\n",
       "      <td>Sat, 30 Mar</td>\n",
       "      <td>89.0</td>\n",
       "    </tr>\n",
       "  </tbody>\n",
       "</table>\n",
       "</div>"
      ],
      "text/plain": [
       "                                          Event_Name           Venue  \\\n",
       "0                                      UnterMania II  TBA - New York   \n",
       "1  Cocoon New York: Sven Väth, Ilario Alicante, B...    99 Scott Ave   \n",
       "2              Horse Meat Disco - New York Residency       Elsewhere   \n",
       "3             Rave: Underground Resistance All Night        Nowadays   \n",
       "4  Believe You Me // Beta Librae, Stephan Kimbel,...  TBA - New York   \n",
       "\n",
       "    Event_Date  Number_of_Attendees  \n",
       "0  Sat, 30 Mar                457.0  \n",
       "1  Sat, 30 Mar                407.0  \n",
       "2  Sat, 30 Mar                375.0  \n",
       "3  Sat, 30 Mar                232.0  \n",
       "4  Sat, 30 Mar                 89.0  "
      ]
     },
     "execution_count": 16,
     "metadata": {},
     "output_type": "execute_result"
    }
   ],
   "source": [
    "# Your code here\n",
    "df_all = pd.DataFrame()\n",
    "current_url = EVENTS_PAGE_URL\n",
    "while len(df_all) <= 500:\n",
    "    df = scrape_events(current_url)\n",
    "    time.sleep(5)\n",
    "    current_url= next_page(current_url)\n",
    "    time.sleep(5)\n",
    "    df_all = pd.concat([df_all, df])\n",
    "df_all.head()"
   ]
  },
  {
   "cell_type": "code",
   "execution_count": 19,
   "metadata": {},
   "outputs": [
    {
     "data": {
      "text/html": [
       "<div>\n",
       "<style scoped>\n",
       "    .dataframe tbody tr th:only-of-type {\n",
       "        vertical-align: middle;\n",
       "    }\n",
       "\n",
       "    .dataframe tbody tr th {\n",
       "        vertical-align: top;\n",
       "    }\n",
       "\n",
       "    .dataframe thead th {\n",
       "        text-align: right;\n",
       "    }\n",
       "</style>\n",
       "<table border=\"1\" class=\"dataframe\">\n",
       "  <thead>\n",
       "    <tr style=\"text-align: right;\">\n",
       "      <th></th>\n",
       "      <th>Event_Name</th>\n",
       "      <th>Venue</th>\n",
       "      <th>Event_Date</th>\n",
       "      <th>Number_of_Attendees</th>\n",
       "    </tr>\n",
       "  </thead>\n",
       "  <tbody>\n",
       "    <tr>\n",
       "      <th>0</th>\n",
       "      <td>Charlotte de Witte, Monoloc, Victor Ruiz</td>\n",
       "      <td>Avant Gardner</td>\n",
       "      <td>Sat, 13 Apr</td>\n",
       "      <td>1800.0</td>\n",
       "    </tr>\n",
       "    <tr>\n",
       "      <th>0</th>\n",
       "      <td>Zero presents... The Masquerade</td>\n",
       "      <td>The 1896</td>\n",
       "      <td>Sat, 6 Apr</td>\n",
       "      <td>919.0</td>\n",
       "    </tr>\n",
       "    <tr>\n",
       "      <th>65</th>\n",
       "      <td>Secret Solstice Pre-Party (Free Entry): Metro ...</td>\n",
       "      <td>Kings Hall - Avant Gardner</td>\n",
       "      <td>Thu, 18 Apr</td>\n",
       "      <td>670.0</td>\n",
       "    </tr>\n",
       "    <tr>\n",
       "      <th>0</th>\n",
       "      <td>Nina Kraviz / James Murphy / Justin Cudmore</td>\n",
       "      <td>Knockdown Center</td>\n",
       "      <td>Sat, 20 Apr</td>\n",
       "      <td>501.0</td>\n",
       "    </tr>\n",
       "    <tr>\n",
       "      <th>89</th>\n",
       "      <td>Stavroz live! presented by Zero</td>\n",
       "      <td>The Williamsburg Hotel</td>\n",
       "      <td>Fri, 12 Apr</td>\n",
       "      <td>481.0</td>\n",
       "    </tr>\n",
       "    <tr>\n",
       "      <th>...</th>\n",
       "      <td>...</td>\n",
       "      <td>...</td>\n",
       "      <td>...</td>\n",
       "      <td>...</td>\n",
       "    </tr>\n",
       "    <tr>\n",
       "      <th>56</th>\n",
       "      <td>420: A Musical Experience</td>\n",
       "      <td>The Kraine Theater</td>\n",
       "      <td>Mon, 22 Apr</td>\n",
       "      <td>NaN</td>\n",
       "    </tr>\n",
       "    <tr>\n",
       "      <th>61</th>\n",
       "      <td>420: A Musical Experience</td>\n",
       "      <td>The Kraine Theater</td>\n",
       "      <td>Tue, 23 Apr</td>\n",
       "      <td>NaN</td>\n",
       "    </tr>\n",
       "    <tr>\n",
       "      <th>75</th>\n",
       "      <td>420: A Musical Experience</td>\n",
       "      <td>The Kraine Theater</td>\n",
       "      <td>Wed, 24 Apr</td>\n",
       "      <td>NaN</td>\n",
       "    </tr>\n",
       "    <tr>\n",
       "      <th>34</th>\n",
       "      <td>Klandestino Brunch with Electronic Music</td>\n",
       "      <td>Avena Downtown</td>\n",
       "      <td>Sat, 27 Apr</td>\n",
       "      <td>NaN</td>\n",
       "    </tr>\n",
       "    <tr>\n",
       "      <th>48</th>\n",
       "      <td>Digital Clippings</td>\n",
       "      <td>Magick City</td>\n",
       "      <td>Sun, 28 Apr</td>\n",
       "      <td>NaN</td>\n",
       "    </tr>\n",
       "  </tbody>\n",
       "</table>\n",
       "<p>606 rows × 4 columns</p>\n",
       "</div>"
      ],
      "text/plain": [
       "                                           Event_Name  \\\n",
       "0            Charlotte de Witte, Monoloc, Victor Ruiz   \n",
       "0                     Zero presents... The Masquerade   \n",
       "65  Secret Solstice Pre-Party (Free Entry): Metro ...   \n",
       "0         Nina Kraviz / James Murphy / Justin Cudmore   \n",
       "89                    Stavroz live! presented by Zero   \n",
       "..                                                ...   \n",
       "56                          420: A Musical Experience   \n",
       "61                          420: A Musical Experience   \n",
       "75                          420: A Musical Experience   \n",
       "34           Klandestino Brunch with Electronic Music   \n",
       "48                                  Digital Clippings   \n",
       "\n",
       "                         Venue   Event_Date  Number_of_Attendees  \n",
       "0                Avant Gardner  Sat, 13 Apr               1800.0  \n",
       "0                     The 1896   Sat, 6 Apr                919.0  \n",
       "65  Kings Hall - Avant Gardner  Thu, 18 Apr                670.0  \n",
       "0             Knockdown Center  Sat, 20 Apr                501.0  \n",
       "89      The Williamsburg Hotel  Fri, 12 Apr                481.0  \n",
       "..                         ...          ...                  ...  \n",
       "56          The Kraine Theater  Mon, 22 Apr                  NaN  \n",
       "61          The Kraine Theater  Tue, 23 Apr                  NaN  \n",
       "75          The Kraine Theater  Wed, 24 Apr                  NaN  \n",
       "34              Avena Downtown  Sat, 27 Apr                  NaN  \n",
       "48                 Magick City  Sun, 28 Apr                  NaN  \n",
       "\n",
       "[606 rows x 4 columns]"
      ]
     },
     "execution_count": 19,
     "metadata": {},
     "output_type": "execute_result"
    }
   ],
   "source": [
    "df_all.sort_values('Number_of_Attendees', ascending=False)"
   ]
  },
  {
   "cell_type": "markdown",
   "metadata": {},
   "source": [
    "## Summary \n",
    "\n",
    "Congratulations! In this lab, you successfully developed a pipeline to scrape a website for concert event information!"
   ]
  }
 ],
 "metadata": {
  "kernelspec": {
   "display_name": "Python 3",
   "language": "python",
   "name": "python3"
  },
  "language_info": {
   "codemirror_mode": {
    "name": "ipython",
    "version": 3
   },
   "file_extension": ".py",
   "mimetype": "text/x-python",
   "name": "python",
   "nbconvert_exporter": "python",
   "pygments_lexer": "ipython3",
   "version": "3.8.5"
  }
 },
 "nbformat": 4,
 "nbformat_minor": 2
}
