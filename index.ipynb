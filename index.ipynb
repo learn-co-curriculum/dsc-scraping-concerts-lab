{
 "cells": [
  {
   "cell_type": "markdown",
   "metadata": {},
   "source": [
    "# Scraping Concerts - Lab\n",
    "\n",
    "## Introduction\n",
    "\n",
    "Now that you've seen how to scrape a simple website, it's time to again practice those skills on a full-fledged site!\n",
    "\n",
    "In this lab, you'll practice your scraping skills on an online music magazine and events website called Resident Advisor.\n",
    "\n",
    "## Objectives\n",
    "\n",
    "You will be able to:\n",
    "* Create a full scraping pipeline that involves traversing over many pages of a website, dealing with errors and storing data"
   ]
  },
  {
   "cell_type": "markdown",
   "metadata": {},
   "source": [
    "## View the Website\n",
    "\n",
    "For this lab, you'll be scraping the https://ra.co website. For reproducibility we will use the [Internet Archive](https://archive.org/) Wayback Machine to retrieve a version of this page from March 2019.\n",
    "\n",
    "Start by navigating to the events page [here](https://web.archive.org/web/20210325230938/https://ra.co/events/us/newyork?week=2019-03-30) in your browser. It should look something like this:\n",
    "\n",
    "<img src=\"images/ra_top.png\">"
   ]
  },
  {
   "cell_type": "markdown",
   "metadata": {},
   "source": [
    "## Open the Inspect Element Feature\n",
    "\n",
    "Next, open the inspect element feature from your web browser in order to preview the underlying HTML associated with the page."
   ]
  },
  {
   "cell_type": "markdown",
   "metadata": {},
   "source": [
    "## Write a Function to Scrape all of the Events on the Given Page\n",
    "\n",
    "The function should return a Pandas DataFrame with columns for the `Event_Name`, `Venue`, and `Number_of_Attendees`.\n",
    "\n",
    "Start by importing the relevant libraries, making a request to the relevant URL, and exploring the contents of the response with `BeautifulSoup`. Then fill in the `scrape_events` function with the relevant code."
   ]
  },
  {
   "cell_type": "code",
   "execution_count": 2,
   "metadata": {},
   "outputs": [],
   "source": [
    "# Relevant imports\n",
    "import requests\n",
    "from bs4 import BeautifulSoup\n",
    "import numpy as np\n",
    "import pandas as pd\n",
    "import time"
   ]
  },
  {
   "cell_type": "code",
   "execution_count": 3,
   "metadata": {},
   "outputs": [],
   "source": [
    "EVENTS_PAGE_URL = \"https://web.archive.org/web/20210326225933/https://ra.co/events/us/newyork?week=2019-03-30\"\n",
    "\n",
    "# Exploration: making the request and parsing the response\n",
    "response = requests.get(EVENTS_PAGE_URL)\n",
    "soup = BeautifulSoup(response.content, \"html.parser\")"
   ]
  },
  {
   "cell_type": "code",
   "execution_count": 4,
   "metadata": {},
   "outputs": [],
   "source": [
    "# Find the container with event listings in it\n",
    "event_container = soup.find('li', class_='Column-sc-18hsrnn-0 gnwWng')"
   ]
  },
  {
   "cell_type": "code",
   "execution_count": 5,
   "metadata": {},
   "outputs": [
    {
     "data": {
      "text/plain": [
       "7"
      ]
     },
     "execution_count": 5,
     "metadata": {},
     "output_type": "execute_result"
    }
   ],
   "source": [
    "# Find a list of events by date within that container\n",
    "# There are 7 days with events lists in each day.\n",
    "# each day has similar class starting 'Box-omzyfs-0' and ending with 6 characters 'xxxxxx'\n",
    "# can use regular expression here to list these 7 days\n",
    "import re\n",
    "regex = re.compile('Box-omzyfs-0 (?=.{6}$)')\n",
    "events_all = event_container.find_all('div', {'class': regex}, recursive=False)\n",
    "len(events_all)"
   ]
  },
  {
   "cell_type": "code",
   "execution_count": 6,
   "metadata": {},
   "outputs": [
    {
     "data": {
      "text/plain": [
       "'Sat, 30 Mar'"
      ]
     },
     "execution_count": 6,
     "metadata": {},
     "output_type": "execute_result"
    }
   ],
   "source": [
    "# Extract the date (e.g. Sat, 30 Mar) from one of those containers\n",
    "# take the first item from the list events_all and find the head h3 has the date and starting with '/'\n",
    "\n",
    "# Grabbing just one to practice on\n",
    "date = events_all[0].find('h3', class_='Box-omzyfs-0 Heading__StyledBox-sc-120pa9w-0 fwuoVk').text[1:]\n",
    "date"
   ]
  },
  {
   "cell_type": "code",
   "execution_count": 7,
   "metadata": {},
   "outputs": [
    {
     "data": {
      "text/plain": [
       "'UnterMania II'"
      ]
     },
     "execution_count": 7,
     "metadata": {},
     "output_type": "execute_result"
    }
   ],
   "source": [
    "# Extract the name from one of the events within that container\n",
    "# It has an attributes 'data-test-id' under tag <a>\n",
    "name = events_all[0].find('a', attrs = {'data-test-id': 'event-listing-heading'}).text\n",
    "name"
   ]
  },
  {
   "cell_type": "code",
   "execution_count": 8,
   "metadata": {},
   "outputs": [],
   "source": [
    "# Actually, each event's name, venue and attendees are in <'li', class_='Column-sc-18hsrnn-0 jHShKh'> of each item in events_all\n",
    "event_list_firstdate = events_all[0].find_all('li', class_='Column-sc-18hsrnn-0 jHShKh')"
   ]
  },
  {
   "cell_type": "code",
   "execution_count": 9,
   "metadata": {},
   "outputs": [
    {
     "data": {
      "text/plain": [
       "'UnterMania II'"
      ]
     },
     "execution_count": 9,
     "metadata": {},
     "output_type": "execute_result"
    }
   ],
   "source": [
    "# We need to iterate each item in events_all list to get the event info for each event in that date.\n",
    "# Then the event name can be found from the tag <a> in above container\n",
    "event_name = event_list_firstdate[0].find('a', attrs = {'data-test-id': 'event-listing-heading'}).text\n",
    "event_name"
   ]
  },
  {
   "cell_type": "code",
   "execution_count": 9,
   "metadata": {},
   "outputs": [
    {
     "data": {
      "text/plain": [
       "('TBA - New York', '457')"
      ]
     },
     "execution_count": 9,
     "metadata": {},
     "output_type": "execute_result"
    }
   ],
   "source": [
    "# Extract venue, and number of attendees from one of the\n",
    "# events within that container\n",
    "# Both venue and number of attendees are in a 'div' class_='Box-omzyfs-0 sc-AxjAm fCFvgO\n",
    "# with venue in 'div', class_='Box-omzyfs-0 sc-AxjAm fOOuYI'\n",
    "# and number of attendees in 'span', class_='Text-sc-1t0gn2o-0 hhfigA'\n",
    "\n",
    "venue = event_list_firstdate[0].find('div', class_='Box-omzyfs-0 sc-AxjAm fCFvgO').find('div', class_='Box-omzyfs-0 sc-AxjAm fOOuYI')\n",
    "attendee = event_list_firstdate[0].find('div', class_='Box-omzyfs-0 sc-AxjAm fCFvgO').find_all('span', class_='Text-sc-1t0gn2o-0 hhfigA')\n",
    "venue.text, attendee[-1].text"
   ]
  },
  {
   "cell_type": "code",
   "execution_count": 10,
   "metadata": {
    "scrolled": true
   },
   "outputs": [
    {
     "data": {
      "text/html": [
       "<div>\n",
       "<style scoped>\n",
       "    .dataframe tbody tr th:only-of-type {\n",
       "        vertical-align: middle;\n",
       "    }\n",
       "\n",
       "    .dataframe tbody tr th {\n",
       "        vertical-align: top;\n",
       "    }\n",
       "\n",
       "    .dataframe thead th {\n",
       "        text-align: right;\n",
       "    }\n",
       "</style>\n",
       "<table border=\"1\" class=\"dataframe\">\n",
       "  <thead>\n",
       "    <tr style=\"text-align: right;\">\n",
       "      <th></th>\n",
       "      <th>0</th>\n",
       "      <th>1</th>\n",
       "      <th>2</th>\n",
       "      <th>3</th>\n",
       "    </tr>\n",
       "  </thead>\n",
       "  <tbody>\n",
       "    <tr>\n",
       "      <th>0</th>\n",
       "      <td>UnterMania II</td>\n",
       "      <td>TBA - New York</td>\n",
       "      <td>Sat, 30 Mar</td>\n",
       "      <td>457</td>\n",
       "    </tr>\n",
       "    <tr>\n",
       "      <th>1</th>\n",
       "      <td>Cocoon New York: Sven Väth, Ilario Alicante, B...</td>\n",
       "      <td>99 Scott Ave</td>\n",
       "      <td>Sat, 30 Mar</td>\n",
       "      <td>407</td>\n",
       "    </tr>\n",
       "    <tr>\n",
       "      <th>2</th>\n",
       "      <td>Horse Meat Disco - New York Residency</td>\n",
       "      <td>Elsewhere</td>\n",
       "      <td>Sat, 30 Mar</td>\n",
       "      <td>375</td>\n",
       "    </tr>\n",
       "    <tr>\n",
       "      <th>3</th>\n",
       "      <td>Rave: Underground Resistance All Night</td>\n",
       "      <td>Nowadays</td>\n",
       "      <td>Sat, 30 Mar</td>\n",
       "      <td>232</td>\n",
       "    </tr>\n",
       "    <tr>\n",
       "      <th>4</th>\n",
       "      <td>Believe You Me // Beta Librae, Stephan Kimbel,...</td>\n",
       "      <td>TBA - New York</td>\n",
       "      <td>Sat, 30 Mar</td>\n",
       "      <td>89</td>\n",
       "    </tr>\n",
       "    <tr>\n",
       "      <th>...</th>\n",
       "      <td>...</td>\n",
       "      <td>...</td>\n",
       "      <td>...</td>\n",
       "      <td>...</td>\n",
       "    </tr>\n",
       "    <tr>\n",
       "      <th>114</th>\n",
       "      <td>A Night at the Baths</td>\n",
       "      <td>C'mon Everybody</td>\n",
       "      <td>Fri, 5 Apr</td>\n",
       "      <td>1</td>\n",
       "    </tr>\n",
       "    <tr>\n",
       "      <th>115</th>\n",
       "      <td>Blaqk Audio</td>\n",
       "      <td>Music Hall of Williamsburg</td>\n",
       "      <td>Fri, 5 Apr</td>\n",
       "      <td>1</td>\n",
       "    </tr>\n",
       "    <tr>\n",
       "      <th>116</th>\n",
       "      <td>Erik the Lover</td>\n",
       "      <td>Erv's</td>\n",
       "      <td>Fri, 5 Apr</td>\n",
       "      <td>1</td>\n",
       "    </tr>\n",
       "    <tr>\n",
       "      <th>117</th>\n",
       "      <td>Wax On Vissions</td>\n",
       "      <td>Starliner</td>\n",
       "      <td>Fri, 5 Apr</td>\n",
       "      <td>1</td>\n",
       "    </tr>\n",
       "    <tr>\n",
       "      <th>118</th>\n",
       "      <td>Schimanski &amp; Good Looks present: Mercer</td>\n",
       "      <td>Schimanski</td>\n",
       "      <td>Fri, 5 Apr</td>\n",
       "      <td>1</td>\n",
       "    </tr>\n",
       "  </tbody>\n",
       "</table>\n",
       "<p>119 rows × 4 columns</p>\n",
       "</div>"
      ],
      "text/plain": [
       "                                                     0  \\\n",
       "0                                        UnterMania II   \n",
       "1    Cocoon New York: Sven Väth, Ilario Alicante, B...   \n",
       "2                Horse Meat Disco - New York Residency   \n",
       "3               Rave: Underground Resistance All Night   \n",
       "4    Believe You Me // Beta Librae, Stephan Kimbel,...   \n",
       "..                                                 ...   \n",
       "114                               A Night at the Baths   \n",
       "115                                        Blaqk Audio   \n",
       "116                                     Erik the Lover   \n",
       "117                                    Wax On Vissions   \n",
       "118            Schimanski & Good Looks present: Mercer   \n",
       "\n",
       "                              1            2    3  \n",
       "0                TBA - New York  Sat, 30 Mar  457  \n",
       "1                  99 Scott Ave  Sat, 30 Mar  407  \n",
       "2                     Elsewhere  Sat, 30 Mar  375  \n",
       "3                      Nowadays  Sat, 30 Mar  232  \n",
       "4                TBA - New York  Sat, 30 Mar   89  \n",
       "..                          ...          ...  ...  \n",
       "114             C'mon Everybody   Fri, 5 Apr    1  \n",
       "115  Music Hall of Williamsburg   Fri, 5 Apr    1  \n",
       "116                       Erv's   Fri, 5 Apr    1  \n",
       "117                   Starliner   Fri, 5 Apr    1  \n",
       "118                  Schimanski   Fri, 5 Apr    1  \n",
       "\n",
       "[119 rows x 4 columns]"
      ]
     },
     "execution_count": 10,
     "metadata": {},
     "output_type": "execute_result"
    }
   ],
   "source": [
    "# Loop over all of the event entries, extract this information\n",
    "# from each, and assemble a dataframe\n",
    "# Loop over all date containers on the page\n",
    "\n",
    "# NOTE : there is a case where the number of attendees will mark with something like 1.8K. \n",
    "# It is necessary to convert it and calculate it to a number.\n",
    "# prepare an unit dictionary to represent the unit K, M and B.\n",
    "units = {'K': 10**3, 'M': 10**6, 'B': 10**9}\n",
    "event_info = []\n",
    "for events in events_all:\n",
    "    for event in events.find_all('li', class_='Column-sc-18hsrnn-0 jHShKh'): \n",
    "        date = events.find('h3', class_='Box-omzyfs-0 Heading__StyledBox-sc-120pa9w-0 fwuoVk').text[1:]\n",
    "        name = event.find('a', attrs = {'data-test-id': 'event-listing-heading'}).text\n",
    "        venue_container = event.find('div', class_='Box-omzyfs-0 sc-AxjAm fCFvgO').find('div', class_='Box-omzyfs-0 sc-AxjAm fOOuYI')\n",
    "        attendees = event.find('div', class_='Box-omzyfs-0 sc-AxjAm fCFvgO').find_all('span', class_='Text-sc-1t0gn2o-0 hhfigA')\n",
    "        if venue_container:\n",
    "            venue = venue_container.text\n",
    "        else:\n",
    "            venue = np.nan\n",
    "        if attendees:\n",
    "            try:\n",
    "                attd_num = int(attendees[-1].text) # cast string of num of attendees as integer\n",
    "            except ValueError:\n",
    "                unit = attendees[-1].text[-1]\n",
    "                attd_num = int((float(attendees[-1].text[:-1])) * units[unit]) # get the number and unit and calculate\n",
    "            attd_num = attendees[-1].text\n",
    "        else:\n",
    "            attd_num = np.nan\n",
    "        info_list = [name, venue, date, attd_num]\n",
    "        event_info.append(info_list)\n",
    "df = pd.DataFrame(event_info)\n",
    "df"
   ]
  },
  {
   "cell_type": "code",
   "execution_count": 11,
   "metadata": {},
   "outputs": [],
   "source": [
    "# Bring it all together in a function that makes the request, gets the\n",
    "# list of entries from the response, loops over that list to extract the\n",
    "# name, venue, date, and number of attendees for each event, and returns\n",
    "# that list of events as a dataframe\n",
    "\n",
    "def scrape_events(events_page_url):\n",
    "    resp = requests.get(events_page_url)\n",
    "    soup = BeautifulSoup(resp.content, 'html.parser')\n",
    "    event_container = soup.find('li', class_='Column-sc-18hsrnn-0 gnwWng')\n",
    "    regex = re.compile('Box-omzyfs-0 (?=.{6}$)')\n",
    "    events_all = event_container.find_all('div', {'class': regex}, recursive=False)\n",
    "    units = {'K': 10**3, 'M': 10**6, 'B': 10**9}\n",
    "    event_info = []\n",
    "    for events in events_all:\n",
    "        for event in events.find_all('li', class_='Column-sc-18hsrnn-0 jHShKh'): \n",
    "            date = events.find('h3', class_='Box-omzyfs-0 Heading__StyledBox-sc-120pa9w-0 fwuoVk').text[1:]\n",
    "            name = event.find('a', attrs = {'data-test-id': 'event-listing-heading'}).text\n",
    "            venue_container = event.find('div', class_='Box-omzyfs-0 sc-AxjAm fCFvgO').find('div', class_='Box-omzyfs-0 sc-AxjAm fOOuYI')\n",
    "            attendees = event.find('div', class_='Box-omzyfs-0 sc-AxjAm fCFvgO').find_all('span', class_='Text-sc-1t0gn2o-0 hhfigA')\n",
    "            if venue_container:\n",
    "                venue = venue_container.text\n",
    "            else:\n",
    "                venue = np.nan\n",
    "            if attendees:\n",
    "                try:\n",
    "                    attd_num = int(attendees[-1].text)\n",
    "                except ValueError:\n",
    "                    unit = attendees[-1].text[-1]\n",
    "                    attd_num = int((float(attendees[-1].text[:-1])) * units[unit])\n",
    "            else:\n",
    "                attd_num = np.nan\n",
    "            info_list = [name, venue, date, attd_num]\n",
    "            event_info.append(info_list)\n",
    "    df = pd.DataFrame(event_info)\n",
    "    df.columns = [\"Event_Name\", \"Venue\", \"Event_Date\", \"Number_of_Attendees\"]\n",
    "    return df"
   ]
  },
  {
   "cell_type": "code",
   "execution_count": 12,
   "metadata": {},
   "outputs": [
    {
     "data": {
      "text/html": [
       "<div>\n",
       "<style scoped>\n",
       "    .dataframe tbody tr th:only-of-type {\n",
       "        vertical-align: middle;\n",
       "    }\n",
       "\n",
       "    .dataframe tbody tr th {\n",
       "        vertical-align: top;\n",
       "    }\n",
       "\n",
       "    .dataframe thead th {\n",
       "        text-align: right;\n",
       "    }\n",
       "</style>\n",
       "<table border=\"1\" class=\"dataframe\">\n",
       "  <thead>\n",
       "    <tr style=\"text-align: right;\">\n",
       "      <th></th>\n",
       "      <th>Event_Name</th>\n",
       "      <th>Venue</th>\n",
       "      <th>Event_Date</th>\n",
       "      <th>Number_of_Attendees</th>\n",
       "    </tr>\n",
       "  </thead>\n",
       "  <tbody>\n",
       "    <tr>\n",
       "      <th>0</th>\n",
       "      <td>UnterMania II</td>\n",
       "      <td>TBA - New York</td>\n",
       "      <td>Sat, 30 Mar</td>\n",
       "      <td>457.0</td>\n",
       "    </tr>\n",
       "    <tr>\n",
       "      <th>1</th>\n",
       "      <td>Cocoon New York: Sven Väth, Ilario Alicante, B...</td>\n",
       "      <td>99 Scott Ave</td>\n",
       "      <td>Sat, 30 Mar</td>\n",
       "      <td>407.0</td>\n",
       "    </tr>\n",
       "    <tr>\n",
       "      <th>2</th>\n",
       "      <td>Horse Meat Disco - New York Residency</td>\n",
       "      <td>Elsewhere</td>\n",
       "      <td>Sat, 30 Mar</td>\n",
       "      <td>375.0</td>\n",
       "    </tr>\n",
       "    <tr>\n",
       "      <th>3</th>\n",
       "      <td>Rave: Underground Resistance All Night</td>\n",
       "      <td>Nowadays</td>\n",
       "      <td>Sat, 30 Mar</td>\n",
       "      <td>232.0</td>\n",
       "    </tr>\n",
       "    <tr>\n",
       "      <th>4</th>\n",
       "      <td>Believe You Me // Beta Librae, Stephan Kimbel,...</td>\n",
       "      <td>TBA - New York</td>\n",
       "      <td>Sat, 30 Mar</td>\n",
       "      <td>89.0</td>\n",
       "    </tr>\n",
       "    <tr>\n",
       "      <th>...</th>\n",
       "      <td>...</td>\n",
       "      <td>...</td>\n",
       "      <td>...</td>\n",
       "      <td>...</td>\n",
       "    </tr>\n",
       "    <tr>\n",
       "      <th>114</th>\n",
       "      <td>A Night at the Baths</td>\n",
       "      <td>C'mon Everybody</td>\n",
       "      <td>Fri, 5 Apr</td>\n",
       "      <td>1.0</td>\n",
       "    </tr>\n",
       "    <tr>\n",
       "      <th>115</th>\n",
       "      <td>Blaqk Audio</td>\n",
       "      <td>Music Hall of Williamsburg</td>\n",
       "      <td>Fri, 5 Apr</td>\n",
       "      <td>1.0</td>\n",
       "    </tr>\n",
       "    <tr>\n",
       "      <th>116</th>\n",
       "      <td>Erik the Lover</td>\n",
       "      <td>Erv's</td>\n",
       "      <td>Fri, 5 Apr</td>\n",
       "      <td>1.0</td>\n",
       "    </tr>\n",
       "    <tr>\n",
       "      <th>117</th>\n",
       "      <td>Wax On Vissions</td>\n",
       "      <td>Starliner</td>\n",
       "      <td>Fri, 5 Apr</td>\n",
       "      <td>1.0</td>\n",
       "    </tr>\n",
       "    <tr>\n",
       "      <th>118</th>\n",
       "      <td>Schimanski &amp; Good Looks present: Mercer</td>\n",
       "      <td>Schimanski</td>\n",
       "      <td>Fri, 5 Apr</td>\n",
       "      <td>1.0</td>\n",
       "    </tr>\n",
       "  </tbody>\n",
       "</table>\n",
       "<p>119 rows × 4 columns</p>\n",
       "</div>"
      ],
      "text/plain": [
       "                                            Event_Name  \\\n",
       "0                                        UnterMania II   \n",
       "1    Cocoon New York: Sven Väth, Ilario Alicante, B...   \n",
       "2                Horse Meat Disco - New York Residency   \n",
       "3               Rave: Underground Resistance All Night   \n",
       "4    Believe You Me // Beta Librae, Stephan Kimbel,...   \n",
       "..                                                 ...   \n",
       "114                               A Night at the Baths   \n",
       "115                                        Blaqk Audio   \n",
       "116                                     Erik the Lover   \n",
       "117                                    Wax On Vissions   \n",
       "118            Schimanski & Good Looks present: Mercer   \n",
       "\n",
       "                          Venue   Event_Date  Number_of_Attendees  \n",
       "0                TBA - New York  Sat, 30 Mar                457.0  \n",
       "1                  99 Scott Ave  Sat, 30 Mar                407.0  \n",
       "2                     Elsewhere  Sat, 30 Mar                375.0  \n",
       "3                      Nowadays  Sat, 30 Mar                232.0  \n",
       "4                TBA - New York  Sat, 30 Mar                 89.0  \n",
       "..                          ...          ...                  ...  \n",
       "114             C'mon Everybody   Fri, 5 Apr                  1.0  \n",
       "115  Music Hall of Williamsburg   Fri, 5 Apr                  1.0  \n",
       "116                       Erv's   Fri, 5 Apr                  1.0  \n",
       "117                   Starliner   Fri, 5 Apr                  1.0  \n",
       "118                  Schimanski   Fri, 5 Apr                  1.0  \n",
       "\n",
       "[119 rows x 4 columns]"
      ]
     },
     "execution_count": 12,
     "metadata": {},
     "output_type": "execute_result"
    }
   ],
   "source": [
    "# Test out your function\n",
    "scrape_events(EVENTS_PAGE_URL)"
   ]
  },
  {
   "cell_type": "markdown",
   "metadata": {},
   "source": [
    "## Write a Function to Retrieve the URL for the Next Page\n",
    "\n",
    "As you scroll down, there should be a button labeled \"Next Week\" that will take you to the next page of events. Write code to find that button and extract the URL from it.\n",
    "\n",
    "This is a relative path, so make sure you add `https://web.archive.org` to the front to get the URL.\n",
    "\n",
    "![next page](images/ra_next.png)"
   ]
  },
  {
   "cell_type": "code",
   "execution_count": 13,
   "metadata": {},
   "outputs": [
    {
     "data": {
      "text/plain": [
       "'https://web.archive.org/web/20210326225933/https://ra.co/events/us/newyork?week=2019-04-06'"
      ]
     },
     "execution_count": 13,
     "metadata": {},
     "output_type": "execute_result"
    }
   ],
   "source": [
    "# Find the button, find the relative path, create the URL for the current `soup`\n",
    "next_button = soup.find('div', class_='Box-omzyfs-0 sc-AxjAm Panel__StyledAlignment-sc-1udo2qh-0 ArchiveNavigator___StyledPanel2-x733n4-2 kKGHmX').find('a').attrs['href']\n",
    "next_page_url = 'https://web.archive.org' + next_button\n",
    "next_page_url"
   ]
  },
  {
   "cell_type": "code",
   "execution_count": 14,
   "metadata": {},
   "outputs": [],
   "source": [
    "# Fill in this function, to take in the current page's URL and return the\n",
    "# next page's URL\n",
    "def next_page(url):\n",
    "    #Your code here\n",
    "    resp = requests.get(url)\n",
    "    soup = BeautifulSoup(resp.content, 'html.parser')\n",
    "    next_button = soup.find('div', class_='Box-omzyfs-0 sc-AxjAm Panel__StyledAlignment-sc-1udo2qh-0 ArchiveNavigator___StyledPanel2-x733n4-2 kKGHmX').find('a').attrs['href']\n",
    "    next_page_url = 'https://web.archive.org' + next_button\n",
    "    return next_page_url"
   ]
  },
  {
   "cell_type": "code",
   "execution_count": 15,
   "metadata": {},
   "outputs": [
    {
     "data": {
      "text/plain": [
       "'https://web.archive.org/web/20210326225933/https://ra.co/events/us/newyork?week=2019-04-06'"
      ]
     },
     "execution_count": 15,
     "metadata": {},
     "output_type": "execute_result"
    }
   ],
   "source": [
    "# Test out your function\n",
    "next_page(EVENTS_PAGE_URL)"
   ]
  },
  {
   "cell_type": "markdown",
   "metadata": {},
   "source": [
    "## Scrape the Next 500 Events\n",
    "\n",
    "In other words, repeatedly call `scrape_events` and `next_page` until you have assembled a dataframe with at least 500 rows.\n",
    "\n",
    "Display the data sorted by the number of attendees, greatest to least.\n",
    "\n",
    "We recommend adding a brief `time.sleep` call between `requests.get` calls to avoid rate limiting."
   ]
  },
  {
   "cell_type": "code",
   "execution_count": 16,
   "metadata": {},
   "outputs": [
    {
     "data": {
      "text/html": [
       "<div>\n",
       "<style scoped>\n",
       "    .dataframe tbody tr th:only-of-type {\n",
       "        vertical-align: middle;\n",
       "    }\n",
       "\n",
       "    .dataframe tbody tr th {\n",
       "        vertical-align: top;\n",
       "    }\n",
       "\n",
       "    .dataframe thead th {\n",
       "        text-align: right;\n",
       "    }\n",
       "</style>\n",
       "<table border=\"1\" class=\"dataframe\">\n",
       "  <thead>\n",
       "    <tr style=\"text-align: right;\">\n",
       "      <th></th>\n",
       "      <th>Event_Name</th>\n",
       "      <th>Venue</th>\n",
       "      <th>Event_Date</th>\n",
       "      <th>Number_of_Attendees</th>\n",
       "    </tr>\n",
       "  </thead>\n",
       "  <tbody>\n",
       "    <tr>\n",
       "      <th>0</th>\n",
       "      <td>UnterMania II</td>\n",
       "      <td>TBA - New York</td>\n",
       "      <td>Sat, 30 Mar</td>\n",
       "      <td>457.0</td>\n",
       "    </tr>\n",
       "    <tr>\n",
       "      <th>1</th>\n",
       "      <td>Cocoon New York: Sven Väth, Ilario Alicante, B...</td>\n",
       "      <td>99 Scott Ave</td>\n",
       "      <td>Sat, 30 Mar</td>\n",
       "      <td>407.0</td>\n",
       "    </tr>\n",
       "    <tr>\n",
       "      <th>2</th>\n",
       "      <td>Horse Meat Disco - New York Residency</td>\n",
       "      <td>Elsewhere</td>\n",
       "      <td>Sat, 30 Mar</td>\n",
       "      <td>375.0</td>\n",
       "    </tr>\n",
       "    <tr>\n",
       "      <th>3</th>\n",
       "      <td>Rave: Underground Resistance All Night</td>\n",
       "      <td>Nowadays</td>\n",
       "      <td>Sat, 30 Mar</td>\n",
       "      <td>232.0</td>\n",
       "    </tr>\n",
       "    <tr>\n",
       "      <th>4</th>\n",
       "      <td>Believe You Me // Beta Librae, Stephan Kimbel,...</td>\n",
       "      <td>TBA - New York</td>\n",
       "      <td>Sat, 30 Mar</td>\n",
       "      <td>89.0</td>\n",
       "    </tr>\n",
       "  </tbody>\n",
       "</table>\n",
       "</div>"
      ],
      "text/plain": [
       "                                          Event_Name           Venue  \\\n",
       "0                                      UnterMania II  TBA - New York   \n",
       "1  Cocoon New York: Sven Väth, Ilario Alicante, B...    99 Scott Ave   \n",
       "2              Horse Meat Disco - New York Residency       Elsewhere   \n",
       "3             Rave: Underground Resistance All Night        Nowadays   \n",
       "4  Believe You Me // Beta Librae, Stephan Kimbel,...  TBA - New York   \n",
       "\n",
       "    Event_Date  Number_of_Attendees  \n",
       "0  Sat, 30 Mar                457.0  \n",
       "1  Sat, 30 Mar                407.0  \n",
       "2  Sat, 30 Mar                375.0  \n",
       "3  Sat, 30 Mar                232.0  \n",
       "4  Sat, 30 Mar                 89.0  "
      ]
     },
     "execution_count": 16,
     "metadata": {},
     "output_type": "execute_result"
    }
   ],
   "source": [
    "# Your code here\n",
    "df_all = pd.DataFrame()\n",
    "current_url = EVENTS_PAGE_URL\n",
    "while len(df_all) <= 500:\n",
    "    df = scrape_events(current_url)\n",
    "    time.sleep(5)\n",
    "    current_url= next_page(current_url)\n",
    "    time.sleep(5)\n",
    "    df_all = pd.concat([df_all, df])\n",
    "df_all.head()"
   ]
  },
  {
   "cell_type": "code",
   "execution_count": 19,
   "metadata": {},
   "outputs": [
    {
     "data": {
      "text/html": [
       "<div>\n",
       "<style scoped>\n",
       "    .dataframe tbody tr th:only-of-type {\n",
       "        vertical-align: middle;\n",
       "    }\n",
       "\n",
       "    .dataframe tbody tr th {\n",
       "        vertical-align: top;\n",
       "    }\n",
       "\n",
       "    .dataframe thead th {\n",
       "        text-align: right;\n",
       "    }\n",
       "</style>\n",
       "<table border=\"1\" class=\"dataframe\">\n",
       "  <thead>\n",
       "    <tr style=\"text-align: right;\">\n",
       "      <th></th>\n",
       "      <th>Event_Name</th>\n",
       "      <th>Venue</th>\n",
       "      <th>Event_Date</th>\n",
       "      <th>Number_of_Attendees</th>\n",
       "    </tr>\n",
       "  </thead>\n",
       "  <tbody>\n",
       "    <tr>\n",
       "      <th>0</th>\n",
       "      <td>Charlotte de Witte, Monoloc, Victor Ruiz</td>\n",
       "      <td>Avant Gardner</td>\n",
       "      <td>Sat, 13 Apr</td>\n",
       "      <td>1800.0</td>\n",
       "    </tr>\n",
       "    <tr>\n",
       "      <th>0</th>\n",
       "      <td>Zero presents... The Masquerade</td>\n",
       "      <td>The 1896</td>\n",
       "      <td>Sat, 6 Apr</td>\n",
       "      <td>919.0</td>\n",
       "    </tr>\n",
       "    <tr>\n",
       "      <th>65</th>\n",
       "      <td>Secret Solstice Pre-Party (Free Entry): Metro ...</td>\n",
       "      <td>Kings Hall - Avant Gardner</td>\n",
       "      <td>Thu, 18 Apr</td>\n",
       "      <td>670.0</td>\n",
       "    </tr>\n",
       "    <tr>\n",
       "      <th>0</th>\n",
       "      <td>Nina Kraviz / James Murphy / Justin Cudmore</td>\n",
       "      <td>Knockdown Center</td>\n",
       "      <td>Sat, 20 Apr</td>\n",
       "      <td>501.0</td>\n",
       "    </tr>\n",
       "    <tr>\n",
       "      <th>89</th>\n",
       "      <td>Stavroz live! presented by Zero</td>\n",
       "      <td>The Williamsburg Hotel</td>\n",
       "      <td>Fri, 12 Apr</td>\n",
       "      <td>481.0</td>\n",
       "    </tr>\n",
       "    <tr>\n",
       "      <th>...</th>\n",
       "      <td>...</td>\n",
       "      <td>...</td>\n",
       "      <td>...</td>\n",
       "      <td>...</td>\n",
       "    </tr>\n",
       "    <tr>\n",
       "      <th>56</th>\n",
       "      <td>420: A Musical Experience</td>\n",
       "      <td>The Kraine Theater</td>\n",
       "      <td>Mon, 22 Apr</td>\n",
       "      <td>NaN</td>\n",
       "    </tr>\n",
       "    <tr>\n",
       "      <th>61</th>\n",
       "      <td>420: A Musical Experience</td>\n",
       "      <td>The Kraine Theater</td>\n",
       "      <td>Tue, 23 Apr</td>\n",
       "      <td>NaN</td>\n",
       "    </tr>\n",
       "    <tr>\n",
       "      <th>75</th>\n",
       "      <td>420: A Musical Experience</td>\n",
       "      <td>The Kraine Theater</td>\n",
       "      <td>Wed, 24 Apr</td>\n",
       "      <td>NaN</td>\n",
       "    </tr>\n",
       "    <tr>\n",
       "      <th>34</th>\n",
       "      <td>Klandestino Brunch with Electronic Music</td>\n",
       "      <td>Avena Downtown</td>\n",
       "      <td>Sat, 27 Apr</td>\n",
       "      <td>NaN</td>\n",
       "    </tr>\n",
       "    <tr>\n",
       "      <th>48</th>\n",
       "      <td>Digital Clippings</td>\n",
       "      <td>Magick City</td>\n",
       "      <td>Sun, 28 Apr</td>\n",
       "      <td>NaN</td>\n",
       "    </tr>\n",
       "  </tbody>\n",
       "</table>\n",
       "<p>606 rows × 4 columns</p>\n",
       "</div>"
      ],
      "text/plain": [
       "                                           Event_Name  \\\n",
       "0            Charlotte de Witte, Monoloc, Victor Ruiz   \n",
       "0                     Zero presents... The Masquerade   \n",
       "65  Secret Solstice Pre-Party (Free Entry): Metro ...   \n",
       "0         Nina Kraviz / James Murphy / Justin Cudmore   \n",
       "89                    Stavroz live! presented by Zero   \n",
       "..                                                ...   \n",
       "56                          420: A Musical Experience   \n",
       "61                          420: A Musical Experience   \n",
       "75                          420: A Musical Experience   \n",
       "34           Klandestino Brunch with Electronic Music   \n",
       "48                                  Digital Clippings   \n",
       "\n",
       "                         Venue   Event_Date  Number_of_Attendees  \n",
       "0                Avant Gardner  Sat, 13 Apr               1800.0  \n",
       "0                     The 1896   Sat, 6 Apr                919.0  \n",
       "65  Kings Hall - Avant Gardner  Thu, 18 Apr                670.0  \n",
       "0             Knockdown Center  Sat, 20 Apr                501.0  \n",
       "89      The Williamsburg Hotel  Fri, 12 Apr                481.0  \n",
       "..                         ...          ...                  ...  \n",
       "56          The Kraine Theater  Mon, 22 Apr                  NaN  \n",
       "61          The Kraine Theater  Tue, 23 Apr                  NaN  \n",
       "75          The Kraine Theater  Wed, 24 Apr                  NaN  \n",
       "34              Avena Downtown  Sat, 27 Apr                  NaN  \n",
       "48                 Magick City  Sun, 28 Apr                  NaN  \n",
       "\n",
       "[606 rows x 4 columns]"
      ]
     },
     "execution_count": 19,
     "metadata": {},
     "output_type": "execute_result"
    }
   ],
   "source": [
    "df_all.sort_values('Number_of_Attendees', ascending=False)"
   ]
  },
  {
   "cell_type": "markdown",
   "metadata": {},
   "source": [
    "## Summary \n",
    "\n",
    "Congratulations! In this lab, you successfully developed a pipeline to scrape a website for concert event information!"
   ]
  }
 ],
 "metadata": {
  "kernelspec": {
   "display_name": "Python 3",
   "language": "python",
   "name": "python3"
  },
  "language_info": {
   "codemirror_mode": {
    "name": "ipython",
    "version": 3
   },
   "file_extension": ".py",
   "mimetype": "text/x-python",
   "name": "python",
   "nbconvert_exporter": "python",
   "pygments_lexer": "ipython3",
   "version": "3.8.5"
  }
 },
 "nbformat": 4,
 "nbformat_minor": 2
}
